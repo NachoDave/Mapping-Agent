{
 "cells": [
  {
   "cell_type": "code",
   "execution_count": null,
   "id": "f148720b",
   "metadata": {},
   "outputs": [],
   "source": [
    "# Define Python function\n",
    "def add_two_numbers(a: int, b: int) -> int:\n",
    "  \"\"\"\n",
    "  Add two numbers\n",
    "\n",
    "  Args:\n",
    "    a: The first integer number\n",
    "    b: The second integer number\n",
    "\n",
    "  Returns:\n",
    "    int: The sum of the two numbers\n",
    "  \"\"\"\n",
    "  return a + b\n",
    "\n",
    "def subtract_two_numbers(a: int, b: int) -> int:\n",
    "  \"\"\"\n",
    "  Subtract number b from a\n",
    "\n",
    "  Args:\n",
    "    a: The first integer number\n",
    "    b: The second integer number\n",
    "\n",
    "  Returns:\n",
    "    int: The substraction of B from A\n",
    "  \"\"\"\n",
    "  return a - b"
   ]
  },
  {
   "cell_type": "code",
   "execution_count": null,
   "id": "c28728e4",
   "metadata": {},
   "outputs": [],
   "source": [
    "import ollama\n",
    "\n",
    "response = ollama.chat(\n",
    "  'mistral',\n",
    "  messages=[{'role': 'user', 'content': 'what is 1 + 2'}],\n",
    "  tools=[add_two_numbers], # Actual function reference\n",
    ")\n",
    "\n",
    "response2 = ollama.chat(\n",
    "  'mistral',\n",
    "  messages=[{'role': 'user', 'content': 'what is 1 - 2'}],\n",
    "  tools=[add_two_numbers], # Actual function reference\n",
    ")"
   ]
  },
  {
   "cell_type": "code",
   "execution_count": null,
   "id": "83609548",
   "metadata": {},
   "outputs": [
    {
     "name": "stdout",
     "output_type": "stream",
     "text": [
      "Function output: 3\n"
     ]
    }
   ],
   "source": [
    "available_functions = {\n",
    "  'add_two_numbers': add_two_numbers,\n",
    "  'subtract_two_numbers': subtract_two_numbers,\n",
    "}\n",
    "\n",
    "for tool in response.message.tool_calls or []:\n",
    "  function_to_call = available_functions.get(tool.function.name)\n",
    "  if function_to_call:\n",
    "    print('Function output:', function_to_call(**tool.function.arguments))\n",
    "  else:\n",
    "    print('Function not found:', tool.function.name)\n",
    "    \n",
    "for tool in response2.message.tool_calls or []:\n",
    "  function_to_call = available_functions.get(tool.function.name)\n",
    "  if function_to_call:\n",
    "    print('Function output:', function_to_call(**tool.function.arguments))\n",
    "  else:\n",
    "    print('Function not found:', tool.function.name)"
   ]
  }
 ],
 "metadata": {
  "kernelspec": {
   "display_name": "mapping_py12",
   "language": "python",
   "name": "python3"
  },
  "language_info": {
   "codemirror_mode": {
    "name": "ipython",
    "version": 3
   },
   "file_extension": ".py",
   "mimetype": "text/x-python",
   "name": "python",
   "nbconvert_exporter": "python",
   "pygments_lexer": "ipython3",
   "version": "3.12.9"
  }
 },
 "nbformat": 4,
 "nbformat_minor": 5
}
