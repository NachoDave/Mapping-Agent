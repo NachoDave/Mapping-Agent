{
 "cells": [
  {
   "cell_type": "code",
   "execution_count": null,
   "metadata": {},
   "outputs": [],
   "source": [
    "import ollama\n",
    "import osmnx as ox\n",
    "import pandas as pd\n",
    "import os\n",
    "import sys\n",
    "\n",
    "src_path = os.path.abspath(os.path.join(os.getcwd(), '..', 'src'))\n",
    "if src_path not in sys.path:\n",
    "    sys.path.append(src_path)\n",
    "\n",
    "from routing import get_continuing_road_path, get_turn_path, get_roundabout_path\n"
   ]
  },
  {
   "cell_type": "code",
   "execution_count": null,
   "metadata": {},
   "outputs": [],
   "source": [
    "INITIAL_PROMPT = INITIAL_PROMPT = \"\"\"\n",
    "You are a navigation decision assistant.\n",
    "\n",
    "You are given:\n",
    "- The **current road name** (e.g., \"High Street\"),\n",
    "- The **next road name** (e.g., \"Station Road\"),\n",
    "- The **current node**, which represents the current geographic position in the road graph (this is a node ID from a road network graph),\n",
    "- A **natural language instruction** (e.g., \"At roundabout take the second exit\", \"Continue straight\", \"Turn right at the junction\").\n",
    "- There may be extra information in the instruction that is not required, such as nearby landmarks. You will need to filter these.\n",
    "\n",
    "Your task is to:\n",
    "1. Choose the correct function to call from the available tools:\n",
    "   - `get_turn_path` for regular left, right, at standard junctions.\n",
    "   - `get_roundabout_path` for instructions involving roundabouts (e.g., \"Take the third exit\").\n",
    "   - `get_continuing_road_path` when the road simply changes name but no actual turn occurs (e.g., \"Continue onto Station Road\").\n",
    "\n",
    "2. Extract all required arguments from the instruction and road names:\n",
    "   - If the instruction mentions a turn, or a mini roundabout,  extract the direction (\"left\", \"right\", \"straight\").\n",
    "   - If the instruction involves a roundabout or roundabout abbreviation (RB, R-bout etc), extract the exit number as an integer (e.g., \"Take the 2nd exit\" → 2).\n",
    "\n",
    "3. Call exactly **one** of the tools with appropriate arguments.\n",
    "   - Use the `current_node` as the starting point in all function calls.\n",
    "   - If none of the tools are suitable, reply with a message explaining why and that the instruction requires human attention.\n",
    "\n",
    "Be precise and cautious. Only call a function if you're confident it matches the instruction.\n",
    "If the instruction is ambiguous, unsupported, or incomplete, do **not** guess — respond clearly that it can't be handled automatically.\n",
    "\"\"\""
   ]
  },
  {
   "cell_type": "code",
   "execution_count": 11,
   "metadata": {},
   "outputs": [],
   "source": [
    "def run_llm(input: dict, prompt: str, tools: list, model_name: str = \"qwen3:8b\"):\n",
    "    \"\"\"_summary_\n",
    "\n",
    "    Args:\n",
    "        input (dict): _description_\n",
    "        prompt (str): _description_\n",
    "        model_name (_type_, optional): _description_. Defaults to \"qwen3:8b\".\n",
    "    \"\"\"\n",
    "\n",
    "    messages = [\n",
    "        {\n",
    "            \"role\": \"system\",\n",
    "            \"content\": prompt\n",
    "        },\n",
    "        {\n",
    "            \"role\": \"user\",\n",
    "            \"content\": (\n",
    "                f\"You are at node {input['current_node']} on {input['current_road']}.\\n\"\n",
    "                f\"The next road is {input['next_road']}.\\n\"\n",
    "                f\"The instruction is: '{input['instruction']}'.\"\n",
    "            )\n",
    "        }\n",
    "    ]\n",
    "\n",
    "    try:\n",
    "        print('Running modle')\n",
    "        response = ollama.chat(\n",
    "            model=model_name,\n",
    "            messages=messages,\n",
    "            tools=tools, # This is where you pass the tool definitions\n",
    "        )\n",
    "        return response\n",
    "    except Exception as e:\n",
    "        print(f\"An error occurred: {e}\")\n",
    "        return None"
   ]
  },
  {
   "cell_type": "code",
   "execution_count": 12,
   "metadata": {},
   "outputs": [
    {
     "name": "stdout",
     "output_type": "stream",
     "text": [
      "Running modle\n"
     ]
    }
   ],
   "source": [
    "node1_2_input = {\n",
    "    \"current_node\": \"23780711\",\n",
    "    \"current_road\": \"Douglas Road\",\n",
    "    \"next_road\": \"Ewell Road\",\n",
    "    \"instruction\": \"left at EOR\"\n",
    "}\n",
    "\n",
    "llm_response = run_llm(\n",
    "    input = node1_2_input, prompt = INITIAL_PROMPT,\n",
    "                        tools = [get_continuing_road_path, get_turn_path, get_roundabout_path]\n",
    "                        )\n"
   ]
  },
  {
   "cell_type": "code",
   "execution_count": 15,
   "metadata": {},
   "outputs": [
    {
     "name": "stdout",
     "output_type": "stream",
     "text": [
      "Running modle\n"
     ]
    }
   ],
   "source": [
    "node1_2_input = {\n",
    "    \"current_node\": \"23780711\",\n",
    "    \"current_road\": \"Douglas Road\",\n",
    "    \"next_road\": \"Ewell Road\",\n",
    "    \"instruction\": \"becomes\"\n",
    "}\n",
    "\n",
    "llm_response_becomes = run_llm(\n",
    "    input = node1_2_input, prompt = INITIAL_PROMPT,\n",
    "                        tools = [get_continuing_road_path, get_turn_path, get_roundabout_path]\n",
    "                        )\n"
   ]
  },
  {
   "cell_type": "code",
   "execution_count": 18,
   "metadata": {},
   "outputs": [
    {
     "name": "stdout",
     "output_type": "stream",
     "text": [
      "Running modle\n"
     ]
    }
   ],
   "source": [
    "node1_2_input = {\n",
    "    \"current_node\": \"23780711\",\n",
    "    \"current_road\": \"Douglas Road\",\n",
    "    \"next_road\": \"Ewell Road\",\n",
    "    \"instruction\": \"at roundabout take 5th exit\"\n",
    "}\n",
    "\n",
    "llm_response_roundabout = run_llm(\n",
    "    input = node1_2_input, prompt = INITIAL_PROMPT,\n",
    "                        tools = [get_continuing_road_path, get_turn_path, get_roundabout_path]\n",
    "                        )"
   ]
  },
  {
   "cell_type": "code",
   "execution_count": 19,
   "metadata": {},
   "outputs": [
    {
     "name": "stdout",
     "output_type": "stream",
     "text": [
      "Running modle\n"
     ]
    }
   ],
   "source": [
    "node1_2_input = {\n",
    "    \"current_node\": \"23780711\",\n",
    "    \"current_road\": \"Douglas Road\",\n",
    "    \"next_road\": \"Ewell Road\",\n",
    "    \"instruction\": \"go backwards then forwards twice\"\n",
    "}\n",
    "\n",
    "llm_response_notsure = run_llm(\n",
    "    input = node1_2_input, prompt = INITIAL_PROMPT,\n",
    "                        tools = [get_continuing_road_path, get_turn_path, get_roundabout_path]\n",
    "                        )"
   ]
  },
  {
   "cell_type": "code",
   "execution_count": 17,
   "metadata": {},
   "outputs": [
    {
     "data": {
      "text/plain": [
       "[ToolCall(function=Function(name='get_continuing_road_path', arguments={'G': 'OSMNX graph', 'current_node': '23780711', 'current_road_name': 'Douglas Road', 'next_road_name': 'Ewell Road'}))]"
      ]
     },
     "execution_count": 17,
     "metadata": {},
     "output_type": "execute_result"
    }
   ],
   "source": [
    "llm_response_becomes.message.tool_calls"
   ]
  },
  {
   "cell_type": "code",
   "execution_count": 14,
   "metadata": {},
   "outputs": [
    {
     "data": {
      "text/plain": [
       "[ToolCall(function=Function(name='get_turn_path', arguments={'G': 'OSMNX_graph', 'current_node': '23780711', 'current_road_name': 'Douglas Road', 'direction': 'left', 'next_road_name': 'Ewell Road'}))]"
      ]
     },
     "execution_count": 14,
     "metadata": {},
     "output_type": "execute_result"
    }
   ],
   "source": [
    "llm_response.message.tool_calls"
   ]
  },
  {
   "cell_type": "code",
   "execution_count": 22,
   "metadata": {},
   "outputs": [],
   "source": [
    "llm_response_notsure.message.tool_calls"
   ]
  },
  {
   "cell_type": "code",
   "execution_count": 21,
   "metadata": {},
   "outputs": [
    {
     "data": {
      "text/plain": [
       "[ToolCall(function=Function(name='get_roundabout_path', arguments={'G': 'OSMNX graph', 'current_node': '23780711', 'current_road_name': 'Douglas Road', 'exit': 5, 'next_road_name': 'Ewell Road'}))]"
      ]
     },
     "execution_count": 21,
     "metadata": {},
     "output_type": "execute_result"
    }
   ],
   "source": [
    "llm_response_roundabout.message.tool_calls"
   ]
  },
  {
   "cell_type": "code",
   "execution_count": null,
   "metadata": {},
   "outputs": [],
   "source": []
  }
 ],
 "metadata": {
  "kernelspec": {
   "display_name": "mapping",
   "language": "python",
   "name": "python3"
  },
  "language_info": {
   "codemirror_mode": {
    "name": "ipython",
    "version": 3
   },
   "file_extension": ".py",
   "mimetype": "text/x-python",
   "name": "python",
   "nbconvert_exporter": "python",
   "pygments_lexer": "ipython3",
   "version": "3.12.9"
  }
 },
 "nbformat": 4,
 "nbformat_minor": 2
}
