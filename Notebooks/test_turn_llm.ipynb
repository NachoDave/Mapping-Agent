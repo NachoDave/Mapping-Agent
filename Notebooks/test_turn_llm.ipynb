{
 "cells": [
  {
   "cell_type": "code",
   "execution_count": 1,
   "metadata": {},
   "outputs": [],
   "source": [
    "import ollama\n",
    "import osmnx as ox\n",
    "import pandas as pd\n",
    "import os\n",
    "import sys\n",
    "\n",
    "src_path = os.path.abspath(os.path.join(os.getcwd(), '..', 'src'))\n",
    "if src_path not in sys.path:\n",
    "    sys.path.append(src_path)\n",
    "\n",
    "from routing import get_continuing_road_path, get_turn_path, get_roundabout_path\n",
    "from llm_agent import *\n"
   ]
  },
  {
   "cell_type": "code",
   "execution_count": 2,
   "metadata": {},
   "outputs": [],
   "source": [
    "node1_2_input = {\n",
    "    \"current_node\": \"23780711\",\n",
    "    \"current_road\": \"Douglas Road\",\n",
    "    \"next_road\": \"Ewell Road\",\n",
    "    \"instruction\": \"Roundabout 1st Exit Left\" #\"Take the second left\",\n",
    "}\n",
    "\n",
    "llm_response = run_llm(\n",
    "    input=node1_2_input,\n",
    "    prompt=INITIAL_PROMPT,\n",
    "    tools=[get_continuing_road_path, get_turn_path, get_roundabout_path],\n",
    ")"
   ]
  },
  {
   "cell_type": "code",
   "execution_count": 15,
   "metadata": {},
   "outputs": [
    {
     "data": {
      "text/plain": [
       "('<think>\\n</think>\\n\\nThe instruction \"Roundabout 1st Exit Left\" involves a roundabout and specifies the exit number. Since the instruction explicitly mentions \"Roundabout,\" we should use the `get_roundabout_path` function. This function is designed to handle instructions involving roundabouts and requires the exit number, current road name, next road name, and current node.\\n\\nHere\\'s why we chose `get_roundabout_path`:\\n- The instruction explicitly mentions \"Roundabout.\"\\n- It specifies the exit number (\"1st Exit\").\\n- It includes the direction (\"Left\"), which is relevant for navigating the roundabout.\\n\\nWe will now call the `get_roundabout_path` function with the provided information.\\n\\n',\n",
       " 'get_roundabout_path',\n",
       " {'G': 'G',\n",
       "  'current_node': 23780711,\n",
       "  'current_road_name': 'Douglas Road',\n",
       "  'exit': 1,\n",
       "  'next_road_name': 'Ewell Road'})"
      ]
     },
     "execution_count": 15,
     "metadata": {},
     "output_type": "execute_result"
    }
   ],
   "source": [
    "llm_response.message.content, llm_response.message.tool_calls[0].function.name, llm_response.message.tool_calls[0].function.arguments"
   ]
  },
  {
   "cell_type": "code",
   "execution_count": 3,
   "metadata": {},
   "outputs": [],
   "source": [
    "instruction = ['EOR left', '2nd left', 'take first right', 'TL Right', 'Firs road on the right', 'Mini R/bout left',\n",
    "               'Roundabout 1st exit left', 'Roundabout 3rd exit ahead', 'RB 1st exit', 'R/Bout left 1st exit',\n",
    "               'becomes', 'After bend becomes',\n",
    "               'Left, right, left, right', 'Turn around', 'Do the okie hokie']"
   ]
  },
  {
   "cell_type": "code",
   "execution_count": 9,
   "metadata": {},
   "outputs": [
    {
     "name": "stdout",
     "output_type": "stream",
     "text": [
      "Instruction: EOR left - Tool call: get_turn_path, Args: {'G': 'G', 'current_node': 23780711, 'current_road_name': 'Douglas Road', 'direction': 'left', 'next_road_name': 'Ewell Road'}\n",
      "Instruction: 2nd left - Tool call: get_turn_path, Args: {'G': 'G', 'current_node': 23780711, 'current_road_name': 'Douglas Road', 'direction': 'left', 'next_road_name': 'Ewell Road'}\n",
      "Instruction: take first right - Tool call: get_turn_path, Args: {'G': 'G', 'current_node': 23780711, 'current_road_name': 'Douglas Road', 'direction': 'right', 'next_road_name': 'Ewell Road'}\n",
      "Instruction: TL Right - Tool call: get_turn_path, Args: {'G': 'G', 'current_node': 23780711, 'current_road_name': 'Douglas Road', 'direction': 'right', 'next_road_name': 'Ewell Road'}\n",
      "Instruction: Firs road on the right - Tool call: get_turn_path, Args: {'G': 'G', 'current_node': 23780711, 'current_road_name': 'Douglas Road', 'direction': 'right', 'next_road_name': 'Ewell Road'}\n",
      "Instruction: Mini R/bout left - Tool call: get_turn_path, Args: {'G': 'G', 'current_node': 23780711, 'current_road_name': 'Douglas Road', 'direction': 'left', 'next_road_name': 'Ewell Road'}\n",
      "Instruction: Roundabout 1st exit left - Tool call: get_roundabout_path, Args: {'G': 'G', 'current_node': 23780711, 'current_road_name': 'Douglas Road', 'exit': 1, 'next_road_name': 'Ewell Road'}\n",
      "Instruction: Roundabout 3rd exit ahead - Tool call: get_roundabout_path, Args: {'G': 'G', 'current_node': 23780711, 'current_road_name': 'Douglas Road', 'exit': 3, 'next_road_name': 'Ewell Road'}\n",
      "Instruction: RB 1st exit - Tool call: get_roundabout_path, Args: {'G': 'G', 'current_node': 23780711, 'current_road_name': 'Douglas Road', 'exit': 1, 'next_road_name': 'Ewell Road'}\n",
      "Instruction: R/Bout left 1st exit - Tool call: get_roundabout_path, Args: {'G': 'G', 'current_node': 23780711, 'current_road_name': 'Douglas Road', 'exit': 1, 'next_road_name': 'Ewell Road'}\n",
      "Instruction: becomes - Tool call: get_continuing_road_path, Args: {'G': 'G', 'current_node': 23780711, 'current_road_name': 'Douglas Road', 'next_road_name': 'Ewell Road'}\n",
      "Instruction: After bend becomes - Tool call: get_continuing_road_path, Args: {'G': 'G', 'current_node': 23780711, 'current_road_name': 'Douglas Road', 'next_road_name': 'Ewell Road'}\n",
      "Instruction: Left, right, left, right - No Tool Calls, Content: <think>\n",
      "</think>\n",
      "\n",
      "The instruction \"Left, right, left, right\" is a sequence of turns, but it does not provide enough clarity or context to determine the exact path or destination. It lacks information about the road names, the number of exits, or any landmarks that could help identify the correct sequence of turns. Additionally, it does not specify whether these turns are at a roundabout or a standard junction. Since the instruction is ambiguous and incomplete, it cannot be handled automatically by any of the provided tools. Therefore, this instruction requires human attention to interpret correctly.\n",
      "Instruction: Turn around - No Tool Calls, Content: <think>\n",
      "</think>\n",
      "\n",
      "The instruction \"Turn around\" indicates that the driver needs to reverse direction, which is not supported by any of the provided functions. The functions available are for left or right turns, continuing on a road, or navigating a roundabout. Since \"Turn around\" involves reversing, it requires human attention and cannot be handled automatically by the tools provided.\n",
      "Instruction: Do the okie hokie - No Tool Calls, Content: <think>\n",
      "</think>\n",
      "\n",
      "The instruction \"Do the okie hokie\" is not a standard or recognizable navigation instruction. It appears to be a playful or humorous phrase rather than a directional command. Since it does not provide any clear indication of a turn, continuation, or roundabout exit, none of the provided functions can be applied automatically. This instruction requires human attention to interpret its meaning in the context of navigation.\n"
     ]
    }
   ],
   "source": [
    "llm_response_list = []\n",
    "for i in instruction:\n",
    "    input = {\n",
    "    \"current_node\": \"23780711\",\n",
    "    \"current_road\": \"Douglas Road\",\n",
    "    \"next_road\": \"Ewell Road\",\n",
    "    \"instruction\": i #\"Take the second left\",\n",
    "    }\n",
    "    r = run_llm(\n",
    "        input = input,\n",
    "        prompt = INITIAL_PROMPT,\n",
    "        tools=[get_continuing_road_path, get_turn_path, get_roundabout_path],\n",
    "    )\n",
    "    llm_response_list.append(r)\n",
    "    try :\n",
    "        print(f'Instruction: {i} - Tool call: {r.message.tool_calls[0].function.name}, Args: {r.message.tool_calls[0].function.arguments}')\n",
    "    except TypeError:\n",
    "        print(f'Instruction: {i} - No Tool Calls, Content: {r.message.content}')"
   ]
  },
  {
   "cell_type": "code",
   "execution_count": 11,
   "metadata": {},
   "outputs": [],
   "source": [
    "llm_response_list\n",
    "\n",
    "import pickle\n",
    "\n",
    "with open('llm_test_out.pkl', 'wb') as f:\n",
    "    pickle.dump(llm_response_list, f)\n"
   ]
  },
  {
   "cell_type": "code",
   "execution_count": 12,
   "metadata": {},
   "outputs": [],
   "source": [
    "with open('llm_test_out.pkl', 'rb') as f:\n",
    "    x = pickle.load(f)"
   ]
  },
  {
   "cell_type": "code",
   "execution_count": 13,
   "metadata": {},
   "outputs": [
    {
     "data": {
      "text/plain": [
       "[ChatResponse(model='qwen3:8b', created_at='2025-06-20T10:38:48.442053Z', done=True, done_reason='stop', total_duration=168174533792, load_duration=1843202000, prompt_eval_count=1471, prompt_eval_duration=48431029375, eval_count=236, eval_duration=117871767750, message=Message(role='assistant', content='<think>\\n</think>\\n\\nThe instruction \"EOR left\" indicates that the user should turn left at the end of the road (EOR stands for \"End of Road\"). This is a standard junction where a left turn is required. \\n\\nSince the instruction involves a turn at the end of the road, the appropriate function to use is `get_turn_path`. This function is designed to handle left, right, or straight turns at standard junctions, including those at the end of roads.\\n\\n### Arguments:\\n- **G**: This is a predefined variable representing the road network graph (e.g., from OSMNX).\\n- **current_road_name**: \"Douglas Road\"\\n- **next_road_name**: \"Ewell Road\"\\n- **current_node**: 23780711\\n- **direction**: \"left\"\\n\\n### Function Call:\\n', images=None, tool_calls=[ToolCall(function=Function(name='get_turn_path', arguments={'G': 'G', 'current_node': 23780711, 'current_road_name': 'Douglas Road', 'direction': 'left', 'next_road_name': 'Ewell Road'}))])),\n",
       " ChatResponse(model='qwen3:8b', created_at='2025-06-20T10:40:11.532913Z', done=True, done_reason='stop', total_duration=83063163750, load_duration=48320500, prompt_eval_count=1471, prompt_eval_duration=1504977333, eval_count=200, eval_duration=81460605083, message=Message(role='assistant', content='<think>\\n</think>\\n\\nI chose the `get_turn_path` function because the instruction \"2nd left\" indicates a left turn at a standard junction. The function is appropriate for handling left, right, or straight turns at standard junctions. The required arguments are:\\n- G (predefined)\\n- current_road_name: \"Douglas Road\"\\n- next_road_name: \"Ewell Road\"\\n- current_node: 23780711\\n- direction: \"left\"\\n\\nThe instruction does not mention a roundabout or a continuation of the road, so `get_roundabout_path` and `get_continuing_road_path` are not applicable here.\\n\\n', images=None, tool_calls=[ToolCall(function=Function(name='get_turn_path', arguments={'G': 'G', 'current_node': 23780711, 'current_road_name': 'Douglas Road', 'direction': 'left', 'next_road_name': 'Ewell Road'}))])),\n",
       " ChatResponse(model='qwen3:8b', created_at='2025-06-20T10:41:28.139706Z', done=True, done_reason='stop', total_duration=76578443250, load_duration=38535500, prompt_eval_count=1471, prompt_eval_duration=1186990750, eval_count=177, eval_duration=75321133834, message=Message(role='assistant', content='<think>\\n</think>\\n\\nThe instruction \"take first right\" indicates a right turn at a standard junction. Since there is no mention of a roundabout or continuing on the same road, the appropriate function to use is `get_turn_path`. \\n\\n- **G** is included as required.\\n- **current_road_name** is \"Douglas Road\".\\n- **next_road_name** is \"Ewell Road\".\\n- **current_node** is 23780711.\\n- **direction** is \"right\".\\n\\nTherefore, the function call is:\\n\\n', images=None, tool_calls=[ToolCall(function=Function(name='get_turn_path', arguments={'G': 'G', 'current_node': 23780711, 'current_road_name': 'Douglas Road', 'direction': 'right', 'next_road_name': 'Ewell Road'}))])),\n",
       " ChatResponse(model='qwen3:8b', created_at='2025-06-20T10:43:26.69008Z', done=True, done_reason='stop', total_duration=114382706667, load_duration=424994042, prompt_eval_count=1470, prompt_eval_duration=1405275709, eval_count=213, eval_duration=112365435458, message=Message(role='assistant', content='<think>\\n</think>\\n\\nThe instruction \"TL Right\" indicates that the user should turn right at a traffic light. This is a standard turn instruction, not involving a roundabout or a continuation of the road. \\n\\n- **Function Choice**: `get_turn_path` is the appropriate tool because it handles turn instructions at standard junctions, including traffic lights.\\n- **Arguments**:\\n  - `G`: This is a predefined variable, so it is included as is.\\n  - `current_road_name`: \"Douglas Road\"\\n  - `next_road_name`: \"Ewell Road\"\\n  - `current_node`: 23780711\\n  - `direction`: \"right\"\\n\\nThus, the function call is:\\n', images=None, tool_calls=[ToolCall(function=Function(name='get_turn_path', arguments={'G': 'G', 'current_node': 23780711, 'current_road_name': 'Douglas Road', 'direction': 'right', 'next_road_name': 'Ewell Road'}))])),\n",
       " ChatResponse(model='qwen3:8b', created_at='2025-06-20T10:45:18.883261Z', done=True, done_reason='stop', total_duration=112159420750, load_duration=75435167, prompt_eval_count=1474, prompt_eval_duration=1645123167, eval_count=178, eval_duration=110393262875, message=Message(role='assistant', content='<think>\\n</think>\\n\\nThe instruction \"First road on the right\" indicates a right turn onto the next road. Since the instruction does not mention a roundabout or any specific exit number, it is a standard right turn. Therefore, the appropriate function to call is `get_turn_path`.\\n\\n- **G**: Predefined as the road network graph.\\n- **current_road_name**: \"Douglas Road\"\\n- **next_road_name**: \"Ewell Road\"\\n- **current_node**: 23780711\\n- **direction**: \"right\"\\n\\n', images=None, tool_calls=[ToolCall(function=Function(name='get_turn_path', arguments={'G': 'G', 'current_node': 23780711, 'current_road_name': 'Douglas Road', 'direction': 'right', 'next_road_name': 'Ewell Road'}))])),\n",
       " ChatResponse(model='qwen3:8b', created_at='2025-06-20T10:47:23.882608Z', done=True, done_reason='stop', total_duration=124961246833, load_duration=33929166, prompt_eval_count=1473, prompt_eval_duration=1696537000, eval_count=198, eval_duration=123185991708, message=Message(role='assistant', content='<think>\\n</think>\\n\\nThe instruction \"Mini R/bout left\" refers to a mini-roundabout and a left turn. Mini-roundabouts are typically treated as standard junctions rather than full roundabouts, and the instruction specifies a left turn. Therefore, the appropriate function to use is `get_turn_path`, which handles left or right turns at standard junctions.\\n\\nThe required arguments are:\\n- `G` (predefined)\\n- `current_road_name` = \"Douglas Road\"\\n- `next_road_name` = \"Ewell Road\"\\n- `current_node` = 23780711\\n- `direction` = \"left\"\\n\\n', images=None, tool_calls=[ToolCall(function=Function(name='get_turn_path', arguments={'G': 'G', 'current_node': 23780711, 'current_road_name': 'Douglas Road', 'direction': 'left', 'next_road_name': 'Ewell Road'}))])),\n",
       " ChatResponse(model='qwen3:8b', created_at='2025-06-20T10:49:37.300999Z', done=True, done_reason='stop', total_duration=133386682875, load_duration=71154916, prompt_eval_count=1475, prompt_eval_duration=1790925625, eval_count=238, eval_duration=131475639125, message=Message(role='assistant', content='<think>\\n</think>\\n\\nThe instruction \"Roundabout 1st exit left\" indicates that the user is entering a roundabout and needs to take the first exit to the left. This is a clear case of a roundabout instruction, where the user is explicitly told to take the first exit from the roundabout, and the direction of the turn is specified as \"left.\" \\n\\nSince the instruction involves a roundabout and specifies the exit number, the appropriate function to use is `get_roundabout_path`. The required parameters are:\\n- `G`: Predefined as the road network graph.\\n- `current_road_name`: \"Douglas Road\"\\n- `next_road_name`: \"Ewell Road\"\\n- `current_node`: 23780711\\n- `exit`: 1 (the first exit)\\n\\nThus, the function call is:\\n\\n', images=None, tool_calls=[ToolCall(function=Function(name='get_roundabout_path', arguments={'G': 'G', 'current_node': 23780711, 'current_road_name': 'Douglas Road', 'exit': 1, 'next_road_name': 'Ewell Road'}))])),\n",
       " ChatResponse(model='qwen3:8b', created_at='2025-06-20T10:50:47.255876Z', done=True, done_reason='stop', total_duration=69914363000, load_duration=37474708, prompt_eval_count=1475, prompt_eval_duration=1018493458, eval_count=207, eval_duration=68826910250, message=Message(role='assistant', content='<think>\\n</think>\\n\\nI chose the `get_roundabout_path` function because the instruction explicitly mentions a roundabout and specifies the exit number (\"3rd exit\"). This is a classic roundabout instruction, and the function is designed to handle such cases by determining the correct exit based on the exit number, current road name, and next road name. \\n\\nThe arguments extracted from the instruction are:\\n- `G` (predefined)\\n- `current_road_name` = \"Douglas Road\"\\n- `next_road_name` = \"Ewell Road\"\\n- `current_node` = 23780711\\n- `exit` = 3\\n\\nThus, the function call is:\\n\\n', images=None, tool_calls=[ToolCall(function=Function(name='get_roundabout_path', arguments={'G': 'G', 'current_node': 23780711, 'current_road_name': 'Douglas Road', 'exit': 3, 'next_road_name': 'Ewell Road'}))])),\n",
       " ChatResponse(model='qwen3:8b', created_at='2025-06-20T10:51:24.493765Z', done=True, done_reason='stop', total_duration=37215032625, load_duration=72835542, prompt_eval_count=1473, prompt_eval_duration=871023250, eval_count=142, eval_duration=36175624625, message=Message(role='assistant', content='<think>\\n</think>\\n\\nI chose the `get_roundabout_path` function because the instruction explicitly mentions \"RB,\" which stands for roundabout. The instruction also specifies \"1st exit,\" which indicates the exit number from the roundabout. This matches the requirements for the `get_roundabout_path` function, which is designed to handle roundabout navigation based on exit numbers.\\n\\n### Function Call:\\n', images=None, tool_calls=[ToolCall(function=Function(name='get_roundabout_path', arguments={'G': 'G', 'current_node': 23780711, 'current_road_name': 'Douglas Road', 'exit': 1, 'next_road_name': 'Ewell Road'}))])),\n",
       " ChatResponse(model='qwen3:8b', created_at='2025-06-20T10:52:22.836489Z', done=True, done_reason='stop', total_duration=58318751000, load_duration=51789083, prompt_eval_count=1476, prompt_eval_duration=1140902292, eval_count=204, eval_duration=57093652083, message=Message(role='assistant', content='<think>\\n</think>\\n\\nThe instruction \"R/Bout left 1st exit\" refers to a roundabout and specifies taking the first exit after turning left. This matches the criteria for using the `get_roundabout_path` function, as it explicitly mentions a roundabout and includes an exit number. \\n\\n- **G** is included as a required argument.\\n- **current_road_name** is \"Douglas Road\".\\n- **next_road_name** is \"Ewell Road\".\\n- **current_node** is 23780711.\\n- **exit** is 1 (as specified by \"1st exit\").\\n\\nThus, the function call is appropriate for this instruction.\\n\\n', images=None, tool_calls=[ToolCall(function=Function(name='get_roundabout_path', arguments={'G': 'G', 'current_node': 23780711, 'current_road_name': 'Douglas Road', 'exit': 1, 'next_road_name': 'Ewell Road'}))])),\n",
       " ChatResponse(model='qwen3:8b', created_at='2025-06-20T10:52:58.118979Z', done=True, done_reason='stop', total_duration=35263411584, load_duration=50896625, prompt_eval_count=1470, prompt_eval_duration=918720875, eval_count=128, eval_duration=34240501917, message=Message(role='assistant', content='<think>\\n</think>\\n\\nThe instruction \"becomes\" indicates that the road name is changing from \"Douglas Road\" to \"Ewell Road\" without any actual turn or intersection. This is a case of a road continuing into another road with a different name. Therefore, the appropriate function to use is `get_continuing_road_path`.\\n\\n', images=None, tool_calls=[ToolCall(function=Function(name='get_continuing_road_path', arguments={'G': 'G', 'current_node': 23780711, 'current_road_name': 'Douglas Road', 'next_road_name': 'Ewell Road'}))])),\n",
       " ChatResponse(model='qwen3:8b', created_at='2025-06-20T10:53:44.002898Z', done=True, done_reason='stop', total_duration=45845199166, load_duration=37763291, prompt_eval_count=1471, prompt_eval_duration=829411833, eval_count=190, eval_duration=44953206250, message=Message(role='assistant', content='<think>\\n</think>\\n\\nThe instruction \"After bend becomes\" indicates that the road is changing name as the driver continues straight, without making a turn. This is a case of a road continuing into another road with a different name, which is best handled by the `get_continuing_road_path` function.\\n\\n- **Function Chosen**: `get_continuing_road_path`\\n- **Reason**: The instruction does not involve a turn or a roundabout, but rather a continuation of the road with a name change. This matches the description of the `get_continuing_road_path` function, which is used for such scenarios.\\n\\n### Function Call:\\n', images=None, tool_calls=[ToolCall(function=Function(name='get_continuing_road_path', arguments={'G': 'G', 'current_node': 23780711, 'current_road_name': 'Douglas Road', 'next_road_name': 'Ewell Road'}))])),\n",
       " ChatResponse(model='qwen3:8b', created_at='2025-06-20T10:54:13.936166Z', done=True, done_reason='stop', total_duration=29902523875, load_duration=43496459, prompt_eval_count=1475, prompt_eval_duration=1173020875, eval_count=115, eval_duration=28620603333, message=Message(role='assistant', content='<think>\\n</think>\\n\\nThe instruction \"Left, right, left, right\" is a sequence of turns, but it does not provide enough clarity or context to determine the exact path or destination. It lacks information about the road names, the number of exits, or any landmarks that could help identify the correct sequence of turns. Additionally, it does not specify whether these turns are at a roundabout or a standard junction. Since the instruction is ambiguous and incomplete, it cannot be handled automatically by any of the provided tools. Therefore, this instruction requires human attention to interpret correctly.', images=None, tool_calls=None)),\n",
       " ChatResponse(model='qwen3:8b', created_at='2025-06-20T10:54:32.894009Z', done=True, done_reason='stop', total_duration=18861507125, load_duration=93623291, prompt_eval_count=1470, prompt_eval_duration=1092699875, eval_count=74, eval_duration=17637141958, message=Message(role='assistant', content='<think>\\n</think>\\n\\nThe instruction \"Turn around\" indicates that the driver needs to reverse direction, which is not supported by any of the provided functions. The functions available are for left or right turns, continuing on a road, or navigating a roundabout. Since \"Turn around\" involves reversing, it requires human attention and cannot be handled automatically by the tools provided.', images=None, tool_calls=None)),\n",
       " ChatResponse(model='qwen3:8b', created_at='2025-06-20T10:54:55.548185Z', done=True, done_reason='stop', total_duration=22625634208, load_duration=36194208, prompt_eval_count=1474, prompt_eval_duration=818824292, eval_count=83, eval_duration=21734143042, message=Message(role='assistant', content='<think>\\n</think>\\n\\nThe instruction \"Do the okie hokie\" is not a standard or recognizable navigation instruction. It appears to be a playful or humorous phrase rather than a directional command. Since it does not provide any clear indication of a turn, continuation, or roundabout exit, none of the provided functions can be applied automatically. This instruction requires human attention to interpret its meaning in the context of navigation.', images=None, tool_calls=None))]"
      ]
     },
     "execution_count": 13,
     "metadata": {},
     "output_type": "execute_result"
    }
   ],
   "source": [
    "x"
   ]
  },
  {
   "cell_type": "code",
   "execution_count": null,
   "metadata": {},
   "outputs": [],
   "source": [
    "INITIAL_PROMPT = INITIAL_PROMPT = \"\"\"\n",
    "You are a navigation decision assistant.\n",
    "\n",
    "You are given:\n",
    "- The **current road name** (e.g., \"High Street\"),\n",
    "- The **next road name** (e.g., \"Station Road\"),\n",
    "- The **current node**, which represents the current geographic position in the road graph (this is a node ID from a road network graph),\n",
    "- A **natural language instruction** (e.g., \"At roundabout take the second exit\", \"Continue straight\", \"Turn right at the junction\").\n",
    "- There may be extra information in the instruction that is not required, such as nearby landmarks. You will need to filter these.\n",
    "\n",
    "Your task is to:\n",
    "1. Choose the correct function to call from the available tools:\n",
    "   - `get_turn_path` for regular left, right, at standard junctions.\n",
    "   - `get_roundabout_path` for instructions involving roundabouts (e.g., \"Take the third exit\").\n",
    "   - `get_continuing_road_path` when the road simply changes name but no actual turn occurs (e.g., \"Continue onto Station Road\").\n",
    "\n",
    "2. Extract all required arguments from the instruction and road names:\n",
    "   - If the instruction mentions a turn, or a mini roundabout,  extract the direction (\"left\", \"right\", \"straight\").\n",
    "   - If the instruction involves a roundabout or roundabout abbreviation (RB, R-bout etc), extract the exit number as an integer (e.g., \"Take the 2nd exit\" → 2).\n",
    "\n",
    "3. Call exactly **one** of the tools with appropriate arguments.\n",
    "   - Use the `current_node` as the starting point in all function calls.\n",
    "   - If none of the tools are suitable, reply with a message explaining why and that the instruction requires human attention.\n",
    "\n",
    "Be precise and cautious. Only call a function if you're confident it matches the instruction.\n",
    "If the instruction is ambiguous, unsupported, or incomplete, do **not** guess — respond clearly that it can't be handled automatically.\n",
    "\"\"\""
   ]
  },
  {
   "cell_type": "code",
   "execution_count": 11,
   "metadata": {},
   "outputs": [],
   "source": [
    "def run_llm(input: dict, prompt: str, tools: list, model_name: str = \"qwen3:8b\"):\n",
    "    \"\"\"_summary_\n",
    "\n",
    "    Args:\n",
    "        input (dict): _description_\n",
    "        prompt (str): _description_\n",
    "        model_name (_type_, optional): _description_. Defaults to \"qwen3:8b\".\n",
    "    \"\"\"\n",
    "\n",
    "    messages = [\n",
    "        {\n",
    "            \"role\": \"system\",\n",
    "            \"content\": prompt\n",
    "        },\n",
    "        {\n",
    "            \"role\": \"user\",\n",
    "            \"content\": (\n",
    "                f\"You are at node {input['current_node']} on {input['current_road']}.\\n\"\n",
    "                f\"The next road is {input['next_road']}.\\n\"\n",
    "                f\"The instruction is: '{input['instruction']}'.\"\n",
    "            )\n",
    "        }\n",
    "    ]\n",
    "\n",
    "    try:\n",
    "        print('Running modle')\n",
    "        response = ollama.chat(\n",
    "            model=model_name,\n",
    "            messages=messages,\n",
    "            tools=tools, # This is where you pass the tool definitions\n",
    "        )\n",
    "        return response\n",
    "    except Exception as e:\n",
    "        print(f\"An error occurred: {e}\")\n",
    "        return None"
   ]
  },
  {
   "cell_type": "code",
   "execution_count": 12,
   "metadata": {},
   "outputs": [
    {
     "name": "stdout",
     "output_type": "stream",
     "text": [
      "Running modle\n"
     ]
    }
   ],
   "source": [
    "node1_2_input = {\n",
    "    \"current_node\": \"23780711\",\n",
    "    \"current_road\": \"Douglas Road\",\n",
    "    \"next_road\": \"Ewell Road\",\n",
    "    \"instruction\": \"left at EOR\"\n",
    "}\n",
    "\n",
    "llm_response = run_llm(\n",
    "    input = node1_2_input, prompt = INITIAL_PROMPT,\n",
    "                        tools = [get_continuing_road_path, get_turn_path, get_roundabout_path]\n",
    "                        )\n"
   ]
  },
  {
   "cell_type": "code",
   "execution_count": 15,
   "metadata": {},
   "outputs": [
    {
     "name": "stdout",
     "output_type": "stream",
     "text": [
      "Running modle\n"
     ]
    }
   ],
   "source": [
    "node1_2_input = {\n",
    "    \"current_node\": \"23780711\",\n",
    "    \"current_road\": \"Douglas Road\",\n",
    "    \"next_road\": \"Ewell Road\",\n",
    "    \"instruction\": \"becomes\"\n",
    "}\n",
    "\n",
    "llm_response_becomes = run_llm(\n",
    "    input = node1_2_input, prompt = INITIAL_PROMPT,\n",
    "                        tools = [get_continuing_road_path, get_turn_path, get_roundabout_path]\n",
    "                        )\n"
   ]
  },
  {
   "cell_type": "code",
   "execution_count": 18,
   "metadata": {},
   "outputs": [
    {
     "name": "stdout",
     "output_type": "stream",
     "text": [
      "Running modle\n"
     ]
    }
   ],
   "source": [
    "node1_2_input = {\n",
    "    \"current_node\": \"23780711\",\n",
    "    \"current_road\": \"Douglas Road\",\n",
    "    \"next_road\": \"Ewell Road\",\n",
    "    \"instruction\": \"at roundabout take 5th exit\"\n",
    "}\n",
    "\n",
    "llm_response_roundabout = run_llm(\n",
    "    input = node1_2_input, prompt = INITIAL_PROMPT,\n",
    "                        tools = [get_continuing_road_path, get_turn_path, get_roundabout_path]\n",
    "                        )"
   ]
  },
  {
   "cell_type": "code",
   "execution_count": 19,
   "metadata": {},
   "outputs": [
    {
     "name": "stdout",
     "output_type": "stream",
     "text": [
      "Running modle\n"
     ]
    }
   ],
   "source": [
    "node1_2_input = {\n",
    "    \"current_node\": \"23780711\",\n",
    "    \"current_road\": \"Douglas Road\",\n",
    "    \"next_road\": \"Ewell Road\",\n",
    "    \"instruction\": \"go backwards then forwards twice\"\n",
    "}\n",
    "\n",
    "llm_response_notsure = run_llm(\n",
    "    input = node1_2_input, prompt = INITIAL_PROMPT,\n",
    "                        tools = [get_continuing_road_path, get_turn_path, get_roundabout_path]\n",
    "                        )"
   ]
  },
  {
   "cell_type": "code",
   "execution_count": 17,
   "metadata": {},
   "outputs": [
    {
     "data": {
      "text/plain": [
       "[ToolCall(function=Function(name='get_continuing_road_path', arguments={'G': 'OSMNX graph', 'current_node': '23780711', 'current_road_name': 'Douglas Road', 'next_road_name': 'Ewell Road'}))]"
      ]
     },
     "execution_count": 17,
     "metadata": {},
     "output_type": "execute_result"
    }
   ],
   "source": [
    "llm_response_becomes.message.tool_calls"
   ]
  },
  {
   "cell_type": "code",
   "execution_count": 14,
   "metadata": {},
   "outputs": [
    {
     "data": {
      "text/plain": [
       "[ToolCall(function=Function(name='get_turn_path', arguments={'G': 'OSMNX_graph', 'current_node': '23780711', 'current_road_name': 'Douglas Road', 'direction': 'left', 'next_road_name': 'Ewell Road'}))]"
      ]
     },
     "execution_count": 14,
     "metadata": {},
     "output_type": "execute_result"
    }
   ],
   "source": [
    "llm_response.message.tool_calls"
   ]
  },
  {
   "cell_type": "code",
   "execution_count": 22,
   "metadata": {},
   "outputs": [],
   "source": [
    "llm_response_notsure.message.tool_calls"
   ]
  },
  {
   "cell_type": "code",
   "execution_count": 21,
   "metadata": {},
   "outputs": [
    {
     "data": {
      "text/plain": [
       "[ToolCall(function=Function(name='get_roundabout_path', arguments={'G': 'OSMNX graph', 'current_node': '23780711', 'current_road_name': 'Douglas Road', 'exit': 5, 'next_road_name': 'Ewell Road'}))]"
      ]
     },
     "execution_count": 21,
     "metadata": {},
     "output_type": "execute_result"
    }
   ],
   "source": [
    "llm_response_roundabout.message.tool_calls"
   ]
  },
  {
   "cell_type": "code",
   "execution_count": null,
   "metadata": {},
   "outputs": [],
   "source": []
  }
 ],
 "metadata": {
  "kernelspec": {
   "display_name": "mapping",
   "language": "python",
   "name": "python3"
  },
  "language_info": {
   "codemirror_mode": {
    "name": "ipython",
    "version": 3
   },
   "file_extension": ".py",
   "mimetype": "text/x-python",
   "name": "python",
   "nbconvert_exporter": "python",
   "pygments_lexer": "ipython3",
   "version": "3.12.9"
  }
 },
 "nbformat": 4,
 "nbformat_minor": 2
}
