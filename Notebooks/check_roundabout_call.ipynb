{
 "cells": [
  {
   "cell_type": "code",
   "execution_count": 1,
   "metadata": {},
   "outputs": [],
   "source": [
    "import os\n",
    "import sys\n",
    "import osmnx as ox\n",
    "# Add the src folder to the Python path\n",
    "src_path = os.path.abspath(os.path.join(os.getcwd(), '..', 'src'))\n",
    "if src_path not in sys.path:\n",
    "    sys.path.insert(0, src_path)\n",
    "from routing import get_nodes_on_road, get_roundabout_path"
   ]
  },
  {
   "cell_type": "code",
   "execution_count": 2,
   "metadata": {},
   "outputs": [],
   "source": [
    "G = ox.load_graphml(\"../data/tolworth.graphml\")"
   ]
  },
  {
   "cell_type": "code",
   "execution_count": 4,
   "metadata": {},
   "outputs": [
    {
     "data": {
      "text/plain": [
       "[1736768194,\n",
       " 7912974303,\n",
       " 2578590308,\n",
       " 2578590373,\n",
       " 304081,\n",
       " 6484459828,\n",
       " 6484459839,\n",
       " 1736768193]"
      ]
     },
     "execution_count": 4,
     "metadata": {},
     "output_type": "execute_result"
    }
   ],
   "source": [
    "#current_road_name: str, next_road_name: str, current_node: int, exit: int\n",
    "\n",
    "kwargs = {'current_node': 1736768194, 'current_road_name': 'Kingsdowne Road', 'exit': 3, 'next_road_name': 'Upper Brighton Road'}\n",
    "x = get_roundabout_path(G, 'Kingsdowne Road', 'Upper Brighton Road', 1736768194, 3)\n",
    "x"
   ]
  },
  {
   "cell_type": "code",
   "execution_count": 8,
   "metadata": {},
   "outputs": [],
   "source": [
    "import networkx as nx\n",
    "\n",
    "def extract_route_edge_features(G: nx.MultiDiGraph, node_list: list) -> list:\n",
    "    \"\"\"\n",
    "    Given a graph and a list of node IDs, extract descriptive edge features for LLM input.\n",
    "\n",
    "    Returns:\n",
    "        List[dict]: One dict per edge with key metadata fields.\n",
    "    \"\"\"\n",
    "    edge_descriptions = []\n",
    "\n",
    "    for u, v in zip(node_list[:-1], node_list[1:]):\n",
    "        if not G.has_edge(u, v):\n",
    "            raise ValueError(f\"No edge between {u} and {v}\")\n",
    "        \n",
    "        edge_data = G.get_edge_data(u, v)\n",
    "        first_key = next(iter(edge_data))\n",
    "        data = edge_data[first_key]\n",
    "\n",
    "        desc = {\n",
    "            \"from_node\": u,\n",
    "            \"to_node\": v,\n",
    "            \"name\": data.get(\"name\", \"unknown\"),\n",
    "            \"highway\": data.get(\"highway\", \"unknown\"),\n",
    "            \"length_m\": data.get(\"length\", None),\n",
    "            \"oneway\": data.get(\"oneway\", False),\n",
    "            \"maxspeed\": data.get(\"maxspeed\", None),\n",
    "            \"lanes\": data.get(\"lanes\", None),\n",
    "            \"roundabout\": data.get(\"junction\") == \"roundabout\",\n",
    "            \"bridge\": data.get(\"bridge\", False),\n",
    "            \"tunnel\": data.get(\"tunnel\", False),\n",
    "        }\n",
    "\n",
    "        edge_descriptions.append(desc)\n",
    "\n",
    "    return edge_descriptions\n"
   ]
  },
  {
   "cell_type": "code",
   "execution_count": 9,
   "metadata": {},
   "outputs": [],
   "source": [
    "edges = extract_route_edge_features(G, x)"
   ]
  },
  {
   "cell_type": "code",
   "execution_count": 10,
   "metadata": {},
   "outputs": [
    {
     "data": {
      "text/plain": [
       "[{'from_node': 1736768194,\n",
       "  'to_node': 7912974303,\n",
       "  'name': 'Kingsdowne Road',\n",
       "  'highway': 'primary',\n",
       "  'length_m': 39.42167692063932,\n",
       "  'oneway': False,\n",
       "  'maxspeed': '20 mph',\n",
       "  'lanes': '2',\n",
       "  'roundabout': False,\n",
       "  'bridge': False,\n",
       "  'tunnel': False},\n",
       " {'from_node': 7912974303,\n",
       "  'to_node': 2578590308,\n",
       "  'name': 'Kingsdowne Road',\n",
       "  'highway': 'primary',\n",
       "  'length_m': 10.069677483232956,\n",
       "  'oneway': False,\n",
       "  'maxspeed': '20 mph',\n",
       "  'lanes': '2',\n",
       "  'roundabout': False,\n",
       "  'bridge': False,\n",
       "  'tunnel': False},\n",
       " {'from_node': 2578590308,\n",
       "  'to_node': 2578590373,\n",
       "  'name': 'Kingsdowne Road',\n",
       "  'highway': 'primary',\n",
       "  'length_m': 319.3960084649875,\n",
       "  'oneway': False,\n",
       "  'maxspeed': '20 mph',\n",
       "  'lanes': '2',\n",
       "  'roundabout': False,\n",
       "  'bridge': False,\n",
       "  'tunnel': False},\n",
       " {'from_node': 2578590373,\n",
       "  'to_node': 304081,\n",
       "  'name': 'Upper Brighton Road',\n",
       "  'highway': 'primary',\n",
       "  'length_m': 10.386977351569735,\n",
       "  'oneway': True,\n",
       "  'maxspeed': '20 mph',\n",
       "  'lanes': '1',\n",
       "  'roundabout': True,\n",
       "  'bridge': False,\n",
       "  'tunnel': False},\n",
       " {'from_node': 304081,\n",
       "  'to_node': 6484459828,\n",
       "  'name': 'Upper Brighton Road',\n",
       "  'highway': 'primary',\n",
       "  'length_m': 10.876064285090559,\n",
       "  'oneway': True,\n",
       "  'maxspeed': '20 mph',\n",
       "  'lanes': None,\n",
       "  'roundabout': True,\n",
       "  'bridge': False,\n",
       "  'tunnel': False},\n",
       " {'from_node': 6484459828,\n",
       "  'to_node': 6484459839,\n",
       "  'name': 'Upper Brighton Road',\n",
       "  'highway': 'primary',\n",
       "  'length_m': 11.099425402443622,\n",
       "  'oneway': True,\n",
       "  'maxspeed': '20 mph',\n",
       "  'lanes': None,\n",
       "  'roundabout': True,\n",
       "  'bridge': False,\n",
       "  'tunnel': False},\n",
       " {'from_node': 6484459839,\n",
       "  'to_node': 1736768193,\n",
       "  'name': 'Upper Brighton Road',\n",
       "  'highway': 'primary',\n",
       "  'length_m': 163.06709797582545,\n",
       "  'oneway': False,\n",
       "  'maxspeed': '20 mph',\n",
       "  'lanes': '2',\n",
       "  'roundabout': False,\n",
       "  'bridge': False,\n",
       "  'tunnel': False}]"
      ]
     },
     "execution_count": 10,
     "metadata": {},
     "output_type": "execute_result"
    }
   ],
   "source": [
    "edges"
   ]
  },
  {
   "cell_type": "code",
   "execution_count": 17,
   "metadata": {},
   "outputs": [
    {
     "data": {
      "text/plain": [
       "['a', 'b']"
      ]
     },
     "execution_count": 17,
     "metadata": {},
     "output_type": "execute_result"
    }
   ],
   "source": [
    "x = {'a' : 1, 'b' : 2}\n",
    "[x for x in x.keys()]"
   ]
  },
  {
   "cell_type": "code",
   "execution_count": 24,
   "metadata": {},
   "outputs": [
    {
     "data": {
      "text/plain": [
       "{'access',\n",
       " 'bridge',\n",
       " 'est_width',\n",
       " 'geometry',\n",
       " 'highway',\n",
       " 'junction',\n",
       " 'lanes',\n",
       " 'length',\n",
       " 'maxspeed',\n",
       " 'name',\n",
       " 'oneway',\n",
       " 'osmid',\n",
       " 'ref',\n",
       " 'reversed',\n",
       " 'tunnel',\n",
       " 'width'}"
      ]
     },
     "execution_count": 24,
     "metadata": {},
     "output_type": "execute_result"
    }
   ],
   "source": [
    "edge_attr = set()\n",
    "for u, v, k, data in list(G.edges(keys=True, data=True))[:5000]:\n",
    "    #print(f\"Edge {u} → {v} (key {k}):\\n\", data, \"\\n\")\n",
    "    for xx in (d for d in data.keys()):\n",
    "        edge_attr.add(xx)\n",
    "\n",
    "edge_attr"
   ]
  }
 ],
 "metadata": {
  "kernelspec": {
   "display_name": "mapping",
   "language": "python",
   "name": "python3"
  },
  "language_info": {
   "codemirror_mode": {
    "name": "ipython",
    "version": 3
   },
   "file_extension": ".py",
   "mimetype": "text/x-python",
   "name": "python",
   "nbconvert_exporter": "python",
   "pygments_lexer": "ipython3",
   "version": "3.12.9"
  }
 },
 "nbformat": 4,
 "nbformat_minor": 2
}
