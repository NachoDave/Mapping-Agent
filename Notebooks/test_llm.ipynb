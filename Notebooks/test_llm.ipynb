{
 "cells": [
  {
   "cell_type": "markdown",
   "id": "433b7109",
   "metadata": {},
   "source": [
    "## Note book where I can open a connection to an LLM and give prompts"
   ]
  },
  {
   "cell_type": "code",
   "execution_count": 38,
   "id": "df820906",
   "metadata": {},
   "outputs": [],
   "source": [
    "# Load Libraries\n",
    "import osmnx as ox\n",
    "import networkx as nx\n",
    "import dash_leaflet as dl\n",
    "from jupyter_dash import JupyterDash\n",
    "from dash import html\n",
    "import dash\n",
    "import json\n"
   ]
  },
  {
   "cell_type": "code",
   "execution_count": 2,
   "id": "82ea3712",
   "metadata": {},
   "outputs": [
    {
     "name": "stdout",
     "output_type": "stream",
     "text": [
      " The sky appears blue because of a process called Rayleigh scattering. As sunlight, which is made up of different wavelengths of light, travels through Earth's atmosphere, it interacts with molecules and particles in the air like nitrogen and oxygen. Blue light has shorter wavelengths and gets scattered more easily than other colors due to its energy level differences. This scattered blue light then reaches our eyes from all directions, giving us the overall impression of a blue sky. At sunrise or sunset, the sky can appear red or orange because those longer wavelengths are not absorbed or scattered as much during these hours when the sun is lower in the sky.\n",
      " The sky appears blue because of a process called Rayleigh scattering. As sunlight, which is made up of different wavelengths of light, travels through Earth's atmosphere, it interacts with molecules and particles in the air like nitrogen and oxygen. Blue light has shorter wavelengths and gets scattered more easily than other colors due to its energy level differences. This scattered blue light then reaches our eyes from all directions, giving us the overall impression of a blue sky. At sunrise or sunset, the sky can appear red or orange because those longer wavelengths are not absorbed or scattered as much during these hours when the sun is lower in the sky.\n"
     ]
    }
   ],
   "source": [
    "from ollama import chat\n",
    "from ollama import ChatResponse\n",
    "\n",
    "response: ChatResponse = chat(model='mistral', messages=[\n",
    "  {\n",
    "    'role': 'user',\n",
    "    'content': 'Why is the sky blue?',\n",
    "  },\n",
    "])\n",
    "print(response['message']['content'])\n",
    "# or access fields directly from the response object\n",
    "print(response.message.content)"
   ]
  },
  {
   "cell_type": "code",
   "execution_count": 7,
   "id": "e7310b28",
   "metadata": {},
   "outputs": [
    {
     "name": "stdout",
     "output_type": "stream",
     "text": [
      " The sky appears blue due to a process called Rayleigh scattering. When sunlight, which is made up of different colors, travels through the atmosphere, it interacts with molecules and small particles in the air like nitrogen and oxygen. Blue light has shorter wavelengths and gets scattered more because it fits easily into the gaps between these molecules and particles. The blue light scatters in all directions, creating a blue sky for us to see. This is also why the sun looks red or orange during sunrise or sunset: At those times of day, sunlight has to pass through more of Earth's atmosphere, which preferentially scatters shorter wavelengths (blue and green), leaving the longer wavelengths like red, orange, and yellow to reach our eyes."
     ]
    }
   ],
   "source": [
    "from ollama import chat\n",
    "\n",
    "stream = chat(\n",
    "    model='mistral',\n",
    "    messages=[{'role': 'user', 'content': 'Why is the sky blue?'}],\n",
    "    stream=True,\n",
    ")\n",
    "\n",
    "for chunk in stream:\n",
    "  print(chunk['message']['content'], end='', flush=True)"
   ]
  },
  {
   "cell_type": "code",
   "execution_count": 2,
   "id": "4158c05d",
   "metadata": {},
   "outputs": [
    {
     "name": "stdout",
     "output_type": "stream",
     "text": [
      " Sorry, I didn't understand your question. Could you please clarify or rephrase it? I'm here to help! If you have any other questions about travel, weather, or culture in Tokyo, feel free to ask!\n",
      "\n"
     ]
    }
   ],
   "source": [
    "from ollama import chat\n",
    "\n",
    "model = 'mistral'\n",
    "\n",
    "messages = [\n",
    "  {\n",
    "    'role': 'user',\n",
    "    'content': 'Why is the sky blue?',\n",
    "  },\n",
    "  {\n",
    "    'role': 'assistant',\n",
    "    'content': \"The sky is blue because of the way the Earth's atmosphere scatters sunlight.\",\n",
    "  },\n",
    "  {\n",
    "    'role': 'user',\n",
    "    'content': 'What is the weather in Tokyo?',\n",
    "  },\n",
    "  {\n",
    "    'role': 'assistant',\n",
    "    'content': 'The weather in Tokyo is typically warm and humid during the summer months, with temperatures often exceeding 30°C (86°F). The city experiences a rainy season from June to September, with heavy rainfall and occasional typhoons. Winter is mild, with temperatures rarely dropping below freezing. The city is known for its high-tech and vibrant culture, with many popular tourist attractions such as the Tokyo Tower, Senso-ji Temple, and the bustling Shibuya district.',\n",
    "  },\n",
    "]\n",
    "\n",
    "#while True:\n",
    "user_input = input('Chat with history: ')\n",
    "response = chat(\n",
    "  model,\n",
    "  messages=[*messages, {'role': 'user', 'content': user_input}],\n",
    ")\n",
    "\n",
    "  # Add the response to the messages to maintain the history\n",
    "messages += [\n",
    "  {'role': 'user', 'content': user_input},\n",
    "  {'role': 'assistant', 'content': response.message.content},\n",
    "]\n",
    "print(response.message.content + '\\n')"
   ]
  },
  {
   "cell_type": "code",
   "execution_count": 4,
   "id": "48ac7352",
   "metadata": {},
   "outputs": [
    {
     "data": {
      "text/plain": [
       "[{'role': 'user', 'content': 'Why is the sky blue?'},\n",
       " {'role': 'assistant',\n",
       "  'content': \"The sky is blue because of the way the Earth's atmosphere scatters sunlight.\"},\n",
       " {'role': 'user', 'content': 'What is the weather in Tokyo?'},\n",
       " {'role': 'assistant',\n",
       "  'content': 'The weather in Tokyo is typically warm and humid during the summer months, with temperatures often exceeding 30°C (86°F). The city experiences a rainy season from June to September, with heavy rainfall and occasional typhoons. Winter is mild, with temperatures rarely dropping below freezing. The city is known for its high-tech and vibrant culture, with many popular tourist attractions such as the Tokyo Tower, Senso-ji Temple, and the bustling Shibuya district.'},\n",
       " {'role': 'user', 'content': ''},\n",
       " {'role': 'assistant',\n",
       "  'content': \" Sorry, I didn't understand your question. Could you please clarify or rephrase it? I'm here to help! If you have any other questions about travel, weather, or culture in Tokyo, feel free to ask!\"},\n",
       " {'role': 'user', 'content': ''}]"
      ]
     },
     "execution_count": 4,
     "metadata": {},
     "output_type": "execute_result"
    }
   ],
   "source": [
    "[*messages, {'role': 'user', 'content': user_input}]"
   ]
  },
  {
   "cell_type": "markdown",
   "id": "d5e42377",
   "metadata": {},
   "source": [
    "## Get the nodes\n",
    "We will get nodes from the area with the test centre"
   ]
  },
  {
   "cell_type": "code",
   "execution_count": 13,
   "id": "837c9628",
   "metadata": {},
   "outputs": [],
   "source": [
    "G = ox.graph_from_point((51.3829463, -0.2933327), dist=5000, network_type='drive')  # Get the OSMNX network of nodes\n",
    "## Add start nodes\n",
    "G.add_node('test_centre', x=51.38413, y=-0.29299)\n",
    "G.add_node('test_centre_road', x=51.38409, y=-0.29280)\n"
   ]
  },
  {
   "cell_type": "code",
   "execution_count": 14,
   "id": "84bc3e07",
   "metadata": {},
   "outputs": [],
   "source": [
    "# Useful functions\n",
    "# Get the nodes on the road\n",
    "def get_all_nodes_on_street(G, start_node, street_name):\n",
    "    \"\"\"This is a 'flood' fill to get all of the nodes on a street\n",
    "\n",
    "    Args:\n",
    "        G (_type_): OSMNX network\n",
    "        start_node (_type_): a starting node on the street\n",
    "        street_name (_type_): this is the name of the street the current node is on\n",
    "    \"\"\"\n",
    "    visited = set() # empty set to store nodes\n",
    "    stack = [start_node] # list of nodes\n",
    "    \n",
    "    while stack: # while the stack list is occupied\n",
    "        node = stack.pop()\n",
    "        if node in visited:\n",
    "            continue\n",
    "        visited.add(node)\n",
    "        \n",
    "        # Check all outward and inward edges\n",
    "        for neighbour in G.neighbors(node): # loop through the node neighbours\n",
    "            for key, data in G.get_edge_data(node, neighbour).items(): # get the edge data\n",
    "                name = data.get(\"name\") # get the name of the edge\n",
    "                if (isinstance(name, list) and street_name in name) or name == street_name: # check if the node is on the street\n",
    "                    if neighbour not in visited:\n",
    "                        stack.append(neighbour) # append the neigbour to the stack to check\n",
    "                    \n",
    "        for pred in G.predecessors(node): # get the predecessor nodes to check for nodes that are on one way roads (may not have upstream edges)\n",
    "            for key, data in G.get_edge_data(pred, node).items():             \n",
    "                name = data.get(\"name\")    \n",
    "                if (isinstance(name, list) and street_name in name or name == street_name):    \n",
    "                    if pred not in visited: # check the node has already been added to visited\n",
    "                        stack.append(pred) # add the \n",
    "        \n",
    "    return list(visited)\n",
    "\n",
    "\n",
    "# Get the edges between nodes"
   ]
  },
  {
   "cell_type": "code",
   "execution_count": 37,
   "id": "8fefaf14",
   "metadata": {},
   "outputs": [
    {
     "data": {
      "text/html": [
       "\n",
       "        <iframe\n",
       "            width=\"100%\"\n",
       "            height=\"650\"\n",
       "            src=\"http://127.0.0.1:8050/\"\n",
       "            frameborder=\"0\"\n",
       "            allowfullscreen\n",
       "            \n",
       "        ></iframe>\n",
       "        "
      ],
      "text/plain": [
       "<IPython.lib.display.IFrame at 0x7f1db4496870>"
      ]
     },
     "metadata": {},
     "output_type": "display_data"
    }
   ],
   "source": [
    "# Test the getting node functions and plot to see\n",
    "centre_lat = 51.3829463\n",
    "centre_lon = -0.2933327\n",
    "\n",
    "douglas_road_node_ids = get_all_nodes_on_street(G, 23779844, \"Douglas Road\")\n",
    "douglas_road_nodes = {node: G.nodes[node] for node in douglas_road_node_ids if node in G.nodes}\n",
    "\n",
    "douglas_road_markers = [\n",
    "    dl.Marker(position=(douglas_road_nodes[nid]['y'], douglas_road_nodes[nid]['x']), children=dl.Tooltip(str(nid)))\n",
    "    for nid in douglas_road_nodes\n",
    "]\n",
    "\n",
    "dennan_road_node_ids = get_all_nodes_on_street(G, 23779844, \"Dennan Road\")\n",
    "dennan_road_nodes = {node: G.nodes[node] for node in dennan_road_node_ids if node in G.nodes}\n",
    "\n",
    "dennan_road_markers = [\n",
    "    dl.Marker(position=(dennan_road_nodes[nid]['y'], dennan_road_nodes[nid]['x']), children=dl.Tooltip(str(nid)))\n",
    "    for nid in dennan_road_nodes\n",
    "]\n",
    "\n",
    "\n",
    "app = JupyterDash(__name__)\n",
    "app.layout = html.Div([\n",
    "    dl.Map(center=(centre_lat, centre_lon), zoom=18, children=[\n",
    "        dl.TileLayer(),\n",
    "        dl.LayerGroup(douglas_road_markers),\n",
    "        dl.LayerGroup(dennan_road_markers)\n",
    "    ], style={'width': '100%', 'height': '1200px'})\n",
    "])\n",
    "\n",
    "app.run(mode='inline')\n"
   ]
  },
  {
   "cell_type": "markdown",
   "id": "bf597986",
   "metadata": {},
   "source": [
    "## Creating the prompts"
   ]
  },
  {
   "cell_type": "code",
   "execution_count": 64,
   "id": "b208ec43",
   "metadata": {},
   "outputs": [],
   "source": [
    "llm_initial_prompt = \"\"\"\n",
    "You are a navigation assistant working with geographic road network data.\n",
    "\n",
    "You are given:\n",
    "- The current node (with latitude and longitude)\n",
    "- The previous node (used to determine direction of travel)\n",
    "- The name of the current road\n",
    "- All nodes on that road (with latitude and longitude)\n",
    "- The name of the road the user is turning onto\n",
    "- All nodes on that road (with latitude and longitude)\n",
    "- A turn instruction, such as \"first right\", \"2nd left\", or \"exit 3rd at roundabout, which well tel you the direction to take at the current node\"\n",
    "\n",
    "Your job is to:\n",
    "1. Determine the most likely junction node that connects the current road to the new road, based on geometry and instruction.\n",
    "2. Return:\n",
    "   - `junction_node`: the node ID of the junction\n",
    "   - `path_to_junction`: an ordered list of node IDs starting from the current node to the junction node (inclusive)\n",
    "\n",
    "Be precise. Use the spatial relationship between the current and previous nodes to determine forward direction, then use the turn instruction to determine which way to turn.\n",
    "\n",
    "Always return JSON like:\n",
    "```json\n",
    "{\n",
    "  \"junction_node\": 123456,\n",
    "  \"path_to_junction\": [123123, 123124, 123456]\n",
    "}\n",
    "\n",
    "\"\"\""
   ]
  },
  {
   "cell_type": "code",
   "execution_count": null,
   "id": "b0ae2e41",
   "metadata": {},
   "outputs": [
    {
     "data": {
      "text/plain": [
       "-0.2938243"
      ]
     },
     "execution_count": 41,
     "metadata": {},
     "output_type": "execute_result"
    }
   ],
   "source": []
  },
  {
   "cell_type": "code",
   "execution_count": 72,
   "id": "e822380d",
   "metadata": {},
   "outputs": [
    {
     "data": {
      "text/plain": [
       "{23779844: {'lat': -0.2938243, 'lon': 51.381894},\n",
       " 23780711: {'lat': -0.2944253, 'lon': 51.3806375},\n",
       " 2578590287: {'lat': -0.2926397, 'lon': 51.3844335},\n",
       " 125793172: {'lat': -0.2952753, 'lon': 51.3784392},\n",
       " 134912281: {'lat': -0.2947642, 'lon': 51.3799006},\n",
       " 134912282: {'lat': -0.2950307, 'lon': 51.3791745}}"
      ]
     },
     "execution_count": 72,
     "metadata": {},
     "output_type": "execute_result"
    }
   ],
   "source": [
    "{nid : {\n",
    "        \"lat\": G.nodes[nid]['x'],\n",
    "        \"lon\": G.nodes[nid]['y']}\n",
    "      for nid in douglas_road_nodes\n",
    "}"
   ]
  },
  {
   "cell_type": "code",
   "execution_count": 84,
   "id": "5b333236",
   "metadata": {},
   "outputs": [],
   "source": [
    "# Build prompt\n",
    "def build_turn_prompt(\n",
    "    G, current_node_id, previous_node_id, current_road_name, \n",
    "    current_road_nodes, next_road_name, next_road_nodes, instruction,\n",
    "    llm_initial_prompt\n",
    "):\n",
    "    data = {\n",
    "        \"current_node\": {\n",
    "            \"id\": current_node_id,\n",
    "            \"lat\": G.nodes[current_node_id]['x'],\n",
    "            \"lon\": G.nodes[current_node_id]['y']\n",
    "        },\n",
    "        \"previous_node\": {\n",
    "            \"id\": previous_node_id,\n",
    "            \"lat\": G.nodes[previous_node_id]['x'],\n",
    "            \"lon\": G.nodes[previous_node_id]['y']\n",
    "        },\n",
    "        \"current_road\": current_road_name,\n",
    "        \"current_road_nodes\": [{\n",
    "            \"id\": nid,\n",
    "            \"lat\": G.nodes[nid]['x'],\n",
    "            \"lon\": G.nodes[nid]['y']}\n",
    "            for nid in current_road_nodes\n",
    "        ],\n",
    "        \"next_road\": next_road_name,\n",
    "        \"next_road_nodes\": [{\n",
    "            \"id\": nid,\n",
    "            \"lat\": G.nodes[nid]['x'],\n",
    "            \"lon\": G.nodes[nid]['y']}\n",
    "            for nid in next_road_nodes\n",
    "        ],\n",
    "        \"instruction\": instruction\n",
    "    }\n",
    "    \n",
    "    prompt = f\"\"\"\n",
    "        {llm_initial_prompt}\n",
    "        \n",
    "        Here is the data:\n",
    "        {json.dumps(data, indent=2)}\n",
    "        \n",
    "        Return JSON with:\n",
    "        - junction_node (node ID)\n",
    "        - path_to_junction (ordered node IDs from current node to junction)\n",
    "        \n",
    "        \n",
    "    \"\"\"\n",
    "    \n",
    "    return prompt.strip()"
   ]
  },
  {
   "cell_type": "code",
   "execution_count": 85,
   "id": "34821415",
   "metadata": {},
   "outputs": [
    {
     "name": "stdout",
     "output_type": "stream",
     "text": [
      "You are a navigation assistant working with geographic road network data.\n",
      "\n",
      "You are given:\n",
      "- The current node (with latitude and longitude)\n",
      "- The previous node (used to determine direction of travel)\n",
      "- The name of the current road\n",
      "- All nodes on that road (with latitude and longitude)\n",
      "- The name of the road the user is turning onto\n",
      "- All nodes on that road (with latitude and longitude)\n",
      "- A turn instruction, such as \"first right\", \"2nd left\", or \"exit 3rd at roundabout, which well tel you the direction to take at the current node\"\n",
      "\n",
      "Your job is to:\n",
      "1. Determine the most likely junction node that connects the current road to the new road, based on geometry and instruction.\n",
      "2. Return:\n",
      "   - `junction_node`: the node ID of the junction\n",
      "   - `path_to_junction`: an ordered list of node IDs starting from the current node to the junction node (inclusive)\n",
      "\n",
      "Be precise. Use the spatial relationship between the current and previous nodes to determine forward direction, then use the turn instruction to determine which way to turn.\n",
      "\n",
      "Always return JSON like:\n",
      "```json\n",
      "{\n",
      "  \"junction_node\": 123456,\n",
      "  \"path_to_junction\": [123123, 123124, 123456]\n",
      "}\n",
      "\n",
      "\n",
      "\n",
      "        Here is the data:\n",
      "        {\n",
      "  \"current_node\": {\n",
      "    \"id\": \"test_centre_road\",\n",
      "    \"lat\": 51.38409,\n",
      "    \"lon\": -0.2928\n",
      "  },\n",
      "  \"previous_node\": {\n",
      "    \"id\": \"test_centre\",\n",
      "    \"lat\": 51.38413,\n",
      "    \"lon\": -0.29299\n",
      "  },\n",
      "  \"current_road\": \"Douglas Road\",\n",
      "  \"current_road_nodes\": [\n",
      "    {\n",
      "      \"id\": 23779844,\n",
      "      \"lat\": -0.2938243,\n",
      "      \"lon\": 51.381894\n",
      "    },\n",
      "    {\n",
      "      \"id\": 23780711,\n",
      "      \"lat\": -0.2944253,\n",
      "      \"lon\": 51.3806375\n",
      "    },\n",
      "    {\n",
      "      \"id\": 2578590287,\n",
      "      \"lat\": -0.2926397,\n",
      "      \"lon\": 51.3844335\n",
      "    },\n",
      "    {\n",
      "      \"id\": 125793172,\n",
      "      \"lat\": -0.2952753,\n",
      "      \"lon\": 51.3784392\n",
      "    },\n",
      "    {\n",
      "      \"id\": 134912281,\n",
      "      \"lat\": -0.2947642,\n",
      "      \"lon\": 51.3799006\n",
      "    },\n",
      "    {\n",
      "      \"id\": 134912282,\n",
      "      \"lat\": -0.2950307,\n",
      "      \"lon\": 51.3791745\n",
      "    }\n",
      "  ],\n",
      "  \"next_road\": \"Dennan Road\",\n",
      "  \"next_road_nodes\": [\n",
      "    {\n",
      "      \"id\": 23787122,\n",
      "      \"lat\": -0.2978169,\n",
      "      \"lon\": 51.3826178\n",
      "    },\n",
      "    {\n",
      "      \"id\": 23780562,\n",
      "      \"lat\": -0.2964622,\n",
      "      \"lon\": 51.3823802\n",
      "    },\n",
      "    {\n",
      "      \"id\": 23779844,\n",
      "      \"lat\": -0.2938243,\n",
      "      \"lon\": 51.381894\n",
      "    },\n",
      "    {\n",
      "      \"id\": 23780702,\n",
      "      \"lat\": -0.2952131,\n",
      "      \"lon\": 51.3821512\n",
      "    }\n",
      "  ],\n",
      "  \"instruction\": \"1st Right\"\n",
      "}\n",
      "\n",
      "        Return JSON with:\n",
      "        - junction_node (node ID)\n",
      "        - path_to_junction (ordered node IDs from current node to junction)\n"
     ]
    }
   ],
   "source": [
    "## Trial prompt\n",
    "doulgas_dennan = build_turn_prompt(G, 'test_centre_road', 'test_centre', 'Douglas Road', \n",
    "    get_all_nodes_on_street(G, 23779844, \"Douglas Road\"), \n",
    "    'Dennan Road', get_all_nodes_on_street(G, 23779844, \"Dennan Road\"), \n",
    "    '1st Right', llm_initial_prompt\n",
    ")\n",
    "\n",
    "print(doulgas_dennan)"
   ]
  }
 ],
 "metadata": {
  "kernelspec": {
   "display_name": "mapping_py12",
   "language": "python",
   "name": "python3"
  },
  "language_info": {
   "codemirror_mode": {
    "name": "ipython",
    "version": 3
   },
   "file_extension": ".py",
   "mimetype": "text/x-python",
   "name": "python",
   "nbconvert_exporter": "python",
   "pygments_lexer": "ipython3",
   "version": "3.12.9"
  }
 },
 "nbformat": 4,
 "nbformat_minor": 5
}
