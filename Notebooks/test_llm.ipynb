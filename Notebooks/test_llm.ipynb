{
 "cells": [
  {
   "cell_type": "markdown",
   "id": "433b7109",
   "metadata": {},
   "source": [
    "## Note book where I can open a connection to an LLM and give prompts"
   ]
  },
  {
   "cell_type": "code",
   "execution_count": 5,
   "id": "df820906",
   "metadata": {},
   "outputs": [],
   "source": [
    "# Load Libraries\n",
    "import ollama\n",
    "import osmnx as ox"
   ]
  },
  {
   "cell_type": "code",
   "execution_count": 2,
   "id": "82ea3712",
   "metadata": {},
   "outputs": [
    {
     "name": "stdout",
     "output_type": "stream",
     "text": [
      " The sky appears blue because of a process called Rayleigh scattering. As sunlight, which is made up of different wavelengths of light, travels through Earth's atmosphere, it interacts with molecules and particles in the air like nitrogen and oxygen. Blue light has shorter wavelengths and gets scattered more easily than other colors due to its energy level differences. This scattered blue light then reaches our eyes from all directions, giving us the overall impression of a blue sky. At sunrise or sunset, the sky can appear red or orange because those longer wavelengths are not absorbed or scattered as much during these hours when the sun is lower in the sky.\n",
      " The sky appears blue because of a process called Rayleigh scattering. As sunlight, which is made up of different wavelengths of light, travels through Earth's atmosphere, it interacts with molecules and particles in the air like nitrogen and oxygen. Blue light has shorter wavelengths and gets scattered more easily than other colors due to its energy level differences. This scattered blue light then reaches our eyes from all directions, giving us the overall impression of a blue sky. At sunrise or sunset, the sky can appear red or orange because those longer wavelengths are not absorbed or scattered as much during these hours when the sun is lower in the sky.\n"
     ]
    }
   ],
   "source": [
    "from ollama import chat\n",
    "from ollama import ChatResponse\n",
    "\n",
    "response: ChatResponse = chat(model='mistral', messages=[\n",
    "  {\n",
    "    'role': 'user',\n",
    "    'content': 'Why is the sky blue?',\n",
    "  },\n",
    "])\n",
    "print(response['message']['content'])\n",
    "# or access fields directly from the response object\n",
    "print(response.message.content)"
   ]
  },
  {
   "cell_type": "code",
   "execution_count": 7,
   "id": "e7310b28",
   "metadata": {},
   "outputs": [
    {
     "name": "stdout",
     "output_type": "stream",
     "text": [
      " The sky appears blue due to a process called Rayleigh scattering. When sunlight, which is made up of different colors, travels through the atmosphere, it interacts with molecules and small particles in the air like nitrogen and oxygen. Blue light has shorter wavelengths and gets scattered more because it fits easily into the gaps between these molecules and particles. The blue light scatters in all directions, creating a blue sky for us to see. This is also why the sun looks red or orange during sunrise or sunset: At those times of day, sunlight has to pass through more of Earth's atmosphere, which preferentially scatters shorter wavelengths (blue and green), leaving the longer wavelengths like red, orange, and yellow to reach our eyes."
     ]
    }
   ],
   "source": [
    "from ollama import chat\n",
    "\n",
    "stream = chat(\n",
    "    model='mistral',\n",
    "    messages=[{'role': 'user', 'content': 'Why is the sky blue?'}],\n",
    "    stream=True,\n",
    ")\n",
    "\n",
    "for chunk in stream:\n",
    "  print(chunk['message']['content'], end='', flush=True)"
   ]
  },
  {
   "cell_type": "code",
   "execution_count": 2,
   "id": "4158c05d",
   "metadata": {},
   "outputs": [
    {
     "name": "stdout",
     "output_type": "stream",
     "text": [
      " Sorry, I didn't understand your question. Could you please clarify or rephrase it? I'm here to help! If you have any other questions about travel, weather, or culture in Tokyo, feel free to ask!\n",
      "\n"
     ]
    }
   ],
   "source": [
    "from ollama import chat\n",
    "\n",
    "model = 'mistral'\n",
    "\n",
    "messages = [\n",
    "  {\n",
    "    'role': 'user',\n",
    "    'content': 'Why is the sky blue?',\n",
    "  },\n",
    "  {\n",
    "    'role': 'assistant',\n",
    "    'content': \"The sky is blue because of the way the Earth's atmosphere scatters sunlight.\",\n",
    "  },\n",
    "  {\n",
    "    'role': 'user',\n",
    "    'content': 'What is the weather in Tokyo?',\n",
    "  },\n",
    "  {\n",
    "    'role': 'assistant',\n",
    "    'content': 'The weather in Tokyo is typically warm and humid during the summer months, with temperatures often exceeding 30°C (86°F). The city experiences a rainy season from June to September, with heavy rainfall and occasional typhoons. Winter is mild, with temperatures rarely dropping below freezing. The city is known for its high-tech and vibrant culture, with many popular tourist attractions such as the Tokyo Tower, Senso-ji Temple, and the bustling Shibuya district.',\n",
    "  },\n",
    "]\n",
    "\n",
    "#while True:\n",
    "user_input = input('Chat with history: ')\n",
    "response = chat(\n",
    "  model,\n",
    "  messages=[*messages, {'role': 'user', 'content': user_input}],\n",
    ")\n",
    "\n",
    "  # Add the response to the messages to maintain the history\n",
    "messages += [\n",
    "  {'role': 'user', 'content': user_input},\n",
    "  {'role': 'assistant', 'content': response.message.content},\n",
    "]\n",
    "print(response.message.content + '\\n')"
   ]
  },
  {
   "cell_type": "code",
   "execution_count": 4,
   "id": "48ac7352",
   "metadata": {},
   "outputs": [
    {
     "data": {
      "text/plain": [
       "[{'role': 'user', 'content': 'Why is the sky blue?'},\n",
       " {'role': 'assistant',\n",
       "  'content': \"The sky is blue because of the way the Earth's atmosphere scatters sunlight.\"},\n",
       " {'role': 'user', 'content': 'What is the weather in Tokyo?'},\n",
       " {'role': 'assistant',\n",
       "  'content': 'The weather in Tokyo is typically warm and humid during the summer months, with temperatures often exceeding 30°C (86°F). The city experiences a rainy season from June to September, with heavy rainfall and occasional typhoons. Winter is mild, with temperatures rarely dropping below freezing. The city is known for its high-tech and vibrant culture, with many popular tourist attractions such as the Tokyo Tower, Senso-ji Temple, and the bustling Shibuya district.'},\n",
       " {'role': 'user', 'content': ''},\n",
       " {'role': 'assistant',\n",
       "  'content': \" Sorry, I didn't understand your question. Could you please clarify or rephrase it? I'm here to help! If you have any other questions about travel, weather, or culture in Tokyo, feel free to ask!\"},\n",
       " {'role': 'user', 'content': ''}]"
      ]
     },
     "execution_count": 4,
     "metadata": {},
     "output_type": "execute_result"
    }
   ],
   "source": [
    "[*messages, {'role': 'user', 'content': user_input}]"
   ]
  },
  {
   "cell_type": "markdown",
   "id": "d5e42377",
   "metadata": {},
   "source": [
    "## Get the nodes\n",
    "We will get nodes from the area with the test centre"
   ]
  },
  {
   "cell_type": "code",
   "execution_count": 13,
   "id": "837c9628",
   "metadata": {},
   "outputs": [],
   "source": [
    "G = ox.graph_from_point((51.3829463, -0.2933327), dist=5000, network_type='drive')  # Get the OSMNX network of nodes\n",
    "## Add start nodes\n",
    "G.add_node('test_centre', x=51.38413, y=-0.29299)\n",
    "G.add_node('test_centre_road', x=51.38409, y=-0.29280)\n"
   ]
  },
  {
   "cell_type": "code",
   "execution_count": 12,
   "id": "142f2579",
   "metadata": {},
   "outputs": [
    {
     "data": {
      "text/plain": [
       "[23780702, 23780711, 2578590287]"
      ]
     },
     "execution_count": 12,
     "metadata": {},
     "output_type": "execute_result"
    }
   ],
   "source": [
    "list(G.neighbors(23779844))"
   ]
  },
  {
   "cell_type": "markdown",
   "id": "9854b7a2",
   "metadata": {},
   "source": [
    "## Make the prompt\n",
    "This is the prompt that will be given to the model "
   ]
  },
  {
   "cell_type": "code",
   "execution_count": null,
   "id": "84bc3e07",
   "metadata": {},
   "outputs": [],
   "source": [
    "# Useful functions\n",
    "# Get the nodes on the road\n",
    "def get_all_nodes_on_street(G, start_node, street_name):\n",
    "    \"\"\"This is a 'flood' fill to get all of the nodes on a street\n",
    "\n",
    "    Args:\n",
    "        G (_type_): OSMNX network\n",
    "        start_node (_type_): a starting node on the street\n",
    "        street_name (_type_): \n",
    "    \"\"\"\n",
    "    visited = set() # empty set to store nodes\n",
    "    stack = [start_node] # list of nodes\n",
    "    \n",
    "    while stack: # while the stack list is occupied\n",
    "        node = stack.pop()\n",
    "        if node in visited:\n",
    "            continue\n",
    "        visited.add(node)\n",
    "        \n",
    "        # Check all outward and inward edges\n",
    "        for neighbour in G.neighbors(node): # \n",
    "            for key, data in G.get_edge_data(node, neighbour).items():\n",
    "        \n",
    "        \n",
    "\n",
    "\n",
    "# Get the edges between nodes"
   ]
  },
  {
   "cell_type": "code",
   "execution_count": null,
   "id": "8fefaf14",
   "metadata": {},
   "outputs": [],
   "source": []
  }
 ],
 "metadata": {
  "kernelspec": {
   "display_name": "mapping_py12",
   "language": "python",
   "name": "python3"
  },
  "language_info": {
   "codemirror_mode": {
    "name": "ipython",
    "version": 3
   },
   "file_extension": ".py",
   "mimetype": "text/x-python",
   "name": "python",
   "nbconvert_exporter": "python",
   "pygments_lexer": "ipython3",
   "version": "3.12.9"
  }
 },
 "nbformat": 4,
 "nbformat_minor": 5
}
