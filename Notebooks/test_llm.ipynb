{
 "cells": [
  {
   "cell_type": "markdown",
   "id": "433b7109",
   "metadata": {},
   "source": [
    "## Note book where I can open a connection to an LLM and give prompts"
   ]
  },
  {
   "cell_type": "code",
   "execution_count": null,
   "id": "df820906",
   "metadata": {},
   "outputs": [],
   "source": [
    "# Load Libraries\n",
    "import osmnx as ox\n",
    "import networkx as nx\n",
    "import dash_leaflet as dl\n",
    "from jupyter_dash import JupyterDash\n",
    "from dash import html\n",
    "import dash\n",
    "import json\n",
    "from ollama import chat\n"
   ]
  },
  {
   "cell_type": "code",
   "execution_count": 1,
   "id": "82ea3712",
   "metadata": {},
   "outputs": [
    {
     "name": "stdout",
     "output_type": "stream",
     "text": [
      "<think>\n",
      "Okay, the user asked, \"Why is the sky blue?\" I need to explain this in a clear and concise way. Let me start by recalling the basic science behind this phenomenon. The sky appears blue due to Rayleigh scattering.\n",
      "\n",
      "First, I should mention that sunlight is made up of different colors, each with different wavelengths. When sunlight enters Earth's atmosphere, the molecules and small particles in the air scatter the light. Shorter wavelengths, like blue and violet, scatter more than longer wavelengths like red and yellow. \n",
      "\n",
      "Wait, but why is the sky blue and not violet? Oh, right, the sun emits more blue light than violet, and our eyes are more sensitive to blue. Also, some of the violet light is absorbed by the upper atmosphere. That's why we see blue instead of violet.\n",
      "\n",
      "I should also explain that during sunrise or sunset, the sky turns red or orange because the sunlight has to pass through more atmosphere, scattering the blue light out of our line of sight. That's an important point to include for completeness.\n",
      "\n",
      "I need to make sure the explanation is easy to understand without too much jargon. Maybe start with a simple statement, then go into the details. Also, check if there are any common misconceptions to address, like people thinking the sky is blue because of the color of the Earth or something else. But I think the main points are covered with Rayleigh scattering and the properties of light.\n",
      "\n",
      "Wait, should I mention the size of the particles in the atmosphere? Like, Rayleigh scattering is more effective for smaller particles, which are the molecules of air. That's part of the explanation. But maybe keep it brief unless the user asks for more depth.\n",
      "\n",
      "Also, the user might be a student or someone with a casual interest, so the explanation should be accessible. Avoid overly technical terms unless necessary. Let me structure it step by step: start with sunlight, then scattering, explain the wavelengths, and the reason for blue instead of violet. Then mention the effect of sunsets. That should cover it.\n",
      "</think>\n",
      "\n",
      "The sky appears blue due to a phenomenon called **Rayleigh scattering**. Here's a simplified explanation:\n",
      "\n",
      "1. **Sunlight Composition**: Sunlight is made of a spectrum of colors, each with different wavelengths (red has the longest, violet the shortest).\n",
      "\n",
      "2. **Atmospheric Interaction**: When sunlight enters Earth's atmosphere, it interacts with gas molecules (like nitrogen and oxygen) and small particles. Shorter wavelengths (blue and violet) scatter more easily in all directions than longer wavelengths (red, orange, yellow).\n",
      "\n",
      "3. **Blue Dominance**: While violet light scatters the most, the sun emits more blue light than violet, and our eyes are more sensitive to blue. Additionally, some violet light is absorbed by the upper atmosphere, making blue the dominant color we perceive.\n",
      "\n",
      "4. **Sunset/Sunrise Colors**: During sunrise or sunset, sunlight travels through more atmosphere, scattering most blue light out of our line of sight. This leaves reds, oranges, and yellows to dominate, creating the vibrant colors we see.\n",
      "\n",
      "In short, the sky is blue because the atmosphere scatters blue light more efficiently, and our eyes are tuned to perceive it! 🌈\n",
      "<think>\n",
      "Okay, the user asked, \"Why is the sky blue?\" I need to explain this in a clear and concise way. Let me start by recalling the basic science behind this phenomenon. The sky appears blue due to Rayleigh scattering.\n",
      "\n",
      "First, I should mention that sunlight is made up of different colors, each with different wavelengths. When sunlight enters Earth's atmosphere, the molecules and small particles in the air scatter the light. Shorter wavelengths, like blue and violet, scatter more than longer wavelengths like red and yellow. \n",
      "\n",
      "Wait, but why is the sky blue and not violet? Oh, right, the sun emits more blue light than violet, and our eyes are more sensitive to blue. Also, some of the violet light is absorbed by the upper atmosphere. That's why we see blue instead of violet.\n",
      "\n",
      "I should also explain that during sunrise or sunset, the sky turns red or orange because the sunlight has to pass through more atmosphere, scattering the blue light out of our line of sight. That's an important point to include for completeness.\n",
      "\n",
      "I need to make sure the explanation is easy to understand without too much jargon. Maybe start with a simple statement, then go into the details. Also, check if there are any common misconceptions to address, like people thinking the sky is blue because of the color of the Earth or something else. But I think the main points are covered with Rayleigh scattering and the properties of light.\n",
      "\n",
      "Wait, should I mention the size of the particles in the atmosphere? Like, Rayleigh scattering is more effective for smaller particles, which are the molecules of air. That's part of the explanation. But maybe keep it brief unless the user asks for more depth.\n",
      "\n",
      "Also, the user might be a student or someone with a casual interest, so the explanation should be accessible. Avoid overly technical terms unless necessary. Let me structure it step by step: start with sunlight, then scattering, explain the wavelengths, and the reason for blue instead of violet. Then mention the effect of sunsets. That should cover it.\n",
      "</think>\n",
      "\n",
      "The sky appears blue due to a phenomenon called **Rayleigh scattering**. Here's a simplified explanation:\n",
      "\n",
      "1. **Sunlight Composition**: Sunlight is made of a spectrum of colors, each with different wavelengths (red has the longest, violet the shortest).\n",
      "\n",
      "2. **Atmospheric Interaction**: When sunlight enters Earth's atmosphere, it interacts with gas molecules (like nitrogen and oxygen) and small particles. Shorter wavelengths (blue and violet) scatter more easily in all directions than longer wavelengths (red, orange, yellow).\n",
      "\n",
      "3. **Blue Dominance**: While violet light scatters the most, the sun emits more blue light than violet, and our eyes are more sensitive to blue. Additionally, some violet light is absorbed by the upper atmosphere, making blue the dominant color we perceive.\n",
      "\n",
      "4. **Sunset/Sunrise Colors**: During sunrise or sunset, sunlight travels through more atmosphere, scattering most blue light out of our line of sight. This leaves reds, oranges, and yellows to dominate, creating the vibrant colors we see.\n",
      "\n",
      "In short, the sky is blue because the atmosphere scatters blue light more efficiently, and our eyes are tuned to perceive it! 🌈\n"
     ]
    }
   ],
   "source": [
    "from ollama import chat\n",
    "from ollama import ChatResponse\n",
    "\n",
    "response: ChatResponse = chat(model='qwen3:8b', messages=[\n",
    "  {\n",
    "    'role': 'user',\n",
    "    'content': 'Why is the sky blue?',\n",
    "  },\n",
    "])\n",
    "print(response['message']['content'])\n",
    "# or access fields directly from the response object\n",
    "print(response.message.content)"
   ]
  },
  {
   "cell_type": "code",
   "execution_count": 2,
   "id": "0282d69b",
   "metadata": {},
   "outputs": [
    {
     "data": {
      "text/plain": [
       "Message(role='assistant', content='<think>\\nOkay, the user asked, \"Why is the sky blue?\" I need to explain this in a clear and concise way. Let me start by recalling the basic science behind this phenomenon. The sky appears blue due to Rayleigh scattering.\\n\\nFirst, I should mention that sunlight is made up of different colors, each with different wavelengths. When sunlight enters Earth\\'s atmosphere, the molecules and small particles in the air scatter the light. Shorter wavelengths, like blue and violet, scatter more than longer wavelengths like red and yellow. \\n\\nWait, but why is the sky blue and not violet? Oh, right, the sun emits more blue light than violet, and our eyes are more sensitive to blue. Also, some of the violet light is absorbed by the upper atmosphere. That\\'s why we see blue instead of violet.\\n\\nI should also explain that during sunrise or sunset, the sky turns red or orange because the sunlight has to pass through more atmosphere, scattering the blue light out of our line of sight. That\\'s an important point to include for completeness.\\n\\nI need to make sure the explanation is easy to understand without too much jargon. Maybe start with a simple statement, then go into the details. Also, check if there are any common misconceptions to address, like people thinking the sky is blue because of the color of the Earth or something else. But I think the main points are covered with Rayleigh scattering and the properties of light.\\n\\nWait, should I mention the size of the particles in the atmosphere? Like, Rayleigh scattering is more effective for smaller particles, which are the molecules of air. That\\'s part of the explanation. But maybe keep it brief unless the user asks for more depth.\\n\\nAlso, the user might be a student or someone with a casual interest, so the explanation should be accessible. Avoid overly technical terms unless necessary. Let me structure it step by step: start with sunlight, then scattering, explain the wavelengths, and the reason for blue instead of violet. Then mention the effect of sunsets. That should cover it.\\n</think>\\n\\nThe sky appears blue due to a phenomenon called **Rayleigh scattering**. Here\\'s a simplified explanation:\\n\\n1. **Sunlight Composition**: Sunlight is made of a spectrum of colors, each with different wavelengths (red has the longest, violet the shortest).\\n\\n2. **Atmospheric Interaction**: When sunlight enters Earth\\'s atmosphere, it interacts with gas molecules (like nitrogen and oxygen) and small particles. Shorter wavelengths (blue and violet) scatter more easily in all directions than longer wavelengths (red, orange, yellow).\\n\\n3. **Blue Dominance**: While violet light scatters the most, the sun emits more blue light than violet, and our eyes are more sensitive to blue. Additionally, some violet light is absorbed by the upper atmosphere, making blue the dominant color we perceive.\\n\\n4. **Sunset/Sunrise Colors**: During sunrise or sunset, sunlight travels through more atmosphere, scattering most blue light out of our line of sight. This leaves reds, oranges, and yellows to dominate, creating the vibrant colors we see.\\n\\nIn short, the sky is blue because the atmosphere scatters blue light more efficiently, and our eyes are tuned to perceive it! 🌈', images=None, tool_calls=None)"
      ]
     },
     "execution_count": 2,
     "metadata": {},
     "output_type": "execute_result"
    }
   ],
   "source": [
    "response['message']"
   ]
  },
  {
   "cell_type": "code",
   "execution_count": 3,
   "id": "e7310b28",
   "metadata": {},
   "outputs": [
    {
     "name": "stdout",
     "output_type": "stream",
     "text": [
      "<think>\n",
      "Okay, the user is asking why the sky is blue. I need to explain this in a clear and simple way. Let me start by recalling what I know about this. I remember that it has to do with the scattering of sunlight by the atmosphere. \n",
      "\n",
      "So, sunlight is white, but it's made up of different colors, each with different wavelengths. When sunlight enters Earth's atmosphere, it interacts with gas molecules and small particles. I think this is called Rayleigh scattering. The shorter wavelengths, like blue and violet, scatter more than the longer ones like red and yellow. \n",
      "\n",
      "Wait, but why do we see blue instead of violet? Maybe because the sun emits more blue light than violet, and our eyes are more sensitive to blue. Also, the scattering of violet light is in all directions, but our eyes aren't as sensitive to it, so we perceive the sky as blue. \n",
      "\n",
      "I should also mention that during sunrise or sunset, the sky appears red or orange because the sunlight has to pass through more atmosphere, scattering the shorter wavelengths out of our line of sight. That's the reason for the different colors at different times of the day. \n",
      "\n",
      "I need to make sure the explanation is accurate and not too technical. Maybe start with the basic idea that the blue color is due to the scattering of sunlight by the atmosphere. Then explain the scattering process, the role of different wavelengths, and the sensitivity of human eyes. Also, touch on the different colors during sunrise and sunset. \n",
      "\n",
      "Wait, did I get the scattering right? Rayleigh scattering is"
     ]
    },
    {
     "ename": "KeyboardInterrupt",
     "evalue": "",
     "output_type": "error",
     "traceback": [
      "\u001b[31m---------------------------------------------------------------------------\u001b[39m",
      "\u001b[31mKeyboardInterrupt\u001b[39m                         Traceback (most recent call last)",
      "\u001b[36mCell\u001b[39m\u001b[36m \u001b[39m\u001b[32mIn[3]\u001b[39m\u001b[32m, line 9\u001b[39m\n\u001b[32m      1\u001b[39m \u001b[38;5;28;01mfrom\u001b[39;00m\u001b[38;5;250m \u001b[39m\u001b[34;01mollama\u001b[39;00m\u001b[38;5;250m \u001b[39m\u001b[38;5;28;01mimport\u001b[39;00m chat\n\u001b[32m      3\u001b[39m stream = chat(\n\u001b[32m      4\u001b[39m     model=\u001b[33m'\u001b[39m\u001b[33mqwen3:8b\u001b[39m\u001b[33m'\u001b[39m,\u001b[38;5;66;03m#'mistral',\u001b[39;00m\n\u001b[32m      5\u001b[39m     messages=[{\u001b[33m'\u001b[39m\u001b[33mrole\u001b[39m\u001b[33m'\u001b[39m: \u001b[33m'\u001b[39m\u001b[33muser\u001b[39m\u001b[33m'\u001b[39m, \u001b[33m'\u001b[39m\u001b[33mcontent\u001b[39m\u001b[33m'\u001b[39m: \u001b[33m'\u001b[39m\u001b[33mWhy is the sky blue?\u001b[39m\u001b[33m'\u001b[39m}],\n\u001b[32m      6\u001b[39m     stream=\u001b[38;5;28;01mTrue\u001b[39;00m,\n\u001b[32m      7\u001b[39m )\n\u001b[32m----> \u001b[39m\u001b[32m9\u001b[39m \u001b[38;5;28;43;01mfor\u001b[39;49;00m\u001b[43m \u001b[49m\u001b[43mchunk\u001b[49m\u001b[43m \u001b[49m\u001b[38;5;129;43;01min\u001b[39;49;00m\u001b[43m \u001b[49m\u001b[43mstream\u001b[49m\u001b[43m:\u001b[49m\n\u001b[32m     10\u001b[39m \u001b[43m  \u001b[49m\u001b[38;5;28;43mprint\u001b[39;49m\u001b[43m(\u001b[49m\u001b[43mchunk\u001b[49m\u001b[43m[\u001b[49m\u001b[33;43m'\u001b[39;49m\u001b[33;43mmessage\u001b[39;49m\u001b[33;43m'\u001b[39;49m\u001b[43m]\u001b[49m\u001b[43m[\u001b[49m\u001b[33;43m'\u001b[39;49m\u001b[33;43mcontent\u001b[39;49m\u001b[33;43m'\u001b[39;49m\u001b[43m]\u001b[49m\u001b[43m,\u001b[49m\u001b[43m \u001b[49m\u001b[43mend\u001b[49m\u001b[43m=\u001b[49m\u001b[33;43m'\u001b[39;49m\u001b[33;43m'\u001b[39;49m\u001b[43m,\u001b[49m\u001b[43m \u001b[49m\u001b[43mflush\u001b[49m\u001b[43m=\u001b[49m\u001b[38;5;28;43;01mTrue\u001b[39;49;00m\u001b[43m)\u001b[49m\n",
      "\u001b[36mFile \u001b[39m\u001b[32m~/anaconda3/envs/mapping/lib/python3.12/site-packages/ollama/_client.py:170\u001b[39m, in \u001b[36mClient._request.<locals>.inner\u001b[39m\u001b[34m()\u001b[39m\n\u001b[32m    167\u001b[39m   e.response.read()\n\u001b[32m    168\u001b[39m   \u001b[38;5;28;01mraise\u001b[39;00m ResponseError(e.response.text, e.response.status_code) \u001b[38;5;28;01mfrom\u001b[39;00m\u001b[38;5;250m \u001b[39m\u001b[38;5;28;01mNone\u001b[39;00m\n\u001b[32m--> \u001b[39m\u001b[32m170\u001b[39m \u001b[43m\u001b[49m\u001b[38;5;28;43;01mfor\u001b[39;49;00m\u001b[43m \u001b[49m\u001b[43mline\u001b[49m\u001b[43m \u001b[49m\u001b[38;5;129;43;01min\u001b[39;49;00m\u001b[43m \u001b[49m\u001b[43mr\u001b[49m\u001b[43m.\u001b[49m\u001b[43miter_lines\u001b[49m\u001b[43m(\u001b[49m\u001b[43m)\u001b[49m\u001b[43m:\u001b[49m\n\u001b[32m    171\u001b[39m \u001b[43m  \u001b[49m\u001b[43mpart\u001b[49m\u001b[43m \u001b[49m\u001b[43m=\u001b[49m\u001b[43m \u001b[49m\u001b[43mjson\u001b[49m\u001b[43m.\u001b[49m\u001b[43mloads\u001b[49m\u001b[43m(\u001b[49m\u001b[43mline\u001b[49m\u001b[43m)\u001b[49m\n\u001b[32m    172\u001b[39m \u001b[43m  \u001b[49m\u001b[38;5;28;43;01mif\u001b[39;49;00m\u001b[43m \u001b[49m\u001b[43merr\u001b[49m\u001b[43m \u001b[49m\u001b[43m:=\u001b[49m\u001b[43m \u001b[49m\u001b[43mpart\u001b[49m\u001b[43m.\u001b[49m\u001b[43mget\u001b[49m\u001b[43m(\u001b[49m\u001b[33;43m'\u001b[39;49m\u001b[33;43merror\u001b[39;49m\u001b[33;43m'\u001b[39;49m\u001b[43m)\u001b[49m\u001b[43m:\u001b[49m\n",
      "\u001b[36mFile \u001b[39m\u001b[32m~/anaconda3/envs/mapping/lib/python3.12/site-packages/httpx/_models.py:929\u001b[39m, in \u001b[36mResponse.iter_lines\u001b[39m\u001b[34m(self)\u001b[39m\n\u001b[32m    927\u001b[39m decoder = LineDecoder()\n\u001b[32m    928\u001b[39m \u001b[38;5;28;01mwith\u001b[39;00m request_context(request=\u001b[38;5;28mself\u001b[39m._request):\n\u001b[32m--> \u001b[39m\u001b[32m929\u001b[39m \u001b[43m    \u001b[49m\u001b[38;5;28;43;01mfor\u001b[39;49;00m\u001b[43m \u001b[49m\u001b[43mtext\u001b[49m\u001b[43m \u001b[49m\u001b[38;5;129;43;01min\u001b[39;49;00m\u001b[43m \u001b[49m\u001b[38;5;28;43mself\u001b[39;49m\u001b[43m.\u001b[49m\u001b[43miter_text\u001b[49m\u001b[43m(\u001b[49m\u001b[43m)\u001b[49m\u001b[43m:\u001b[49m\n\u001b[32m    930\u001b[39m \u001b[43m        \u001b[49m\u001b[38;5;28;43;01mfor\u001b[39;49;00m\u001b[43m \u001b[49m\u001b[43mline\u001b[49m\u001b[43m \u001b[49m\u001b[38;5;129;43;01min\u001b[39;49;00m\u001b[43m \u001b[49m\u001b[43mdecoder\u001b[49m\u001b[43m.\u001b[49m\u001b[43mdecode\u001b[49m\u001b[43m(\u001b[49m\u001b[43mtext\u001b[49m\u001b[43m)\u001b[49m\u001b[43m:\u001b[49m\n\u001b[32m    931\u001b[39m \u001b[43m            \u001b[49m\u001b[38;5;28;43;01myield\u001b[39;49;00m\u001b[43m \u001b[49m\u001b[43mline\u001b[49m\n",
      "\u001b[36mFile \u001b[39m\u001b[32m~/anaconda3/envs/mapping/lib/python3.12/site-packages/httpx/_models.py:916\u001b[39m, in \u001b[36mResponse.iter_text\u001b[39m\u001b[34m(self, chunk_size)\u001b[39m\n\u001b[32m    914\u001b[39m chunker = TextChunker(chunk_size=chunk_size)\n\u001b[32m    915\u001b[39m \u001b[38;5;28;01mwith\u001b[39;00m request_context(request=\u001b[38;5;28mself\u001b[39m._request):\n\u001b[32m--> \u001b[39m\u001b[32m916\u001b[39m \u001b[43m    \u001b[49m\u001b[38;5;28;43;01mfor\u001b[39;49;00m\u001b[43m \u001b[49m\u001b[43mbyte_content\u001b[49m\u001b[43m \u001b[49m\u001b[38;5;129;43;01min\u001b[39;49;00m\u001b[43m \u001b[49m\u001b[38;5;28;43mself\u001b[39;49m\u001b[43m.\u001b[49m\u001b[43miter_bytes\u001b[49m\u001b[43m(\u001b[49m\u001b[43m)\u001b[49m\u001b[43m:\u001b[49m\n\u001b[32m    917\u001b[39m \u001b[43m        \u001b[49m\u001b[43mtext_content\u001b[49m\u001b[43m \u001b[49m\u001b[43m=\u001b[49m\u001b[43m \u001b[49m\u001b[43mdecoder\u001b[49m\u001b[43m.\u001b[49m\u001b[43mdecode\u001b[49m\u001b[43m(\u001b[49m\u001b[43mbyte_content\u001b[49m\u001b[43m)\u001b[49m\n\u001b[32m    918\u001b[39m \u001b[43m        \u001b[49m\u001b[38;5;28;43;01mfor\u001b[39;49;00m\u001b[43m \u001b[49m\u001b[43mchunk\u001b[49m\u001b[43m \u001b[49m\u001b[38;5;129;43;01min\u001b[39;49;00m\u001b[43m \u001b[49m\u001b[43mchunker\u001b[49m\u001b[43m.\u001b[49m\u001b[43mdecode\u001b[49m\u001b[43m(\u001b[49m\u001b[43mtext_content\u001b[49m\u001b[43m)\u001b[49m\u001b[43m:\u001b[49m\n",
      "\u001b[36mFile \u001b[39m\u001b[32m~/anaconda3/envs/mapping/lib/python3.12/site-packages/httpx/_models.py:897\u001b[39m, in \u001b[36mResponse.iter_bytes\u001b[39m\u001b[34m(self, chunk_size)\u001b[39m\n\u001b[32m    895\u001b[39m chunker = ByteChunker(chunk_size=chunk_size)\n\u001b[32m    896\u001b[39m \u001b[38;5;28;01mwith\u001b[39;00m request_context(request=\u001b[38;5;28mself\u001b[39m._request):\n\u001b[32m--> \u001b[39m\u001b[32m897\u001b[39m \u001b[43m    \u001b[49m\u001b[38;5;28;43;01mfor\u001b[39;49;00m\u001b[43m \u001b[49m\u001b[43mraw_bytes\u001b[49m\u001b[43m \u001b[49m\u001b[38;5;129;43;01min\u001b[39;49;00m\u001b[43m \u001b[49m\u001b[38;5;28;43mself\u001b[39;49m\u001b[43m.\u001b[49m\u001b[43miter_raw\u001b[49m\u001b[43m(\u001b[49m\u001b[43m)\u001b[49m\u001b[43m:\u001b[49m\n\u001b[32m    898\u001b[39m \u001b[43m        \u001b[49m\u001b[43mdecoded\u001b[49m\u001b[43m \u001b[49m\u001b[43m=\u001b[49m\u001b[43m \u001b[49m\u001b[43mdecoder\u001b[49m\u001b[43m.\u001b[49m\u001b[43mdecode\u001b[49m\u001b[43m(\u001b[49m\u001b[43mraw_bytes\u001b[49m\u001b[43m)\u001b[49m\n\u001b[32m    899\u001b[39m \u001b[43m        \u001b[49m\u001b[38;5;28;43;01mfor\u001b[39;49;00m\u001b[43m \u001b[49m\u001b[43mchunk\u001b[49m\u001b[43m \u001b[49m\u001b[38;5;129;43;01min\u001b[39;49;00m\u001b[43m \u001b[49m\u001b[43mchunker\u001b[49m\u001b[43m.\u001b[49m\u001b[43mdecode\u001b[49m\u001b[43m(\u001b[49m\u001b[43mdecoded\u001b[49m\u001b[43m)\u001b[49m\u001b[43m:\u001b[49m\n",
      "\u001b[36mFile \u001b[39m\u001b[32m~/anaconda3/envs/mapping/lib/python3.12/site-packages/httpx/_models.py:951\u001b[39m, in \u001b[36mResponse.iter_raw\u001b[39m\u001b[34m(self, chunk_size)\u001b[39m\n\u001b[32m    948\u001b[39m chunker = ByteChunker(chunk_size=chunk_size)\n\u001b[32m    950\u001b[39m \u001b[38;5;28;01mwith\u001b[39;00m request_context(request=\u001b[38;5;28mself\u001b[39m._request):\n\u001b[32m--> \u001b[39m\u001b[32m951\u001b[39m \u001b[43m    \u001b[49m\u001b[38;5;28;43;01mfor\u001b[39;49;00m\u001b[43m \u001b[49m\u001b[43mraw_stream_bytes\u001b[49m\u001b[43m \u001b[49m\u001b[38;5;129;43;01min\u001b[39;49;00m\u001b[43m \u001b[49m\u001b[38;5;28;43mself\u001b[39;49m\u001b[43m.\u001b[49m\u001b[43mstream\u001b[49m\u001b[43m:\u001b[49m\n\u001b[32m    952\u001b[39m \u001b[43m        \u001b[49m\u001b[38;5;28;43mself\u001b[39;49m\u001b[43m.\u001b[49m\u001b[43m_num_bytes_downloaded\u001b[49m\u001b[43m \u001b[49m\u001b[43m+\u001b[49m\u001b[43m=\u001b[49m\u001b[43m \u001b[49m\u001b[38;5;28;43mlen\u001b[39;49m\u001b[43m(\u001b[49m\u001b[43mraw_stream_bytes\u001b[49m\u001b[43m)\u001b[49m\n\u001b[32m    953\u001b[39m \u001b[43m        \u001b[49m\u001b[38;5;28;43;01mfor\u001b[39;49;00m\u001b[43m \u001b[49m\u001b[43mchunk\u001b[49m\u001b[43m \u001b[49m\u001b[38;5;129;43;01min\u001b[39;49;00m\u001b[43m \u001b[49m\u001b[43mchunker\u001b[49m\u001b[43m.\u001b[49m\u001b[43mdecode\u001b[49m\u001b[43m(\u001b[49m\u001b[43mraw_stream_bytes\u001b[49m\u001b[43m)\u001b[49m\u001b[43m:\u001b[49m\n",
      "\u001b[36mFile \u001b[39m\u001b[32m~/anaconda3/envs/mapping/lib/python3.12/site-packages/httpx/_client.py:153\u001b[39m, in \u001b[36mBoundSyncStream.__iter__\u001b[39m\u001b[34m(self)\u001b[39m\n\u001b[32m    152\u001b[39m \u001b[38;5;28;01mdef\u001b[39;00m\u001b[38;5;250m \u001b[39m\u001b[34m__iter__\u001b[39m(\u001b[38;5;28mself\u001b[39m) -> typing.Iterator[\u001b[38;5;28mbytes\u001b[39m]:\n\u001b[32m--> \u001b[39m\u001b[32m153\u001b[39m \u001b[43m    \u001b[49m\u001b[38;5;28;43;01mfor\u001b[39;49;00m\u001b[43m \u001b[49m\u001b[43mchunk\u001b[49m\u001b[43m \u001b[49m\u001b[38;5;129;43;01min\u001b[39;49;00m\u001b[43m \u001b[49m\u001b[38;5;28;43mself\u001b[39;49m\u001b[43m.\u001b[49m\u001b[43m_stream\u001b[49m\u001b[43m:\u001b[49m\n\u001b[32m    154\u001b[39m \u001b[43m        \u001b[49m\u001b[38;5;28;43;01myield\u001b[39;49;00m\u001b[43m \u001b[49m\u001b[43mchunk\u001b[49m\n",
      "\u001b[36mFile \u001b[39m\u001b[32m~/anaconda3/envs/mapping/lib/python3.12/site-packages/httpx/_transports/default.py:127\u001b[39m, in \u001b[36mResponseStream.__iter__\u001b[39m\u001b[34m(self)\u001b[39m\n\u001b[32m    125\u001b[39m \u001b[38;5;28;01mdef\u001b[39;00m\u001b[38;5;250m \u001b[39m\u001b[34m__iter__\u001b[39m(\u001b[38;5;28mself\u001b[39m) -> typing.Iterator[\u001b[38;5;28mbytes\u001b[39m]:\n\u001b[32m    126\u001b[39m     \u001b[38;5;28;01mwith\u001b[39;00m map_httpcore_exceptions():\n\u001b[32m--> \u001b[39m\u001b[32m127\u001b[39m \u001b[43m        \u001b[49m\u001b[38;5;28;43;01mfor\u001b[39;49;00m\u001b[43m \u001b[49m\u001b[43mpart\u001b[49m\u001b[43m \u001b[49m\u001b[38;5;129;43;01min\u001b[39;49;00m\u001b[43m \u001b[49m\u001b[38;5;28;43mself\u001b[39;49m\u001b[43m.\u001b[49m\u001b[43m_httpcore_stream\u001b[49m\u001b[43m:\u001b[49m\n\u001b[32m    128\u001b[39m \u001b[43m            \u001b[49m\u001b[38;5;28;43;01myield\u001b[39;49;00m\u001b[43m \u001b[49m\u001b[43mpart\u001b[49m\n",
      "\u001b[36mFile \u001b[39m\u001b[32m~/anaconda3/envs/mapping/lib/python3.12/site-packages/httpcore/_sync/connection_pool.py:407\u001b[39m, in \u001b[36mPoolByteStream.__iter__\u001b[39m\u001b[34m(self)\u001b[39m\n\u001b[32m    405\u001b[39m \u001b[38;5;28;01mexcept\u001b[39;00m \u001b[38;5;167;01mBaseException\u001b[39;00m \u001b[38;5;28;01mas\u001b[39;00m exc:\n\u001b[32m    406\u001b[39m     \u001b[38;5;28mself\u001b[39m.close()\n\u001b[32m--> \u001b[39m\u001b[32m407\u001b[39m     \u001b[38;5;28;01mraise\u001b[39;00m exc \u001b[38;5;28;01mfrom\u001b[39;00m\u001b[38;5;250m \u001b[39m\u001b[38;5;28;01mNone\u001b[39;00m\n",
      "\u001b[36mFile \u001b[39m\u001b[32m~/anaconda3/envs/mapping/lib/python3.12/site-packages/httpcore/_sync/connection_pool.py:403\u001b[39m, in \u001b[36mPoolByteStream.__iter__\u001b[39m\u001b[34m(self)\u001b[39m\n\u001b[32m    401\u001b[39m \u001b[38;5;28;01mdef\u001b[39;00m\u001b[38;5;250m \u001b[39m\u001b[34m__iter__\u001b[39m(\u001b[38;5;28mself\u001b[39m) -> typing.Iterator[\u001b[38;5;28mbytes\u001b[39m]:\n\u001b[32m    402\u001b[39m     \u001b[38;5;28;01mtry\u001b[39;00m:\n\u001b[32m--> \u001b[39m\u001b[32m403\u001b[39m \u001b[43m        \u001b[49m\u001b[38;5;28;43;01mfor\u001b[39;49;00m\u001b[43m \u001b[49m\u001b[43mpart\u001b[49m\u001b[43m \u001b[49m\u001b[38;5;129;43;01min\u001b[39;49;00m\u001b[43m \u001b[49m\u001b[38;5;28;43mself\u001b[39;49m\u001b[43m.\u001b[49m\u001b[43m_stream\u001b[49m\u001b[43m:\u001b[49m\n\u001b[32m    404\u001b[39m \u001b[43m            \u001b[49m\u001b[38;5;28;43;01myield\u001b[39;49;00m\u001b[43m \u001b[49m\u001b[43mpart\u001b[49m\n\u001b[32m    405\u001b[39m     \u001b[38;5;28;01mexcept\u001b[39;00m \u001b[38;5;167;01mBaseException\u001b[39;00m \u001b[38;5;28;01mas\u001b[39;00m exc:\n",
      "\u001b[36mFile \u001b[39m\u001b[32m~/anaconda3/envs/mapping/lib/python3.12/site-packages/httpcore/_sync/http11.py:342\u001b[39m, in \u001b[36mHTTP11ConnectionByteStream.__iter__\u001b[39m\u001b[34m(self)\u001b[39m\n\u001b[32m    340\u001b[39m \u001b[38;5;28;01mwith\u001b[39;00m ShieldCancellation():\n\u001b[32m    341\u001b[39m     \u001b[38;5;28mself\u001b[39m.close()\n\u001b[32m--> \u001b[39m\u001b[32m342\u001b[39m \u001b[38;5;28;01mraise\u001b[39;00m exc\n",
      "\u001b[36mFile \u001b[39m\u001b[32m~/anaconda3/envs/mapping/lib/python3.12/site-packages/httpcore/_sync/http11.py:334\u001b[39m, in \u001b[36mHTTP11ConnectionByteStream.__iter__\u001b[39m\u001b[34m(self)\u001b[39m\n\u001b[32m    332\u001b[39m \u001b[38;5;28;01mtry\u001b[39;00m:\n\u001b[32m    333\u001b[39m     \u001b[38;5;28;01mwith\u001b[39;00m Trace(\u001b[33m\"\u001b[39m\u001b[33mreceive_response_body\u001b[39m\u001b[33m\"\u001b[39m, logger, \u001b[38;5;28mself\u001b[39m._request, kwargs):\n\u001b[32m--> \u001b[39m\u001b[32m334\u001b[39m \u001b[43m        \u001b[49m\u001b[38;5;28;43;01mfor\u001b[39;49;00m\u001b[43m \u001b[49m\u001b[43mchunk\u001b[49m\u001b[43m \u001b[49m\u001b[38;5;129;43;01min\u001b[39;49;00m\u001b[43m \u001b[49m\u001b[38;5;28;43mself\u001b[39;49m\u001b[43m.\u001b[49m\u001b[43m_connection\u001b[49m\u001b[43m.\u001b[49m\u001b[43m_receive_response_body\u001b[49m\u001b[43m(\u001b[49m\u001b[43m*\u001b[49m\u001b[43m*\u001b[49m\u001b[43mkwargs\u001b[49m\u001b[43m)\u001b[49m\u001b[43m:\u001b[49m\n\u001b[32m    335\u001b[39m \u001b[43m            \u001b[49m\u001b[38;5;28;43;01myield\u001b[39;49;00m\u001b[43m \u001b[49m\u001b[43mchunk\u001b[49m\n\u001b[32m    336\u001b[39m \u001b[38;5;28;01mexcept\u001b[39;00m \u001b[38;5;167;01mBaseException\u001b[39;00m \u001b[38;5;28;01mas\u001b[39;00m exc:\n\u001b[32m    337\u001b[39m     \u001b[38;5;66;03m# If we get an exception while streaming the response,\u001b[39;00m\n\u001b[32m    338\u001b[39m     \u001b[38;5;66;03m# we want to close the response (and possibly the connection)\u001b[39;00m\n\u001b[32m    339\u001b[39m     \u001b[38;5;66;03m# before raising that exception.\u001b[39;00m\n",
      "\u001b[36mFile \u001b[39m\u001b[32m~/anaconda3/envs/mapping/lib/python3.12/site-packages/httpcore/_sync/http11.py:203\u001b[39m, in \u001b[36mHTTP11Connection._receive_response_body\u001b[39m\u001b[34m(self, request)\u001b[39m\n\u001b[32m    200\u001b[39m timeout = timeouts.get(\u001b[33m\"\u001b[39m\u001b[33mread\u001b[39m\u001b[33m\"\u001b[39m, \u001b[38;5;28;01mNone\u001b[39;00m)\n\u001b[32m    202\u001b[39m \u001b[38;5;28;01mwhile\u001b[39;00m \u001b[38;5;28;01mTrue\u001b[39;00m:\n\u001b[32m--> \u001b[39m\u001b[32m203\u001b[39m     event = \u001b[38;5;28;43mself\u001b[39;49m\u001b[43m.\u001b[49m\u001b[43m_receive_event\u001b[49m\u001b[43m(\u001b[49m\u001b[43mtimeout\u001b[49m\u001b[43m=\u001b[49m\u001b[43mtimeout\u001b[49m\u001b[43m)\u001b[49m\n\u001b[32m    204\u001b[39m     \u001b[38;5;28;01mif\u001b[39;00m \u001b[38;5;28misinstance\u001b[39m(event, h11.Data):\n\u001b[32m    205\u001b[39m         \u001b[38;5;28;01myield\u001b[39;00m \u001b[38;5;28mbytes\u001b[39m(event.data)\n",
      "\u001b[36mFile \u001b[39m\u001b[32m~/anaconda3/envs/mapping/lib/python3.12/site-packages/httpcore/_sync/http11.py:217\u001b[39m, in \u001b[36mHTTP11Connection._receive_event\u001b[39m\u001b[34m(self, timeout)\u001b[39m\n\u001b[32m    214\u001b[39m     event = \u001b[38;5;28mself\u001b[39m._h11_state.next_event()\n\u001b[32m    216\u001b[39m \u001b[38;5;28;01mif\u001b[39;00m event \u001b[38;5;129;01mis\u001b[39;00m h11.NEED_DATA:\n\u001b[32m--> \u001b[39m\u001b[32m217\u001b[39m     data = \u001b[38;5;28;43mself\u001b[39;49m\u001b[43m.\u001b[49m\u001b[43m_network_stream\u001b[49m\u001b[43m.\u001b[49m\u001b[43mread\u001b[49m\u001b[43m(\u001b[49m\n\u001b[32m    218\u001b[39m \u001b[43m        \u001b[49m\u001b[38;5;28;43mself\u001b[39;49m\u001b[43m.\u001b[49m\u001b[43mREAD_NUM_BYTES\u001b[49m\u001b[43m,\u001b[49m\u001b[43m \u001b[49m\u001b[43mtimeout\u001b[49m\u001b[43m=\u001b[49m\u001b[43mtimeout\u001b[49m\n\u001b[32m    219\u001b[39m \u001b[43m    \u001b[49m\u001b[43m)\u001b[49m\n\u001b[32m    221\u001b[39m     \u001b[38;5;66;03m# If we feed this case through h11 we'll raise an exception like:\u001b[39;00m\n\u001b[32m    222\u001b[39m     \u001b[38;5;66;03m#\u001b[39;00m\n\u001b[32m    223\u001b[39m     \u001b[38;5;66;03m#     httpcore.RemoteProtocolError: can't handle event type\u001b[39;00m\n\u001b[32m   (...)\u001b[39m\u001b[32m    227\u001b[39m     \u001b[38;5;66;03m# perspective. Instead we handle this case distinctly and treat\u001b[39;00m\n\u001b[32m    228\u001b[39m     \u001b[38;5;66;03m# it as a ConnectError.\u001b[39;00m\n\u001b[32m    229\u001b[39m     \u001b[38;5;28;01mif\u001b[39;00m data == \u001b[33mb\u001b[39m\u001b[33m\"\u001b[39m\u001b[33m\"\u001b[39m \u001b[38;5;129;01mand\u001b[39;00m \u001b[38;5;28mself\u001b[39m._h11_state.their_state == h11.SEND_RESPONSE:\n",
      "\u001b[36mFile \u001b[39m\u001b[32m~/anaconda3/envs/mapping/lib/python3.12/site-packages/httpcore/_backends/sync.py:128\u001b[39m, in \u001b[36mSyncStream.read\u001b[39m\u001b[34m(self, max_bytes, timeout)\u001b[39m\n\u001b[32m    126\u001b[39m \u001b[38;5;28;01mwith\u001b[39;00m map_exceptions(exc_map):\n\u001b[32m    127\u001b[39m     \u001b[38;5;28mself\u001b[39m._sock.settimeout(timeout)\n\u001b[32m--> \u001b[39m\u001b[32m128\u001b[39m     \u001b[38;5;28;01mreturn\u001b[39;00m \u001b[38;5;28;43mself\u001b[39;49m\u001b[43m.\u001b[49m\u001b[43m_sock\u001b[49m\u001b[43m.\u001b[49m\u001b[43mrecv\u001b[49m\u001b[43m(\u001b[49m\u001b[43mmax_bytes\u001b[49m\u001b[43m)\u001b[49m\n",
      "\u001b[31mKeyboardInterrupt\u001b[39m: "
     ]
    }
   ],
   "source": [
    "from ollama import chat\n",
    "\n",
    "stream = chat(\n",
    "    model='qwen3:8b',#'mistral',\n",
    "    messages=[{'role': 'user', 'content': 'Why is the sky blue?'}],\n",
    "    stream=True,\n",
    ")\n",
    "\n",
    "for chunk in stream:\n",
    "  print(chunk['message']['content'], end='', flush=True)"
   ]
  },
  {
   "cell_type": "code",
   "execution_count": null,
   "id": "4158c05d",
   "metadata": {},
   "outputs": [
    {
     "name": "stdout",
     "output_type": "stream",
     "text": [
      " Sorry, I didn't understand your question. Could you please clarify or rephrase it? I'm here to help! If you have any other questions about travel, weather, or culture in Tokyo, feel free to ask!\n",
      "\n"
     ]
    }
   ],
   "source": [
    "from ollama import chat\n",
    "\n",
    "model = 'mistral'\n",
    "\n",
    "messages = [\n",
    "  {\n",
    "    'role': 'user',\n",
    "    'content': 'Why is the sky blue?',\n",
    "  },\n",
    "  {\n",
    "    'role': 'assistant',\n",
    "    'content': \"The sky is blue because of the way the Earth's atmosphere scatters sunlight.\",\n",
    "  },\n",
    "  {\n",
    "    'role': 'user',\n",
    "    'content': 'What is the weather in Tokyo?',\n",
    "  },\n",
    "  {\n",
    "    'role': 'assistant',\n",
    "    'content': 'The weather in Tokyo is typically warm and humid during the summer months, with temperatures often exceeding 30°C (86°F). The city experiences a rainy season from June to September, with heavy rainfall and occasional typhoons. Winter is mild, with temperatures rarely dropping below freezing. The city is known for its high-tech and vibrant culture, with many popular tourist attractions such as the Tokyo Tower, Senso-ji Temple, and the bustling Shibuya district.',\n",
    "  },\n",
    "]\n",
    "\n",
    "#while True:\n",
    "user_input = input('Chat with history: ')\n",
    "response = chat(\n",
    "  model,\n",
    "  messages=[*messages, {'role': 'user', 'content': user_input}],\n",
    ")\n",
    "\n",
    "  # Add the response to the messages to maintain the history\n",
    "messages += [\n",
    "  {'role': 'user', 'content': user_input},\n",
    "  {'role': 'assistant', 'content': response.message.content},\n",
    "]\n",
    "print(response.message.content + '\\n')"
   ]
  },
  {
   "cell_type": "code",
   "execution_count": null,
   "id": "48ac7352",
   "metadata": {},
   "outputs": [
    {
     "data": {
      "text/plain": [
       "[{'role': 'user', 'content': 'Why is the sky blue?'},\n",
       " {'role': 'assistant',\n",
       "  'content': \"The sky is blue because of the way the Earth's atmosphere scatters sunlight.\"},\n",
       " {'role': 'user', 'content': 'What is the weather in Tokyo?'},\n",
       " {'role': 'assistant',\n",
       "  'content': 'The weather in Tokyo is typically warm and humid during the summer months, with temperatures often exceeding 30°C (86°F). The city experiences a rainy season from June to September, with heavy rainfall and occasional typhoons. Winter is mild, with temperatures rarely dropping below freezing. The city is known for its high-tech and vibrant culture, with many popular tourist attractions such as the Tokyo Tower, Senso-ji Temple, and the bustling Shibuya district.'},\n",
       " {'role': 'user', 'content': ''},\n",
       " {'role': 'assistant',\n",
       "  'content': \" Sorry, I didn't understand your question. Could you please clarify or rephrase it? I'm here to help! If you have any other questions about travel, weather, or culture in Tokyo, feel free to ask!\"},\n",
       " {'role': 'user', 'content': ''}]"
      ]
     },
     "execution_count": 4,
     "metadata": {},
     "output_type": "execute_result"
    }
   ],
   "source": [
    "[*messages, {'role': 'user', 'content': user_input}]"
   ]
  },
  {
   "cell_type": "markdown",
   "id": "d5e42377",
   "metadata": {},
   "source": [
    "## Get the nodes\n",
    "We will get nodes from the area with the test centre"
   ]
  },
  {
   "cell_type": "code",
   "execution_count": null,
   "id": "837c9628",
   "metadata": {},
   "outputs": [],
   "source": [
    "G = ox.graph_from_point((51.3829463, -0.2933327), dist=5000, network_type='drive')  # Get the OSMNX network of nodes\n",
    "## Add start nodes\n",
    "G.add_node('test_centre', x=51.38413, y=-0.29299)\n",
    "G.add_node('test_centre_road', x=51.38409, y=-0.29280)\n"
   ]
  },
  {
   "cell_type": "code",
   "execution_count": null,
   "id": "84bc3e07",
   "metadata": {},
   "outputs": [],
   "source": [
    "# Useful functions\n",
    "# Get the nodes on the road\n",
    "def get_all_nodes_on_street(G, start_node, street_name):\n",
    "    \"\"\"This is a 'flood' fill to get all of the nodes on a street\n",
    "\n",
    "    Args:\n",
    "        G (_type_): OSMNX network\n",
    "        start_node (_type_): a starting node on the street\n",
    "        street_name (_type_): this is the name of the street the current node is on\n",
    "    \"\"\"\n",
    "    visited = set() # empty set to store nodes\n",
    "    stack = [start_node] # list of nodes\n",
    "    \n",
    "    while stack: # while the stack list is occupied\n",
    "        node = stack.pop()\n",
    "        if node in visited:\n",
    "            continue\n",
    "        visited.add(node)\n",
    "        \n",
    "        # Check all outward and inward edges\n",
    "        for neighbour in G.neighbors(node): # loop through the node neighbours\n",
    "            for key, data in G.get_edge_data(node, neighbour).items(): # get the edge data\n",
    "                name = data.get(\"name\") # get the name of the edge\n",
    "                if (isinstance(name, list) and street_name in name) or name == street_name: # check if the node is on the street\n",
    "                    if neighbour not in visited:\n",
    "                        stack.append(neighbour) # append the neigbour to the stack to check\n",
    "                    \n",
    "        for pred in G.predecessors(node): # get the predecessor nodes to check for nodes that are on one way roads (may not have upstream edges)\n",
    "            for key, data in G.get_edge_data(pred, node).items():             \n",
    "                name = data.get(\"name\")    \n",
    "                if (isinstance(name, list) and street_name in name or name == street_name):    \n",
    "                    if pred not in visited: # check the node has already been added to visited\n",
    "                        stack.append(pred) # add the \n",
    "        \n",
    "    return list(visited)\n",
    "\n",
    "\n",
    "# Get the edges between nodes"
   ]
  },
  {
   "cell_type": "code",
   "execution_count": null,
   "id": "8fefaf14",
   "metadata": {},
   "outputs": [
    {
     "name": "stderr",
     "output_type": "stream",
     "text": [
      "/home/dave/anaconda3/envs/mapping_py12/lib/python3.12/site-packages/dash/dash.py:587: UserWarning:\n",
      "\n",
      "JupyterDash is deprecated, use Dash instead.\n",
      "See https://dash.plotly.com/dash-in-jupyter for more details.\n",
      "\n"
     ]
    },
    {
     "data": {
      "text/html": [
       "\n",
       "        <iframe\n",
       "            width=\"100%\"\n",
       "            height=\"650\"\n",
       "            src=\"http://127.0.0.1:8050/\"\n",
       "            frameborder=\"0\"\n",
       "            allowfullscreen\n",
       "            \n",
       "        ></iframe>\n",
       "        "
      ],
      "text/plain": [
       "<IPython.lib.display.IFrame at 0x7f410b34dee0>"
      ]
     },
     "metadata": {},
     "output_type": "display_data"
    }
   ],
   "source": [
    "# Test the getting node functions and plot to see\n",
    "centre_lat = 51.3829463\n",
    "centre_lon = -0.2933327\n",
    "\n",
    "douglas_road_node_ids = get_all_nodes_on_street(G, 23779844, \"Douglas Road\")\n",
    "douglas_road_nodes = {node: G.nodes[node] for node in douglas_road_node_ids if node in G.nodes}\n",
    "\n",
    "douglas_road_markers = [\n",
    "    dl.Marker(position=(douglas_road_nodes[nid]['y'], douglas_road_nodes[nid]['x']), children=dl.Tooltip(str(nid)))\n",
    "    for nid in douglas_road_nodes\n",
    "]\n",
    "\n",
    "dennan_road_node_ids = get_all_nodes_on_street(G, 23779844, \"Dennan Road\")\n",
    "dennan_road_nodes = {node: G.nodes[node] for node in dennan_road_node_ids if node in G.nodes}\n",
    "\n",
    "dennan_road_markers = [\n",
    "    dl.Marker(position=(dennan_road_nodes[nid]['y'], dennan_road_nodes[nid]['x']), children=dl.Tooltip(str(nid)))\n",
    "    for nid in dennan_road_nodes\n",
    "]\n",
    "\n",
    "\n",
    "app = JupyterDash(__name__)\n",
    "app.layout = html.Div([\n",
    "    dl.Map(center=(centre_lat, centre_lon), zoom=18, children=[\n",
    "        dl.TileLayer(),\n",
    "        dl.LayerGroup(douglas_road_markers),\n",
    "        dl.LayerGroup(dennan_road_markers)\n",
    "    ], style={'width': '100%', 'height': '1200px'})\n",
    "])\n",
    "\n",
    "app.run(mode='inline')\n"
   ]
  },
  {
   "cell_type": "markdown",
   "id": "bf597986",
   "metadata": {},
   "source": [
    "## Creating the prompts"
   ]
  },
  {
   "cell_type": "code",
   "execution_count": null,
   "id": "b208ec43",
   "metadata": {},
   "outputs": [],
   "source": [
    "llm_initial_prompt = \"\"\"\n",
    "You are a navigation assistant working with geographic road network data.\n",
    "\n",
    "You are given:\n",
    "- The current node (with latitude and longitude)\n",
    "- The previous node (used to determine direction of travel)\n",
    "- The name of the current road\n",
    "- All nodes on that road (with latitude and longitude)\n",
    "- The name of the road the user is turning onto\n",
    "- All nodes on that road (with latitude and longitude)\n",
    "- A turn instruction, such as \"first right\", \"2nd left\", or \"exit 3rd at roundabout, which well tell you the initial direction to take from the current node\"\n",
    "\n",
    "Your job is to:\n",
    "1. Determine the most likely junction node that connects the current road to the new road, based on geometry and instruction.\n",
    "2. Return:\n",
    "   - `junction_node`: the node ID of the junction\n",
    "   - `path_to_junction`: an ordered list of node IDs starting from the current node to the junction node (inclusive)\n",
    "\n",
    "Be precise. Use the spatial relationship between the current and previous nodes to determine forward direction, then use the turn instruction to determine which way to turn.\n",
    "\n",
    "Always return JSON like:\n",
    "```json\n",
    "{\n",
    "  \"junction_node\": 123456,\n",
    "  \"path_to_junction\": [123123, 123124, 123456]\n",
    "}\n",
    "\n",
    "\"\"\""
   ]
  },
  {
   "cell_type": "code",
   "execution_count": null,
   "id": "b0ae2e41",
   "metadata": {},
   "outputs": [
    {
     "data": {
      "text/plain": [
       "-0.2938243"
      ]
     },
     "execution_count": 41,
     "metadata": {},
     "output_type": "execute_result"
    }
   ],
   "source": []
  },
  {
   "cell_type": "code",
   "execution_count": null,
   "id": "e822380d",
   "metadata": {},
   "outputs": [
    {
     "data": {
      "text/plain": [
       "{23779844: {'lat': -0.2938243, 'lon': 51.381894},\n",
       " 23780711: {'lat': -0.2944253, 'lon': 51.3806375},\n",
       " 2578590287: {'lat': -0.2926397, 'lon': 51.3844335},\n",
       " 125793172: {'lat': -0.2952753, 'lon': 51.3784392},\n",
       " 134912281: {'lat': -0.2947642, 'lon': 51.3799006},\n",
       " 134912282: {'lat': -0.2950307, 'lon': 51.3791745}}"
      ]
     },
     "execution_count": 11,
     "metadata": {},
     "output_type": "execute_result"
    }
   ],
   "source": [
    "{nid : {\n",
    "        \"lat\": G.nodes[nid]['x'],\n",
    "        \"lon\": G.nodes[nid]['y']}\n",
    "      for nid in douglas_road_nodes\n",
    "}"
   ]
  },
  {
   "cell_type": "code",
   "execution_count": null,
   "id": "5b333236",
   "metadata": {},
   "outputs": [],
   "source": [
    "# Build prompt\n",
    "def build_turn_prompt(\n",
    "    G, current_node_id, previous_node_id, current_road_name, \n",
    "    current_road_nodes, next_road_name, next_road_nodes, instruction,\n",
    "    llm_initial_prompt\n",
    "):\n",
    "    data = {\n",
    "        \"current_node\": {\n",
    "            \"id\": current_node_id,\n",
    "            \"lat\": G.nodes[current_node_id]['x'],\n",
    "            \"lon\": G.nodes[current_node_id]['y']\n",
    "        },\n",
    "        \"previous_node\": {\n",
    "            \"id\": previous_node_id,\n",
    "            \"lat\": G.nodes[previous_node_id]['x'],\n",
    "            \"lon\": G.nodes[previous_node_id]['y']\n",
    "        },\n",
    "        \"current_road\": current_road_name,\n",
    "        \"current_road_nodes\": [{\n",
    "            \"id\": nid,\n",
    "            \"lat\": G.nodes[nid]['x'],\n",
    "            \"lon\": G.nodes[nid]['y']}\n",
    "            for nid in current_road_nodes\n",
    "        ],\n",
    "        \"next_road\": next_road_name,\n",
    "        \"next_road_nodes\": [{\n",
    "            \"id\": nid,\n",
    "            \"lat\": G.nodes[nid]['x'],\n",
    "            \"lon\": G.nodes[nid]['y']}\n",
    "            for nid in next_road_nodes\n",
    "        ],\n",
    "        \"instruction\": instruction\n",
    "    }\n",
    "    \n",
    "    prompt = f\"\"\"\n",
    "        {llm_initial_prompt}\n",
    "        \n",
    "        Here is the data:\n",
    "        {json.dumps(data, indent=2)}\n",
    "        \n",
    "        Return JSON with:\n",
    "        - junction_node (node ID)\n",
    "        - path_to_junction (ordered node IDs from current node to junction)\n",
    "        \n",
    "        \n",
    "    \"\"\"\n",
    "    \n",
    "    return prompt.strip()"
   ]
  },
  {
   "cell_type": "code",
   "execution_count": null,
   "id": "34821415",
   "metadata": {},
   "outputs": [
    {
     "name": "stdout",
     "output_type": "stream",
     "text": [
      "You are a navigation assistant working with geographic road network data.\n",
      "\n",
      "You are given:\n",
      "- The current node (with latitude and longitude)\n",
      "- The previous node (used to determine direction of travel)\n",
      "- The name of the current road\n",
      "- All nodes on that road (with latitude and longitude)\n",
      "- The name of the road the user is turning onto\n",
      "- All nodes on that road (with latitude and longitude)\n",
      "- A turn instruction, such as \"first right\", \"2nd left\", or \"exit 3rd at roundabout, which well tell you the initial direction to take from the current node\"\n",
      "\n",
      "Your job is to:\n",
      "1. Determine the most likely junction node that connects the current road to the new road, based on geometry and instruction.\n",
      "2. Return:\n",
      "   - `junction_node`: the node ID of the junction\n",
      "   - `path_to_junction`: an ordered list of node IDs starting from the current node to the junction node (inclusive)\n",
      "\n",
      "Be precise. Use the spatial relationship between the current and previous nodes to determine forward direction, then use the turn instruction to determine which way to turn.\n",
      "\n",
      "Always return JSON like:\n",
      "```json\n",
      "{\n",
      "  \"junction_node\": 123456,\n",
      "  \"path_to_junction\": [123123, 123124, 123456]\n",
      "}\n",
      "\n",
      "\n",
      "\n",
      "        Here is the data:\n",
      "        {\n",
      "  \"current_node\": {\n",
      "    \"id\": \"test_centre_road\",\n",
      "    \"lat\": 51.38409,\n",
      "    \"lon\": -0.2928\n",
      "  },\n",
      "  \"previous_node\": {\n",
      "    \"id\": \"test_centre\",\n",
      "    \"lat\": 51.38413,\n",
      "    \"lon\": -0.29299\n",
      "  },\n",
      "  \"current_road\": \"Douglas Road\",\n",
      "  \"current_road_nodes\": [\n",
      "    {\n",
      "      \"id\": 23779844,\n",
      "      \"lat\": -0.2938243,\n",
      "      \"lon\": 51.381894\n",
      "    },\n",
      "    {\n",
      "      \"id\": 23780711,\n",
      "      \"lat\": -0.2944253,\n",
      "      \"lon\": 51.3806375\n",
      "    },\n",
      "    {\n",
      "      \"id\": 2578590287,\n",
      "      \"lat\": -0.2926397,\n",
      "      \"lon\": 51.3844335\n",
      "    },\n",
      "    {\n",
      "      \"id\": 125793172,\n",
      "      \"lat\": -0.2952753,\n",
      "      \"lon\": 51.3784392\n",
      "    },\n",
      "    {\n",
      "      \"id\": 134912281,\n",
      "      \"lat\": -0.2947642,\n",
      "      \"lon\": 51.3799006\n",
      "    },\n",
      "    {\n",
      "      \"id\": 134912282,\n",
      "      \"lat\": -0.2950307,\n",
      "      \"lon\": 51.3791745\n",
      "    }\n",
      "  ],\n",
      "  \"next_road\": \"Dennan Road\",\n",
      "  \"next_road_nodes\": [\n",
      "    {\n",
      "      \"id\": 23787122,\n",
      "      \"lat\": -0.2978169,\n",
      "      \"lon\": 51.3826178\n",
      "    },\n",
      "    {\n",
      "      \"id\": 23780562,\n",
      "      \"lat\": -0.2964622,\n",
      "      \"lon\": 51.3823802\n",
      "    },\n",
      "    {\n",
      "      \"id\": 23779844,\n",
      "      \"lat\": -0.2938243,\n",
      "      \"lon\": 51.381894\n",
      "    },\n",
      "    {\n",
      "      \"id\": 23780702,\n",
      "      \"lat\": -0.2952131,\n",
      "      \"lon\": 51.3821512\n",
      "    }\n",
      "  ],\n",
      "  \"instruction\": \"Right out of car park\"\n",
      "}\n",
      "\n",
      "        Return JSON with:\n",
      "        - junction_node (node ID)\n",
      "        - path_to_junction (ordered node IDs from current node to junction)\n"
     ]
    }
   ],
   "source": [
    "## Trial prompt\n",
    "doulgas_dennan_prompt = build_turn_prompt(G, 'test_centre_road', 'test_centre', 'Douglas Road', \n",
    "    get_all_nodes_on_street(G, 23779844, \"Douglas Road\"), \n",
    "    'Dennan Road', get_all_nodes_on_street(G, 23779844, \"Dennan Road\"), \n",
    "    'Right out of car park', llm_initial_prompt\n",
    ")\n",
    "\n",
    "print(doulgas_dennan_prompt)"
   ]
  },
  {
   "cell_type": "code",
   "execution_count": null,
   "id": "0703e14c",
   "metadata": {},
   "outputs": [
    {
     "ename": "ResponseError",
     "evalue": "model requires more system memory (6.6 GiB) than is available (6.3 GiB) (status code: 500)",
     "output_type": "error",
     "traceback": [
      "\u001b[31m---------------------------------------------------------------------------\u001b[39m",
      "\u001b[31mResponseError\u001b[39m                             Traceback (most recent call last)",
      "\u001b[36mCell\u001b[39m\u001b[36m \u001b[39m\u001b[32mIn[12]\u001b[39m\u001b[32m, line 8\u001b[39m\n\u001b[32m      1\u001b[39m \u001b[38;5;66;03m# Give prompt to LLM\u001b[39;00m\n\u001b[32m      2\u001b[39m stream = chat(\n\u001b[32m      3\u001b[39m     model=\u001b[33m'\u001b[39m\u001b[33mqwen3:8b\u001b[39m\u001b[33m'\u001b[39m,\n\u001b[32m      4\u001b[39m     messages=[{\u001b[33m'\u001b[39m\u001b[33mrole\u001b[39m\u001b[33m'\u001b[39m: \u001b[33m'\u001b[39m\u001b[33muser\u001b[39m\u001b[33m'\u001b[39m, \u001b[33m'\u001b[39m\u001b[33mcontent\u001b[39m\u001b[33m'\u001b[39m: doulgas_dennan_prompt}],\n\u001b[32m      5\u001b[39m     stream=\u001b[38;5;28;01mTrue\u001b[39;00m,\n\u001b[32m      6\u001b[39m )\n\u001b[32m----> \u001b[39m\u001b[32m8\u001b[39m \u001b[38;5;28;43;01mfor\u001b[39;49;00m\u001b[43m \u001b[49m\u001b[43mchunk\u001b[49m\u001b[43m \u001b[49m\u001b[38;5;129;43;01min\u001b[39;49;00m\u001b[43m \u001b[49m\u001b[43mstream\u001b[49m\u001b[43m:\u001b[49m\n\u001b[32m      9\u001b[39m \u001b[43m  \u001b[49m\u001b[38;5;28;43mprint\u001b[39;49m\u001b[43m(\u001b[49m\u001b[43mchunk\u001b[49m\u001b[43m[\u001b[49m\u001b[33;43m'\u001b[39;49m\u001b[33;43mmessage\u001b[39;49m\u001b[33;43m'\u001b[39;49m\u001b[43m]\u001b[49m\u001b[43m[\u001b[49m\u001b[33;43m'\u001b[39;49m\u001b[33;43mcontent\u001b[39;49m\u001b[33;43m'\u001b[39;49m\u001b[43m]\u001b[49m\u001b[43m,\u001b[49m\u001b[43m \u001b[49m\u001b[43mend\u001b[49m\u001b[43m=\u001b[49m\u001b[33;43m'\u001b[39;49m\u001b[33;43m'\u001b[39;49m\u001b[43m,\u001b[49m\u001b[43m \u001b[49m\u001b[43mflush\u001b[49m\u001b[43m=\u001b[49m\u001b[38;5;28;43;01mTrue\u001b[39;49;00m\u001b[43m)\u001b[49m\n",
      "\u001b[36mFile \u001b[39m\u001b[32m~/anaconda3/envs/mapping_py12/lib/python3.12/site-packages/ollama/_client.py:168\u001b[39m, in \u001b[36mClient._request.<locals>.inner\u001b[39m\u001b[34m()\u001b[39m\n\u001b[32m    166\u001b[39m \u001b[38;5;28;01mexcept\u001b[39;00m httpx.HTTPStatusError \u001b[38;5;28;01mas\u001b[39;00m e:\n\u001b[32m    167\u001b[39m   e.response.read()\n\u001b[32m--> \u001b[39m\u001b[32m168\u001b[39m   \u001b[38;5;28;01mraise\u001b[39;00m ResponseError(e.response.text, e.response.status_code) \u001b[38;5;28;01mfrom\u001b[39;00m\u001b[38;5;250m \u001b[39m\u001b[38;5;28;01mNone\u001b[39;00m\n\u001b[32m    170\u001b[39m \u001b[38;5;28;01mfor\u001b[39;00m line \u001b[38;5;129;01min\u001b[39;00m r.iter_lines():\n\u001b[32m    171\u001b[39m   part = json.loads(line)\n",
      "\u001b[31mResponseError\u001b[39m: model requires more system memory (6.6 GiB) than is available (6.3 GiB) (status code: 500)"
     ]
    }
   ],
   "source": [
    "# Give prompt to LLM\n",
    "stream = chat(\n",
    "    model='qwen3:8b',\n",
    "    messages=[{'role': 'user', 'content': doulgas_dennan_prompt}],\n",
    "    stream=True,\n",
    ")\n",
    "\n",
    "for chunk in stream:\n",
    "  print(chunk['message']['content'], end='', flush=True)"
   ]
  }
 ],
 "metadata": {
  "kernelspec": {
   "display_name": "mapping",
   "language": "python",
   "name": "python3"
  },
  "language_info": {
   "codemirror_mode": {
    "name": "ipython",
    "version": 3
   },
   "file_extension": ".py",
   "mimetype": "text/x-python",
   "name": "python",
   "nbconvert_exporter": "python",
   "pygments_lexer": "ipython3",
   "version": "3.12.9"
  }
 },
 "nbformat": 4,
 "nbformat_minor": 5
}
