{
 "cells": [
  {
   "cell_type": "markdown",
   "id": "433b7109",
   "metadata": {},
   "source": [
    "## Note book where I can open a connection to an LLM and give prompts"
   ]
  },
  {
   "cell_type": "code",
   "execution_count": 10,
   "id": "df820906",
   "metadata": {},
   "outputs": [],
   "source": [
    "# Load Libraries\n",
    "import osmnx as ox\n",
    "import networkx as nx\n",
    "import dash_leaflet as dl\n",
    "from jupyter_dash import JupyterDash\n",
    "from dash import html\n",
    "import dash\n",
    "import json\n",
    "from ollama import chat\n"
   ]
  },
  {
   "cell_type": "code",
   "execution_count": 2,
   "id": "82ea3712",
   "metadata": {},
   "outputs": [
    {
     "name": "stdout",
     "output_type": "stream",
     "text": [
      "<think>\n",
      "Okay, the user is asking why the sky is blue. I need to explain this in a clear and accurate way. Let me start by recalling what I know about this. I remember that it has to do with the scattering of light by the atmosphere. But wait, why blue specifically? I think it's related to Rayleigh scattering. \n",
      "\n",
      "So, sunlight is white, but it's made up of different colors, each with different wavelengths. The Earth's atmosphere is made up of gases and particles. When sunlight enters the atmosphere, the molecules in the air scatter the light. Rayleigh scattering is when shorter wavelengths (like blue and violet) are scattered more than longer ones (like red and yellow). \n",
      "\n",
      "But wait, why blue and not violet? I think the Sun emits more blue light than violet, and our eyes are more sensitive to blue. Also, some of the violet light is absorbed by the upper atmosphere. So the combination of these factors makes the sky appear blue. \n",
      "\n",
      "I should also mention that during sunrise or sunset, the sky turns red or orange because the light has to pass through more atmosphere, scattering the blue light out of our line of sight, leaving the longer wavelengths. \n",
      "\n",
      "Let me check if there are any other factors. Maybe the presence of particles in the air, like dust or pollution, can affect the color, but that's more about the Tyndall effect, which is different. Rayleigh scattering is for smaller particles, like molecules. \n",
      "\n",
      "Wait, the user might be a student or someone curious, so I should keep the explanation simple without too much jargon. Also, maybe mention that the human eye is more sensitive to blue, so even though violet is scattered more, we perceive the sky as blue. \n",
      "\n",
      "I need to make sure I don't mix up the different types of scattering. Rayleigh is wavelength-dependent, while Mie scattering is for larger particles, like water droplets, which is why clouds are white. \n",
      "\n",
      "So putting it all together: sunlight is scattered by air molecules, shorter wavelengths (blue/violet) are scattered more, but our eyes are more sensitive to blue, and some violet is absorbed, leading to the blue sky. During sunrise/sunset, the path is longer, so blue is scattered away, leaving red/orange. \n",
      "\n",
      "I should also mention that the exact color can vary based on atmospheric conditions, like pollution or altitude. But the main reason is Rayleigh scattering. Maybe include a simple analogy, like a prism splitting light into colors, but the atmosphere scatters the shorter wavelengths. \n",
      "\n",
      "Wait, is there any confusion with the fact that the Sun emits more blue light? Or is it just the scattering? I think both factors are important. The scattering is the main reason, but the actual intensity of blue light from the Sun also contributes. \n",
      "\n",
      "I should structure the answer step by step: first, sunlight composition, then scattering by atmosphere, explain Rayleigh scattering, why blue is dominant, and then mention the different times of day. Maybe add a note about the human eye's sensitivity. \n",
      "\n",
      "Also, check for any common misconceptions. For example, some might think the sky is blue because the Earth's surface is blue, but that's not the case. The color is due to the atmosphere. \n",
      "\n",
      "Okay, I think that covers the main points. Now, present it in a clear, concise manner without being too technical. Use simple language, maybe bullet points or a numbered list for the steps. Make sure to highlight the key points: Rayleigh scattering, shorter wavelengths, human eye sensitivity, and the effect of different times of day.\n",
      "</think>\n",
      "\n",
      "The sky appears blue due to a phenomenon called **Rayleigh scattering**, which involves how sunlight interacts with the Earth's atmosphere. Here's a simplified explanation:\n",
      "\n",
      "1. **Sunlight Composition**:  \n",
      "   Sunlight is a mix of all visible colors (red, orange, yellow, green, blue, indigo, violet), each with different wavelengths. Blue and violet have the shortest wavelengths, while red and yellow have longer ones.\n",
      "\n",
      "2. **Atmospheric Scattering**:  \n",
      "   When sunlight enters the Earth's atmosphere, it collides with gas molecules (like nitrogen and oxygen). These molecules scatter light in all directions. Shorter wavelengths (blue/violet) are scattered **much more** than longer wavelengths (red/yellow). This is called **Rayleigh scattering**.\n",
      "\n",
      "3. **Why Blue, Not Violet?**  \n",
      "   - The Sun emits more blue light than violet.  \n",
      "   - Human eyes are more sensitive to blue light than violet.  \n",
      "   - Some violet light is absorbed by the upper atmosphere, reducing its contribution.  \n",
      "   Together, these factors make blue the dominant color we perceive.\n",
      "\n",
      "4. **Sunrise and Sunset**:  \n",
      "   During these times, sunlight travels a longer path through the atmosphere. This scatters most of the blue light out of our line of sight, leaving the longer wavelengths (red, orange, yellow) to dominate, creating the warm hues of sunrise/sunset.\n",
      "\n",
      "5. **Other Factors**:  \n",
      "   - **Pollution or particles** (like dust or water droplets) can alter the scattering, sometimes making the sky appear more white or gray (Tyndall effect).  \n",
      "   - **Altitude** also affects the color: at higher altitudes, the thinner atmosphere scatters less light, making the sky appear darker blue.\n",
      "\n",
      "In summary, the blue sky is a result of Rayleigh scattering, the human eye's sensitivity to blue light, and the Sun's emission spectrum. The exact shade of blue can vary depending on atmospheric conditions and the time of day. 🌈\n",
      "<think>\n",
      "Okay, the user is asking why the sky is blue. I need to explain this in a clear and accurate way. Let me start by recalling what I know about this. I remember that it has to do with the scattering of light by the atmosphere. But wait, why blue specifically? I think it's related to Rayleigh scattering. \n",
      "\n",
      "So, sunlight is white, but it's made up of different colors, each with different wavelengths. The Earth's atmosphere is made up of gases and particles. When sunlight enters the atmosphere, the molecules in the air scatter the light. Rayleigh scattering is when shorter wavelengths (like blue and violet) are scattered more than longer ones (like red and yellow). \n",
      "\n",
      "But wait, why blue and not violet? I think the Sun emits more blue light than violet, and our eyes are more sensitive to blue. Also, some of the violet light is absorbed by the upper atmosphere. So the combination of these factors makes the sky appear blue. \n",
      "\n",
      "I should also mention that during sunrise or sunset, the sky turns red or orange because the light has to pass through more atmosphere, scattering the blue light out of our line of sight, leaving the longer wavelengths. \n",
      "\n",
      "Let me check if there are any other factors. Maybe the presence of particles in the air, like dust or pollution, can affect the color, but that's more about the Tyndall effect, which is different. Rayleigh scattering is for smaller particles, like molecules. \n",
      "\n",
      "Wait, the user might be a student or someone curious, so I should keep the explanation simple without too much jargon. Also, maybe mention that the human eye is more sensitive to blue, so even though violet is scattered more, we perceive the sky as blue. \n",
      "\n",
      "I need to make sure I don't mix up the different types of scattering. Rayleigh is wavelength-dependent, while Mie scattering is for larger particles, like water droplets, which is why clouds are white. \n",
      "\n",
      "So putting it all together: sunlight is scattered by air molecules, shorter wavelengths (blue/violet) are scattered more, but our eyes are more sensitive to blue, and some violet is absorbed, leading to the blue sky. During sunrise/sunset, the path is longer, so blue is scattered away, leaving red/orange. \n",
      "\n",
      "I should also mention that the exact color can vary based on atmospheric conditions, like pollution or altitude. But the main reason is Rayleigh scattering. Maybe include a simple analogy, like a prism splitting light into colors, but the atmosphere scatters the shorter wavelengths. \n",
      "\n",
      "Wait, is there any confusion with the fact that the Sun emits more blue light? Or is it just the scattering? I think both factors are important. The scattering is the main reason, but the actual intensity of blue light from the Sun also contributes. \n",
      "\n",
      "I should structure the answer step by step: first, sunlight composition, then scattering by atmosphere, explain Rayleigh scattering, why blue is dominant, and then mention the different times of day. Maybe add a note about the human eye's sensitivity. \n",
      "\n",
      "Also, check for any common misconceptions. For example, some might think the sky is blue because the Earth's surface is blue, but that's not the case. The color is due to the atmosphere. \n",
      "\n",
      "Okay, I think that covers the main points. Now, present it in a clear, concise manner without being too technical. Use simple language, maybe bullet points or a numbered list for the steps. Make sure to highlight the key points: Rayleigh scattering, shorter wavelengths, human eye sensitivity, and the effect of different times of day.\n",
      "</think>\n",
      "\n",
      "The sky appears blue due to a phenomenon called **Rayleigh scattering**, which involves how sunlight interacts with the Earth's atmosphere. Here's a simplified explanation:\n",
      "\n",
      "1. **Sunlight Composition**:  \n",
      "   Sunlight is a mix of all visible colors (red, orange, yellow, green, blue, indigo, violet), each with different wavelengths. Blue and violet have the shortest wavelengths, while red and yellow have longer ones.\n",
      "\n",
      "2. **Atmospheric Scattering**:  \n",
      "   When sunlight enters the Earth's atmosphere, it collides with gas molecules (like nitrogen and oxygen). These molecules scatter light in all directions. Shorter wavelengths (blue/violet) are scattered **much more** than longer wavelengths (red/yellow). This is called **Rayleigh scattering**.\n",
      "\n",
      "3. **Why Blue, Not Violet?**  \n",
      "   - The Sun emits more blue light than violet.  \n",
      "   - Human eyes are more sensitive to blue light than violet.  \n",
      "   - Some violet light is absorbed by the upper atmosphere, reducing its contribution.  \n",
      "   Together, these factors make blue the dominant color we perceive.\n",
      "\n",
      "4. **Sunrise and Sunset**:  \n",
      "   During these times, sunlight travels a longer path through the atmosphere. This scatters most of the blue light out of our line of sight, leaving the longer wavelengths (red, orange, yellow) to dominate, creating the warm hues of sunrise/sunset.\n",
      "\n",
      "5. **Other Factors**:  \n",
      "   - **Pollution or particles** (like dust or water droplets) can alter the scattering, sometimes making the sky appear more white or gray (Tyndall effect).  \n",
      "   - **Altitude** also affects the color: at higher altitudes, the thinner atmosphere scatters less light, making the sky appear darker blue.\n",
      "\n",
      "In summary, the blue sky is a result of Rayleigh scattering, the human eye's sensitivity to blue light, and the Sun's emission spectrum. The exact shade of blue can vary depending on atmospheric conditions and the time of day. 🌈\n"
     ]
    }
   ],
   "source": [
    "from ollama import chat\n",
    "from ollama import ChatResponse\n",
    "\n",
    "response: ChatResponse = chat(model='qwen3:8b', messages=[\n",
    "  {\n",
    "    'role': 'user',\n",
    "    'content': 'Why is the sky blue?',\n",
    "  },\n",
    "])\n",
    "print(response['message']['content'])\n",
    "# or access fields directly from the response object\n",
    "print(response.message.content)"
   ]
  },
  {
   "cell_type": "code",
   "execution_count": 4,
   "id": "0282d69b",
   "metadata": {},
   "outputs": [
    {
     "data": {
      "text/plain": [
       "Message(role='assistant', content=\"<think>\\nOkay, the user is asking why the sky is blue. I need to explain this in a clear and accurate way. Let me start by recalling what I know about this. I remember that it has to do with the scattering of light by the atmosphere. But wait, why blue specifically? I think it's related to Rayleigh scattering. \\n\\nSo, sunlight is white, but it's made up of different colors, each with different wavelengths. The Earth's atmosphere is made up of gases and particles. When sunlight enters the atmosphere, the molecules in the air scatter the light. Rayleigh scattering is when shorter wavelengths (like blue and violet) are scattered more than longer ones (like red and yellow). \\n\\nBut wait, why blue and not violet? I think the Sun emits more blue light than violet, and our eyes are more sensitive to blue. Also, some of the violet light is absorbed by the upper atmosphere. So the combination of these factors makes the sky appear blue. \\n\\nI should also mention that during sunrise or sunset, the sky turns red or orange because the light has to pass through more atmosphere, scattering the blue light out of our line of sight, leaving the longer wavelengths. \\n\\nLet me check if there are any other factors. Maybe the presence of particles in the air, like dust or pollution, can affect the color, but that's more about the Tyndall effect, which is different. Rayleigh scattering is for smaller particles, like molecules. \\n\\nWait, the user might be a student or someone curious, so I should keep the explanation simple without too much jargon. Also, maybe mention that the human eye is more sensitive to blue, so even though violet is scattered more, we perceive the sky as blue. \\n\\nI need to make sure I don't mix up the different types of scattering. Rayleigh is wavelength-dependent, while Mie scattering is for larger particles, like water droplets, which is why clouds are white. \\n\\nSo putting it all together: sunlight is scattered by air molecules, shorter wavelengths (blue/violet) are scattered more, but our eyes are more sensitive to blue, and some violet is absorbed, leading to the blue sky. During sunrise/sunset, the path is longer, so blue is scattered away, leaving red/orange. \\n\\nI should also mention that the exact color can vary based on atmospheric conditions, like pollution or altitude. But the main reason is Rayleigh scattering. Maybe include a simple analogy, like a prism splitting light into colors, but the atmosphere scatters the shorter wavelengths. \\n\\nWait, is there any confusion with the fact that the Sun emits more blue light? Or is it just the scattering? I think both factors are important. The scattering is the main reason, but the actual intensity of blue light from the Sun also contributes. \\n\\nI should structure the answer step by step: first, sunlight composition, then scattering by atmosphere, explain Rayleigh scattering, why blue is dominant, and then mention the different times of day. Maybe add a note about the human eye's sensitivity. \\n\\nAlso, check for any common misconceptions. For example, some might think the sky is blue because the Earth's surface is blue, but that's not the case. The color is due to the atmosphere. \\n\\nOkay, I think that covers the main points. Now, present it in a clear, concise manner without being too technical. Use simple language, maybe bullet points or a numbered list for the steps. Make sure to highlight the key points: Rayleigh scattering, shorter wavelengths, human eye sensitivity, and the effect of different times of day.\\n</think>\\n\\nThe sky appears blue due to a phenomenon called **Rayleigh scattering**, which involves how sunlight interacts with the Earth's atmosphere. Here's a simplified explanation:\\n\\n1. **Sunlight Composition**:  \\n   Sunlight is a mix of all visible colors (red, orange, yellow, green, blue, indigo, violet), each with different wavelengths. Blue and violet have the shortest wavelengths, while red and yellow have longer ones.\\n\\n2. **Atmospheric Scattering**:  \\n   When sunlight enters the Earth's atmosphere, it collides with gas molecules (like nitrogen and oxygen). These molecules scatter light in all directions. Shorter wavelengths (blue/violet) are scattered **much more** than longer wavelengths (red/yellow). This is called **Rayleigh scattering**.\\n\\n3. **Why Blue, Not Violet?**  \\n   - The Sun emits more blue light than violet.  \\n   - Human eyes are more sensitive to blue light than violet.  \\n   - Some violet light is absorbed by the upper atmosphere, reducing its contribution.  \\n   Together, these factors make blue the dominant color we perceive.\\n\\n4. **Sunrise and Sunset**:  \\n   During these times, sunlight travels a longer path through the atmosphere. This scatters most of the blue light out of our line of sight, leaving the longer wavelengths (red, orange, yellow) to dominate, creating the warm hues of sunrise/sunset.\\n\\n5. **Other Factors**:  \\n   - **Pollution or particles** (like dust or water droplets) can alter the scattering, sometimes making the sky appear more white or gray (Tyndall effect).  \\n   - **Altitude** also affects the color: at higher altitudes, the thinner atmosphere scatters less light, making the sky appear darker blue.\\n\\nIn summary, the blue sky is a result of Rayleigh scattering, the human eye's sensitivity to blue light, and the Sun's emission spectrum. The exact shade of blue can vary depending on atmospheric conditions and the time of day. 🌈\", images=None, tool_calls=None)"
      ]
     },
     "execution_count": 4,
     "metadata": {},
     "output_type": "execute_result"
    }
   ],
   "source": [
    "response['message']"
   ]
  },
  {
   "cell_type": "code",
   "execution_count": 5,
   "id": "e7310b28",
   "metadata": {},
   "outputs": [
    {
     "name": "stdout",
     "output_type": "stream",
     "text": [
      "<think>\n",
      "Okay, so the user is asking why the sky is blue. I remember that this is a common question, especially for kids. Let me think about the explanation. I think it has to do with light scattering. Wait, Rayleigh scattering? Right, shorter wavelengths scatter more. But why blue specifically?\n",
      "\n",
      "Let me recall. Sunlight is white, which is a mix of all colors. When sunlight enters Earth's atmosphere, the molecules and small particles in the air scatter the light. Blue light has a shorter wavelength compared to red, orange, yellow, etc. So blue light is scattered more in all directions by the gases and particles in the atmosphere. That's why the sky appears blue to us. \n",
      "\n",
      "But wait, why not violet? Because the sun emits more blue light than violet, and our eyes are more sensitive to blue. Also, some of the violet light is absorbed by the upper atmosphere. So the combination of more blue light and our eyes' sensitivity makes the sky blue. \n",
      "\n",
      "Also, during sunrise or sunset, the sky turns red or orange because the sunlight has to pass through more atmosphere, so the blue light is scattered away, leaving the longer wavelengths like red and orange. That's why the sky is blue most of the time but changes color during different times of the day. \n",
      "\n",
      "I should make sure to explain the scattering process clearly. Maybe mention that it's called Rayleigh scattering, which is wavelength-dependent. Also, clarify that it's the scattering of sunlight by the atmosphere, not the actual color of the sky itself. \n",
      "\n",
      "Wait, are there any other factors? Like the presence of different particles or pollutants? But under normal conditions, Rayleigh scattering is the main reason. Maybe mention that in some cases, like when there's more pollution or particles, the sky might appear different colors, but that's not the standard explanation. \n",
      "\n",
      "I need to present this in a simple way, avoiding too much jargon. Start with the basic idea of sunlight and scattering, then explain the wavelength aspect, and the role of human eyes. Also, touch on the different colors at sunrise and sunset for completeness. Make sure the explanation flows logically and is easy to understand. Let me check if I missed anything. Hmm, maybe mention that the atmosphere is a mix of gases and particles, but the scattering is primarily due to molecules, not larger particles. Yeah, that's important. So the key points are: sunlight composition, Rayleigh scattering, shorter wavelengths scatter more, blue is more prevalent and our eyes are sensitive to it, and the effect of atmospheric depth during different times of day.\n",
      "</think>\n",
      "\n",
      "The sky appears blue due to a phenomenon called **Rayleigh scattering**, which involves how sunlight interacts with the Earth's atmosphere. Here's a simplified breakdown:\n",
      "\n",
      "1. **Sunlight Composition**: Sunlight is a mix of all visible colors (red, orange, yellow, green, blue, indigo, violet). Each color has a different wavelength, with blue and violet having the shortest wavelengths.\n",
      "\n",
      "2. **Scattering in the Atmosphere**: When sunlight enters Earth's atmosphere, it collides with gas molecules (like nitrogen and oxygen) and small particles. These collisions **scatter light** in all directions. However, **shorter wavelengths (blue/violet) scatter more** than longer wavelengths (red/orange/yellow) — this is known as **Rayleigh scattering**.\n",
      "\n",
      "3. **Why Blue, Not Violet?**:\n",
      "   - The Sun emits more blue light than violet.\n",
      "   - Our eyes are more sensitive to blue light than violet.\n",
      "   - Some violet light is absorbed by the upper atmosphere, reducing its visibility.\n",
      "\n",
      "4. **Result**: The scattered blue light spreads across the sky, making it appear blue to us. This is why the sky looks blue on clear days.\n",
      "\n",
      "5. **Sunrise/Sunset Colors**: During sunrise or sunset, sunlight travels through more atmosphere, scattering most blue light out of our line of sight. The remaining light (with longer wavelengths like red and orange) dominates, creating the warm hues we see.\n",
      "\n",
      "In summary, the blue sky is a result of **shorter wavelengths (blue light) scattering more efficiently** in the atmosphere, combined with our eyes' sensitivity to blue. 🌈"
     ]
    }
   ],
   "source": [
    "from ollama import chat\n",
    "\n",
    "stream = chat(\n",
    "    model='qwen3:8b',#'mistral',\n",
    "    messages=[{'role': 'user', 'content': 'Why is the sky blue?'}],\n",
    "    stream=True,\n",
    ")\n",
    "\n",
    "for chunk in stream:\n",
    "  print(chunk['message']['content'], end='', flush=True)"
   ]
  },
  {
   "cell_type": "code",
   "execution_count": 2,
   "id": "4158c05d",
   "metadata": {},
   "outputs": [
    {
     "name": "stdout",
     "output_type": "stream",
     "text": [
      " Sorry, I didn't understand your question. Could you please clarify or rephrase it? I'm here to help! If you have any other questions about travel, weather, or culture in Tokyo, feel free to ask!\n",
      "\n"
     ]
    }
   ],
   "source": [
    "from ollama import chat\n",
    "\n",
    "model = 'mistral'\n",
    "\n",
    "messages = [\n",
    "  {\n",
    "    'role': 'user',\n",
    "    'content': 'Why is the sky blue?',\n",
    "  },\n",
    "  {\n",
    "    'role': 'assistant',\n",
    "    'content': \"The sky is blue because of the way the Earth's atmosphere scatters sunlight.\",\n",
    "  },\n",
    "  {\n",
    "    'role': 'user',\n",
    "    'content': 'What is the weather in Tokyo?',\n",
    "  },\n",
    "  {\n",
    "    'role': 'assistant',\n",
    "    'content': 'The weather in Tokyo is typically warm and humid during the summer months, with temperatures often exceeding 30°C (86°F). The city experiences a rainy season from June to September, with heavy rainfall and occasional typhoons. Winter is mild, with temperatures rarely dropping below freezing. The city is known for its high-tech and vibrant culture, with many popular tourist attractions such as the Tokyo Tower, Senso-ji Temple, and the bustling Shibuya district.',\n",
    "  },\n",
    "]\n",
    "\n",
    "#while True:\n",
    "user_input = input('Chat with history: ')\n",
    "response = chat(\n",
    "  model,\n",
    "  messages=[*messages, {'role': 'user', 'content': user_input}],\n",
    ")\n",
    "\n",
    "  # Add the response to the messages to maintain the history\n",
    "messages += [\n",
    "  {'role': 'user', 'content': user_input},\n",
    "  {'role': 'assistant', 'content': response.message.content},\n",
    "]\n",
    "print(response.message.content + '\\n')"
   ]
  },
  {
   "cell_type": "code",
   "execution_count": 4,
   "id": "48ac7352",
   "metadata": {},
   "outputs": [
    {
     "data": {
      "text/plain": [
       "[{'role': 'user', 'content': 'Why is the sky blue?'},\n",
       " {'role': 'assistant',\n",
       "  'content': \"The sky is blue because of the way the Earth's atmosphere scatters sunlight.\"},\n",
       " {'role': 'user', 'content': 'What is the weather in Tokyo?'},\n",
       " {'role': 'assistant',\n",
       "  'content': 'The weather in Tokyo is typically warm and humid during the summer months, with temperatures often exceeding 30°C (86°F). The city experiences a rainy season from June to September, with heavy rainfall and occasional typhoons. Winter is mild, with temperatures rarely dropping below freezing. The city is known for its high-tech and vibrant culture, with many popular tourist attractions such as the Tokyo Tower, Senso-ji Temple, and the bustling Shibuya district.'},\n",
       " {'role': 'user', 'content': ''},\n",
       " {'role': 'assistant',\n",
       "  'content': \" Sorry, I didn't understand your question. Could you please clarify or rephrase it? I'm here to help! If you have any other questions about travel, weather, or culture in Tokyo, feel free to ask!\"},\n",
       " {'role': 'user', 'content': ''}]"
      ]
     },
     "execution_count": 4,
     "metadata": {},
     "output_type": "execute_result"
    }
   ],
   "source": [
    "[*messages, {'role': 'user', 'content': user_input}]"
   ]
  },
  {
   "cell_type": "markdown",
   "id": "d5e42377",
   "metadata": {},
   "source": [
    "## Get the nodes\n",
    "We will get nodes from the area with the test centre"
   ]
  },
  {
   "cell_type": "code",
   "execution_count": 2,
   "id": "837c9628",
   "metadata": {},
   "outputs": [],
   "source": [
    "G = ox.graph_from_point((51.3829463, -0.2933327), dist=5000, network_type='drive')  # Get the OSMNX network of nodes\n",
    "## Add start nodes\n",
    "G.add_node('test_centre', x=51.38413, y=-0.29299)\n",
    "G.add_node('test_centre_road', x=51.38409, y=-0.29280)\n"
   ]
  },
  {
   "cell_type": "code",
   "execution_count": 3,
   "id": "84bc3e07",
   "metadata": {},
   "outputs": [],
   "source": [
    "# Useful functions\n",
    "# Get the nodes on the road\n",
    "def get_all_nodes_on_street(G, start_node, street_name):\n",
    "    \"\"\"This is a 'flood' fill to get all of the nodes on a street\n",
    "\n",
    "    Args:\n",
    "        G (_type_): OSMNX network\n",
    "        start_node (_type_): a starting node on the street\n",
    "        street_name (_type_): this is the name of the street the current node is on\n",
    "    \"\"\"\n",
    "    visited = set() # empty set to store nodes\n",
    "    stack = [start_node] # list of nodes\n",
    "    \n",
    "    while stack: # while the stack list is occupied\n",
    "        node = stack.pop()\n",
    "        if node in visited:\n",
    "            continue\n",
    "        visited.add(node)\n",
    "        \n",
    "        # Check all outward and inward edges\n",
    "        for neighbour in G.neighbors(node): # loop through the node neighbours\n",
    "            for key, data in G.get_edge_data(node, neighbour).items(): # get the edge data\n",
    "                name = data.get(\"name\") # get the name of the edge\n",
    "                if (isinstance(name, list) and street_name in name) or name == street_name: # check if the node is on the street\n",
    "                    if neighbour not in visited:\n",
    "                        stack.append(neighbour) # append the neigbour to the stack to check\n",
    "                    \n",
    "        for pred in G.predecessors(node): # get the predecessor nodes to check for nodes that are on one way roads (may not have upstream edges)\n",
    "            for key, data in G.get_edge_data(pred, node).items():             \n",
    "                name = data.get(\"name\")    \n",
    "                if (isinstance(name, list) and street_name in name or name == street_name):    \n",
    "                    if pred not in visited: # check the node has already been added to visited\n",
    "                        stack.append(pred) # add the \n",
    "        \n",
    "    return list(visited)\n",
    "\n",
    "\n",
    "# Get the edges between nodes"
   ]
  },
  {
   "cell_type": "code",
   "execution_count": 13,
   "id": "8fefaf14",
   "metadata": {},
   "outputs": [
    {
     "name": "stderr",
     "output_type": "stream",
     "text": [
      "/home/dave/anaconda3/envs/mapping_py12/lib/python3.12/site-packages/dash/dash.py:587: UserWarning:\n",
      "\n",
      "JupyterDash is deprecated, use Dash instead.\n",
      "See https://dash.plotly.com/dash-in-jupyter for more details.\n",
      "\n"
     ]
    },
    {
     "data": {
      "text/html": [
       "\n",
       "        <iframe\n",
       "            width=\"100%\"\n",
       "            height=\"650\"\n",
       "            src=\"http://127.0.0.1:8050/\"\n",
       "            frameborder=\"0\"\n",
       "            allowfullscreen\n",
       "            \n",
       "        ></iframe>\n",
       "        "
      ],
      "text/plain": [
       "<IPython.lib.display.IFrame at 0x7f410b34dee0>"
      ]
     },
     "metadata": {},
     "output_type": "display_data"
    }
   ],
   "source": [
    "# Test the getting node functions and plot to see\n",
    "centre_lat = 51.3829463\n",
    "centre_lon = -0.2933327\n",
    "\n",
    "douglas_road_node_ids = get_all_nodes_on_street(G, 23779844, \"Douglas Road\")\n",
    "douglas_road_nodes = {node: G.nodes[node] for node in douglas_road_node_ids if node in G.nodes}\n",
    "\n",
    "douglas_road_markers = [\n",
    "    dl.Marker(position=(douglas_road_nodes[nid]['y'], douglas_road_nodes[nid]['x']), children=dl.Tooltip(str(nid)))\n",
    "    for nid in douglas_road_nodes\n",
    "]\n",
    "\n",
    "dennan_road_node_ids = get_all_nodes_on_street(G, 23779844, \"Dennan Road\")\n",
    "dennan_road_nodes = {node: G.nodes[node] for node in dennan_road_node_ids if node in G.nodes}\n",
    "\n",
    "dennan_road_markers = [\n",
    "    dl.Marker(position=(dennan_road_nodes[nid]['y'], dennan_road_nodes[nid]['x']), children=dl.Tooltip(str(nid)))\n",
    "    for nid in dennan_road_nodes\n",
    "]\n",
    "\n",
    "\n",
    "app = JupyterDash(__name__)\n",
    "app.layout = html.Div([\n",
    "    dl.Map(center=(centre_lat, centre_lon), zoom=18, children=[\n",
    "        dl.TileLayer(),\n",
    "        dl.LayerGroup(douglas_road_markers),\n",
    "        dl.LayerGroup(dennan_road_markers)\n",
    "    ], style={'width': '100%', 'height': '1200px'})\n",
    "])\n",
    "\n",
    "app.run(mode='inline')\n"
   ]
  },
  {
   "cell_type": "markdown",
   "id": "bf597986",
   "metadata": {},
   "source": [
    "## Creating the prompts"
   ]
  },
  {
   "cell_type": "code",
   "execution_count": 5,
   "id": "b208ec43",
   "metadata": {},
   "outputs": [],
   "source": [
    "llm_initial_prompt = \"\"\"\n",
    "You are a navigation assistant working with geographic road network data.\n",
    "\n",
    "You are given:\n",
    "- The current node (with latitude and longitude)\n",
    "- The previous node (used to determine direction of travel)\n",
    "- The name of the current road\n",
    "- All nodes on that road (with latitude and longitude)\n",
    "- The name of the road the user is turning onto\n",
    "- All nodes on that road (with latitude and longitude)\n",
    "- A turn instruction, such as \"first right\", \"2nd left\", or \"exit 3rd at roundabout, which well tell you the initial direction to take from the current node\"\n",
    "\n",
    "Your job is to:\n",
    "1. Determine the most likely junction node that connects the current road to the new road, based on geometry and instruction.\n",
    "2. Return:\n",
    "   - `junction_node`: the node ID of the junction\n",
    "   - `path_to_junction`: an ordered list of node IDs starting from the current node to the junction node (inclusive)\n",
    "\n",
    "Be precise. Use the spatial relationship between the current and previous nodes to determine forward direction, then use the turn instruction to determine which way to turn.\n",
    "\n",
    "Always return JSON like:\n",
    "```json\n",
    "{\n",
    "  \"junction_node\": 123456,\n",
    "  \"path_to_junction\": [123123, 123124, 123456]\n",
    "}\n",
    "\n",
    "\"\"\""
   ]
  },
  {
   "cell_type": "code",
   "execution_count": null,
   "id": "b0ae2e41",
   "metadata": {},
   "outputs": [
    {
     "data": {
      "text/plain": [
       "-0.2938243"
      ]
     },
     "execution_count": 41,
     "metadata": {},
     "output_type": "execute_result"
    }
   ],
   "source": []
  },
  {
   "cell_type": "code",
   "execution_count": 11,
   "id": "e822380d",
   "metadata": {},
   "outputs": [
    {
     "data": {
      "text/plain": [
       "{23779844: {'lat': -0.2938243, 'lon': 51.381894},\n",
       " 23780711: {'lat': -0.2944253, 'lon': 51.3806375},\n",
       " 2578590287: {'lat': -0.2926397, 'lon': 51.3844335},\n",
       " 125793172: {'lat': -0.2952753, 'lon': 51.3784392},\n",
       " 134912281: {'lat': -0.2947642, 'lon': 51.3799006},\n",
       " 134912282: {'lat': -0.2950307, 'lon': 51.3791745}}"
      ]
     },
     "execution_count": 11,
     "metadata": {},
     "output_type": "execute_result"
    }
   ],
   "source": [
    "{nid : {\n",
    "        \"lat\": G.nodes[nid]['x'],\n",
    "        \"lon\": G.nodes[nid]['y']}\n",
    "      for nid in douglas_road_nodes\n",
    "}"
   ]
  },
  {
   "cell_type": "code",
   "execution_count": 6,
   "id": "5b333236",
   "metadata": {},
   "outputs": [],
   "source": [
    "# Build prompt\n",
    "def build_turn_prompt(\n",
    "    G, current_node_id, previous_node_id, current_road_name, \n",
    "    current_road_nodes, next_road_name, next_road_nodes, instruction,\n",
    "    llm_initial_prompt\n",
    "):\n",
    "    data = {\n",
    "        \"current_node\": {\n",
    "            \"id\": current_node_id,\n",
    "            \"lat\": G.nodes[current_node_id]['x'],\n",
    "            \"lon\": G.nodes[current_node_id]['y']\n",
    "        },\n",
    "        \"previous_node\": {\n",
    "            \"id\": previous_node_id,\n",
    "            \"lat\": G.nodes[previous_node_id]['x'],\n",
    "            \"lon\": G.nodes[previous_node_id]['y']\n",
    "        },\n",
    "        \"current_road\": current_road_name,\n",
    "        \"current_road_nodes\": [{\n",
    "            \"id\": nid,\n",
    "            \"lat\": G.nodes[nid]['x'],\n",
    "            \"lon\": G.nodes[nid]['y']}\n",
    "            for nid in current_road_nodes\n",
    "        ],\n",
    "        \"next_road\": next_road_name,\n",
    "        \"next_road_nodes\": [{\n",
    "            \"id\": nid,\n",
    "            \"lat\": G.nodes[nid]['x'],\n",
    "            \"lon\": G.nodes[nid]['y']}\n",
    "            for nid in next_road_nodes\n",
    "        ],\n",
    "        \"instruction\": instruction\n",
    "    }\n",
    "    \n",
    "    prompt = f\"\"\"\n",
    "        {llm_initial_prompt}\n",
    "        \n",
    "        Here is the data:\n",
    "        {json.dumps(data, indent=2)}\n",
    "        \n",
    "        Return JSON with:\n",
    "        - junction_node (node ID)\n",
    "        - path_to_junction (ordered node IDs from current node to junction)\n",
    "        \n",
    "        \n",
    "    \"\"\"\n",
    "    \n",
    "    return prompt.strip()"
   ]
  },
  {
   "cell_type": "code",
   "execution_count": 7,
   "id": "34821415",
   "metadata": {},
   "outputs": [
    {
     "name": "stdout",
     "output_type": "stream",
     "text": [
      "You are a navigation assistant working with geographic road network data.\n",
      "\n",
      "You are given:\n",
      "- The current node (with latitude and longitude)\n",
      "- The previous node (used to determine direction of travel)\n",
      "- The name of the current road\n",
      "- All nodes on that road (with latitude and longitude)\n",
      "- The name of the road the user is turning onto\n",
      "- All nodes on that road (with latitude and longitude)\n",
      "- A turn instruction, such as \"first right\", \"2nd left\", or \"exit 3rd at roundabout, which well tell you the initial direction to take from the current node\"\n",
      "\n",
      "Your job is to:\n",
      "1. Determine the most likely junction node that connects the current road to the new road, based on geometry and instruction.\n",
      "2. Return:\n",
      "   - `junction_node`: the node ID of the junction\n",
      "   - `path_to_junction`: an ordered list of node IDs starting from the current node to the junction node (inclusive)\n",
      "\n",
      "Be precise. Use the spatial relationship between the current and previous nodes to determine forward direction, then use the turn instruction to determine which way to turn.\n",
      "\n",
      "Always return JSON like:\n",
      "```json\n",
      "{\n",
      "  \"junction_node\": 123456,\n",
      "  \"path_to_junction\": [123123, 123124, 123456]\n",
      "}\n",
      "\n",
      "\n",
      "\n",
      "        Here is the data:\n",
      "        {\n",
      "  \"current_node\": {\n",
      "    \"id\": \"test_centre_road\",\n",
      "    \"lat\": 51.38409,\n",
      "    \"lon\": -0.2928\n",
      "  },\n",
      "  \"previous_node\": {\n",
      "    \"id\": \"test_centre\",\n",
      "    \"lat\": 51.38413,\n",
      "    \"lon\": -0.29299\n",
      "  },\n",
      "  \"current_road\": \"Douglas Road\",\n",
      "  \"current_road_nodes\": [\n",
      "    {\n",
      "      \"id\": 23779844,\n",
      "      \"lat\": -0.2938243,\n",
      "      \"lon\": 51.381894\n",
      "    },\n",
      "    {\n",
      "      \"id\": 23780711,\n",
      "      \"lat\": -0.2944253,\n",
      "      \"lon\": 51.3806375\n",
      "    },\n",
      "    {\n",
      "      \"id\": 2578590287,\n",
      "      \"lat\": -0.2926397,\n",
      "      \"lon\": 51.3844335\n",
      "    },\n",
      "    {\n",
      "      \"id\": 125793172,\n",
      "      \"lat\": -0.2952753,\n",
      "      \"lon\": 51.3784392\n",
      "    },\n",
      "    {\n",
      "      \"id\": 134912281,\n",
      "      \"lat\": -0.2947642,\n",
      "      \"lon\": 51.3799006\n",
      "    },\n",
      "    {\n",
      "      \"id\": 134912282,\n",
      "      \"lat\": -0.2950307,\n",
      "      \"lon\": 51.3791745\n",
      "    }\n",
      "  ],\n",
      "  \"next_road\": \"Dennan Road\",\n",
      "  \"next_road_nodes\": [\n",
      "    {\n",
      "      \"id\": 23787122,\n",
      "      \"lat\": -0.2978169,\n",
      "      \"lon\": 51.3826178\n",
      "    },\n",
      "    {\n",
      "      \"id\": 23780562,\n",
      "      \"lat\": -0.2964622,\n",
      "      \"lon\": 51.3823802\n",
      "    },\n",
      "    {\n",
      "      \"id\": 23779844,\n",
      "      \"lat\": -0.2938243,\n",
      "      \"lon\": 51.381894\n",
      "    },\n",
      "    {\n",
      "      \"id\": 23780702,\n",
      "      \"lat\": -0.2952131,\n",
      "      \"lon\": 51.3821512\n",
      "    }\n",
      "  ],\n",
      "  \"instruction\": \"Right out of car park\"\n",
      "}\n",
      "\n",
      "        Return JSON with:\n",
      "        - junction_node (node ID)\n",
      "        - path_to_junction (ordered node IDs from current node to junction)\n"
     ]
    }
   ],
   "source": [
    "## Trial prompt\n",
    "doulgas_dennan_prompt = build_turn_prompt(G, 'test_centre_road', 'test_centre', 'Douglas Road', \n",
    "    get_all_nodes_on_street(G, 23779844, \"Douglas Road\"), \n",
    "    'Dennan Road', get_all_nodes_on_street(G, 23779844, \"Dennan Road\"), \n",
    "    'Right out of car park', llm_initial_prompt\n",
    ")\n",
    "\n",
    "print(doulgas_dennan_prompt)"
   ]
  },
  {
   "cell_type": "code",
   "execution_count": 12,
   "id": "0703e14c",
   "metadata": {},
   "outputs": [
    {
     "ename": "ResponseError",
     "evalue": "model requires more system memory (6.6 GiB) than is available (6.3 GiB) (status code: 500)",
     "output_type": "error",
     "traceback": [
      "\u001b[31m---------------------------------------------------------------------------\u001b[39m",
      "\u001b[31mResponseError\u001b[39m                             Traceback (most recent call last)",
      "\u001b[36mCell\u001b[39m\u001b[36m \u001b[39m\u001b[32mIn[12]\u001b[39m\u001b[32m, line 8\u001b[39m\n\u001b[32m      1\u001b[39m \u001b[38;5;66;03m# Give prompt to LLM\u001b[39;00m\n\u001b[32m      2\u001b[39m stream = chat(\n\u001b[32m      3\u001b[39m     model=\u001b[33m'\u001b[39m\u001b[33mqwen3:8b\u001b[39m\u001b[33m'\u001b[39m,\n\u001b[32m      4\u001b[39m     messages=[{\u001b[33m'\u001b[39m\u001b[33mrole\u001b[39m\u001b[33m'\u001b[39m: \u001b[33m'\u001b[39m\u001b[33muser\u001b[39m\u001b[33m'\u001b[39m, \u001b[33m'\u001b[39m\u001b[33mcontent\u001b[39m\u001b[33m'\u001b[39m: doulgas_dennan_prompt}],\n\u001b[32m      5\u001b[39m     stream=\u001b[38;5;28;01mTrue\u001b[39;00m,\n\u001b[32m      6\u001b[39m )\n\u001b[32m----> \u001b[39m\u001b[32m8\u001b[39m \u001b[38;5;28;43;01mfor\u001b[39;49;00m\u001b[43m \u001b[49m\u001b[43mchunk\u001b[49m\u001b[43m \u001b[49m\u001b[38;5;129;43;01min\u001b[39;49;00m\u001b[43m \u001b[49m\u001b[43mstream\u001b[49m\u001b[43m:\u001b[49m\n\u001b[32m      9\u001b[39m \u001b[43m  \u001b[49m\u001b[38;5;28;43mprint\u001b[39;49m\u001b[43m(\u001b[49m\u001b[43mchunk\u001b[49m\u001b[43m[\u001b[49m\u001b[33;43m'\u001b[39;49m\u001b[33;43mmessage\u001b[39;49m\u001b[33;43m'\u001b[39;49m\u001b[43m]\u001b[49m\u001b[43m[\u001b[49m\u001b[33;43m'\u001b[39;49m\u001b[33;43mcontent\u001b[39;49m\u001b[33;43m'\u001b[39;49m\u001b[43m]\u001b[49m\u001b[43m,\u001b[49m\u001b[43m \u001b[49m\u001b[43mend\u001b[49m\u001b[43m=\u001b[49m\u001b[33;43m'\u001b[39;49m\u001b[33;43m'\u001b[39;49m\u001b[43m,\u001b[49m\u001b[43m \u001b[49m\u001b[43mflush\u001b[49m\u001b[43m=\u001b[49m\u001b[38;5;28;43;01mTrue\u001b[39;49;00m\u001b[43m)\u001b[49m\n",
      "\u001b[36mFile \u001b[39m\u001b[32m~/anaconda3/envs/mapping_py12/lib/python3.12/site-packages/ollama/_client.py:168\u001b[39m, in \u001b[36mClient._request.<locals>.inner\u001b[39m\u001b[34m()\u001b[39m\n\u001b[32m    166\u001b[39m \u001b[38;5;28;01mexcept\u001b[39;00m httpx.HTTPStatusError \u001b[38;5;28;01mas\u001b[39;00m e:\n\u001b[32m    167\u001b[39m   e.response.read()\n\u001b[32m--> \u001b[39m\u001b[32m168\u001b[39m   \u001b[38;5;28;01mraise\u001b[39;00m ResponseError(e.response.text, e.response.status_code) \u001b[38;5;28;01mfrom\u001b[39;00m\u001b[38;5;250m \u001b[39m\u001b[38;5;28;01mNone\u001b[39;00m\n\u001b[32m    170\u001b[39m \u001b[38;5;28;01mfor\u001b[39;00m line \u001b[38;5;129;01min\u001b[39;00m r.iter_lines():\n\u001b[32m    171\u001b[39m   part = json.loads(line)\n",
      "\u001b[31mResponseError\u001b[39m: model requires more system memory (6.6 GiB) than is available (6.3 GiB) (status code: 500)"
     ]
    }
   ],
   "source": [
    "# Give prompt to LLM\n",
    "stream = chat(\n",
    "    model='qwen3:8b',\n",
    "    messages=[{'role': 'user', 'content': doulgas_dennan_prompt}],\n",
    "    stream=True,\n",
    ")\n",
    "\n",
    "for chunk in stream:\n",
    "  print(chunk['message']['content'], end='', flush=True)"
   ]
  }
 ],
 "metadata": {
  "kernelspec": {
   "display_name": "mapping_py12",
   "language": "python",
   "name": "python3"
  },
  "language_info": {
   "codemirror_mode": {
    "name": "ipython",
    "version": 3
   },
   "file_extension": ".py",
   "mimetype": "text/x-python",
   "name": "python",
   "nbconvert_exporter": "python",
   "pygments_lexer": "ipython3",
   "version": "3.12.9"
  }
 },
 "nbformat": 4,
 "nbformat_minor": 5
}
