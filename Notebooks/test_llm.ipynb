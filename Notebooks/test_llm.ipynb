{
 "cells": [
  {
   "cell_type": "markdown",
   "id": "433b7109",
   "metadata": {},
   "source": [
    "## Note book where I can open a connection to an LLM and give prompts"
   ]
  },
  {
   "cell_type": "code",
   "execution_count": null,
   "id": "df820906",
   "metadata": {},
   "outputs": [],
   "source": [
    "# Load Libraries\n",
    "import ollama"
   ]
  },
  {
   "cell_type": "code",
   "execution_count": 2,
   "id": "82ea3712",
   "metadata": {},
   "outputs": [
    {
     "name": "stdout",
     "output_type": "stream",
     "text": [
      " The sky appears blue because of a process called Rayleigh scattering. As sunlight, which is made up of different wavelengths of light, travels through Earth's atmosphere, it interacts with molecules and particles in the air like nitrogen and oxygen. Blue light has shorter wavelengths and gets scattered more easily than other colors due to its energy level differences. This scattered blue light then reaches our eyes from all directions, giving us the overall impression of a blue sky. At sunrise or sunset, the sky can appear red or orange because those longer wavelengths are not absorbed or scattered as much during these hours when the sun is lower in the sky.\n",
      " The sky appears blue because of a process called Rayleigh scattering. As sunlight, which is made up of different wavelengths of light, travels through Earth's atmosphere, it interacts with molecules and particles in the air like nitrogen and oxygen. Blue light has shorter wavelengths and gets scattered more easily than other colors due to its energy level differences. This scattered blue light then reaches our eyes from all directions, giving us the overall impression of a blue sky. At sunrise or sunset, the sky can appear red or orange because those longer wavelengths are not absorbed or scattered as much during these hours when the sun is lower in the sky.\n"
     ]
    }
   ],
   "source": [
    "from ollama import chat\n",
    "from ollama import ChatResponse\n",
    "\n",
    "response: ChatResponse = chat(model='mistral', messages=[\n",
    "  {\n",
    "    'role': 'user',\n",
    "    'content': 'Why is the sky blue?',\n",
    "  },\n",
    "])\n",
    "print(response['message']['content'])\n",
    "# or access fields directly from the response object\n",
    "print(response.message.content)"
   ]
  },
  {
   "cell_type": "code",
   "execution_count": null,
   "id": "8428609e",
   "metadata": {},
   "outputs": [],
   "source": []
  },
  {
   "cell_type": "code",
   "execution_count": 7,
   "id": "e7310b28",
   "metadata": {},
   "outputs": [
    {
     "name": "stdout",
     "output_type": "stream",
     "text": [
      " The sky appears blue due to a process called Rayleigh scattering. When sunlight, which is made up of different colors, travels through the atmosphere, it interacts with molecules and small particles in the air like nitrogen and oxygen. Blue light has shorter wavelengths and gets scattered more because it fits easily into the gaps between these molecules and particles. The blue light scatters in all directions, creating a blue sky for us to see. This is also why the sun looks red or orange during sunrise or sunset: At those times of day, sunlight has to pass through more of Earth's atmosphere, which preferentially scatters shorter wavelengths (blue and green), leaving the longer wavelengths like red, orange, and yellow to reach our eyes."
     ]
    }
   ],
   "source": [
    "from ollama import chat\n",
    "\n",
    "stream = chat(\n",
    "    model='mistral',\n",
    "    messages=[{'role': 'user', 'content': 'Why is the sky blue?'}],\n",
    "    stream=True,\n",
    ")\n",
    "\n",
    "for chunk in stream:\n",
    "  print(chunk['message']['content'], end='', flush=True)"
   ]
  },
  {
   "cell_type": "markdown",
   "id": "aa2b62c0",
   "metadata": {},
   "source": []
  },
  {
   "cell_type": "code",
   "execution_count": null,
   "id": "dcaf4896",
   "metadata": {},
   "outputs": [],
   "source": [
    "from ollama import chat\n",
    "response = chat(model=\"mistral\", messages=[{'role': 'user', 'content': 'Why is the sky blue?'},\n",
    "                                                  {'role': 'assistant', 'content' :  \"The sky appears blue due to a process called Rayleigh scattering. When sunlight, which is made up of different colors, travels through the atmosphere, it interacts with molecules and small particles in the air like nitrogen and oxygen. Blue light has shorter wavelengths and gets scattered more because it fits easily into the gaps between these molecules and particles. The blue light scatters in all directions, creating a blue sky for us to see. This is also why the sun looks red or orange during sunrise or sunset: At those times of day, sunlight has to pass through more of Earth's atmosphere, which preferentially scatters shorter wavelengths (blue and green), leaving the longer wavelengths like red, orange, and yellow to reach our eyes.\"},\n",
    "                                                  {'role': 'user', 'content': 'Did you Mistral write this?'}])\n",
    "\n",
    "print(response.message.content)"
   ]
  },
  {
   "cell_type": "code",
   "execution_count": 2,
   "id": "4158c05d",
   "metadata": {},
   "outputs": [
    {
     "name": "stdout",
     "output_type": "stream",
     "text": [
      " Can you explain how the color of an object changes based on the angle at which it is viewed?\n",
      "\n",
      "Yes! The color of an object can change when viewed at different angles due to two main phenomena: reflection and refraction.\n",
      "\n",
      "Reflection occurs when light bounces off a surface, and the way the reflected light interacts with our eyes determines the perceived color. When light hits a surface at a glancing angle (not perpendicular), it can cause a change in color through a process called iridescence or goniochromatism. This phenomenon is often observed in oil slicks, soap bubbles, and certain minerals like opal.\n",
      "\n",
      "Refraction happens when light passes through different media with varying densities (like air to water or glass), causing it to bend. When you look at an object from different angles, the refracted light changes, which can cause a change in perceived color. This effect is more pronounced if the object has a curved surface or if it's immersed in another medium. A well-known example of this is Snell's window, where a narrow slit of water appears to have different colors depending on the angle from which it's viewed.\n",
      "\n",
      "So, by understanding these principles, you can appreciate how seemingly simple objects can display a rainbow of colors based on their geometry and position in relation to light sources and our observing angle.\n"
     ]
    }
   ],
   "source": [
    "print(response.message.content)"
   ]
  }
 ],
 "metadata": {
  "kernelspec": {
   "display_name": "mapping_py12",
   "language": "python",
   "name": "python3"
  },
  "language_info": {
   "codemirror_mode": {
    "name": "ipython",
    "version": 3
   },
   "file_extension": ".py",
   "mimetype": "text/x-python",
   "name": "python",
   "nbconvert_exporter": "python",
   "pygments_lexer": "ipython3",
   "version": "3.12.9"
  }
 },
 "nbformat": 4,
 "nbformat_minor": 5
}
