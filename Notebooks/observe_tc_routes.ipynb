{
 "cells": [
  {
   "cell_type": "markdown",
   "id": "5c042a5e",
   "metadata": {},
   "source": [
    "## Get the Nodes around Tolworth Test centre"
   ]
  },
  {
   "cell_type": "code",
   "execution_count": 1,
   "id": "e313ce92",
   "metadata": {},
   "outputs": [],
   "source": [
    "# Import libraries\n",
    "import osmnx as ox\n",
    "import networkx as nx\n",
    "import dash_leaflet as dl\n",
    "from jupyter_dash import JupyterDash\n",
    "from dash import html\n",
    "import dash"
   ]
  },
  {
   "cell_type": "code",
   "execution_count": 2,
   "id": "f643731a",
   "metadata": {},
   "outputs": [],
   "source": [
    "# Get the Graph and the Node\n",
    "G = ox.graph_from_point((51.3829463, -0.2933327), dist=4000, network_type='drive')  # Adjust lat/lon to roughly London\n",
    "node_id = 10282513496\n",
    "\n",
    "# if node_id not in G:\n",
    "#     raise ValueError(\"Node not found in graph\")\n",
    "\n",
    "# centre_node = G.nodes[node_id]\n",
    "# centre_point = (centre_node['y'], centre_node['x'])\n",
    "\n",
    "# centre_node\n",
    "#G.edges\n",
    "\n",
    "G.add_node('test_centre', x=-0.29299, y=51.38413)\n",
    "G.add_node('test_centre_road', x=-0.29280, y=51.38409)"
   ]
  },
  {
   "cell_type": "code",
   "execution_count": 3,
   "id": "118ca491",
   "metadata": {},
   "outputs": [
    {
     "data": {
      "text/plain": [
       "NodeDataView({292217: {'y': 51.3756472, 'x': -0.3074197, 'street_count': 3}, 292250: {'y': 51.3740534, 'x': -0.297643, 'street_count': 3}, 304051: {'y': 51.375014, 'x': -0.3042848, 'street_count': 3}, 304060: {'y': 51.3753315, 'x': -0.3040909, 'street_count': 3}, 304061: {'y': 51.375324, 'x': -0.3038206, 'street_count': 3}, 304064: {'y': 51.3785644, 'x': -0.3024115, 'street_count': 4}, 304076: {'y': 51.3828974, 'x': -0.3005723, 'street_count': 3}, 304081: {'y': 51.3866926, 'x': -0.3008888, 'street_count': 3}, 304434: {'y': 51.385394, 'x': -0.2955969, 'street_count': 4}, 304435: {'y': 51.3849962, 'x': -0.2945233, 'street_count': 3}, 304436: {'y': 51.3847833, 'x': -0.2938141, 'street_count': 3}, 304437: {'y': 51.3844458, 'x': -0.2926802, 'street_count': 3}, 304438: {'y': 51.383925, 'x': -0.2909422, 'street_count': 3}, 304440: {'y': 51.38292, 'x': -0.2875149, 'street_count': 3}, 304441: {'y': 51.382604, 'x': -0.2862621, 'street_count': 3}, 304455: {'y': 51.3854974, 'x': -0.2807027, 'street_count': 4}, 304456: {'y': 51.3863675, 'x': -0.2805948, 'street_count': 3}, 304461: {'y': 51.3790982, 'x': -0.2810658, 'street_count': 3}, 304463: {'y': 51.3795634, 'x': -0.2808233, 'street_count': 3}, 304466: {'y': 51.3785503, 'x': -0.2804796, 'street_count': 3}, 304467: {'y': 51.3788341, 'x': -0.2799621, 'street_count': 3}, 304483: {'y': 51.3834488, 'x': -0.2877656, 'street_count': 3}, 304485: {'y': 51.3850671, 'x': -0.2891271, 'street_count': 3}, 304486: {'y': 51.3863376, 'x': -0.2909416, 'street_count': 3}, 304487: {'y': 51.386901, 'x': -0.2914359, 'street_count': 3}, 304488: {'y': 51.38787, 'x': -0.2918757, 'street_count': 3}, 304501: {'y': 51.3789272, 'x': -0.2811259, 'street_count': 3}, 304526: {'y': 51.3875469, 'x': -0.2877942, 'street_count': 3}, 304527: {'y': 51.3879364, 'x': -0.286504, 'street_count': 3}, 304536: {'y': 51.3902233, 'x': -0.2828939, 'street_count': 3}, 304540: {'y': 51.3900418, 'x': -0.2819047, 'street_count': 3}, 304542: {'y': 51.3907165, 'x': -0.2821712, 'street_count': 3}, 304543: {'y': 51.3917324, 'x': -0.2819736, 'street_count': 3}, 304547: {'y': 51.3886178, 'x': -0.2975132, 'street_count': 3}, 530611: {'y': 51.3749374, 'x': -0.3037032, 'street_count': 3}, 700001: {'y': 51.3810423, 'x': -0.2807933, 'street_count': 3}, 700083: {'y': 51.3772093, 'x': -0.2938074, 'street_count': 3}, 700084: {'y': 51.3780053, 'x': -0.2923968, 'highway': 'mini_roundabout', 'street_count': 3}, 700085: {'y': 51.3787799, 'x': -0.291315, 'street_count': 3}, 700086: {'y': 51.3801153, 'x': -0.2903874, 'street_count': 3}, 700087: {'y': 51.3819109, 'x': -0.2897894, 'street_count': 3}, 700089: {'y': 51.3833142, 'x': -0.2888487, 'street_count': 3}, 700137: {'y': 51.3902142, 'x': -0.2980185, 'street_count': 3}, 22446236: {'y': 51.3917485, 'x': -0.2832511, 'street_count': 3}, 22448865: {'y': 51.3900068, 'x': -0.2896288, 'street_count': 3}, 22448918: {'y': 51.3888003, 'x': -0.288722, 'street_count': 4}, 22449490: {'y': 51.3883547, 'x': -0.2901872, 'street_count': 3}, 22449566: {'y': 51.3899195, 'x': -0.2912964, 'street_count': 3}, 22449786: {'y': 51.3895127, 'x': -0.2927785, 'street_count': 3}, 22450229: {'y': 51.3909926, 'x': -0.2903372, 'street_count': 3}, 22450333: {'y': 51.391641, 'x': -0.2940379, 'street_count': 3}, 22453695: {'y': 51.3895, 'x': -0.2816962, 'street_count': 3}, 22453748: {'y': 51.3888876, 'x': -0.2814387, 'street_count': 4}, 22453832: {'y': 51.3876854, 'x': -0.2845508, 'street_count': 3}, 22453837: {'y': 51.3870681, 'x': -0.2838834, 'street_count': 3}, 22453883: {'y': 51.3879498, 'x': -0.2810921, 'street_count': 3}, 22514395: {'y': 51.3869702, 'x': -0.2806996, 'street_count': 3}, 22514399: {'y': 51.3872404, 'x': -0.2807946, 'street_count': 3}, 22514439: {'y': 51.3864625, 'x': -0.2831925, 'street_count': 3}, 22514442: {'y': 51.3858454, 'x': -0.2824535, 'street_count': 3}, 22515756: {'y': 51.3842499, 'x': -0.2835117, 'street_count': 3}, 22515768: {'y': 51.3810212, 'x': -0.2861932, 'street_count': 3}, 23777225: {'y': 51.3793104, 'x': -0.2792141, 'street_count': 3}, 23779825: {'y': 51.3824945, 'x': -0.2916631, 'street_count': 1}, 23779844: {'y': 51.381894, 'x': -0.2938243, 'street_count': 3}, 23780120: {'y': 51.3856307, 'x': -0.293496, 'street_count': 3}, 23780287: {'y': 51.3858107, 'x': -0.290131, 'street_count': 3}, 23780562: {'y': 51.3823802, 'x': -0.2964622, 'street_count': 4}, 23780570: {'y': 51.3822017, 'x': -0.2880541, 'street_count': 3}, 23780614: {'y': 51.3816595, 'x': -0.2877874, 'street_count': 3}, 23780702: {'y': 51.3821512, 'x': -0.2952131, 'street_count': 3}, 23780711: {'y': 51.3806375, 'x': -0.2944253, 'street_count': 3}, 23782147: {'y': 51.3850938, 'x': -0.2950877, 'street_count': 4}, 23787008: {'y': 51.3846848, 'x': -0.2959046, 'street_count': 3}, 23787054: {'y': 51.3839685, 'x': -0.2978555, 'street_count': 3}, 23787122: {'y': 51.3826178, 'x': -0.2978169, 'street_count': 3}, 23811482: {'y': 51.3808879, 'x': -0.284821, 'street_count': 3}, 23811504: {'y': 51.3810088, 'x': -0.2842053, 'street_count': 3}, 23811708: {'y': 51.3805837, 'x': -0.2860971, 'street_count': 3}, 23811785: {'y': 51.3781353, 'x': -0.2866098, 'street_count': 3}, 23811800: {'y': 51.3781782, 'x': -0.286241, 'street_count': 3}, 23811822: {'y': 51.3782795, 'x': -0.2853913, 'street_count': 4}, 23811855: {'y': 51.3785079, 'x': -0.2836709, 'street_count': 3}, 23811885: {'y': 51.3796976, 'x': -0.2871325, 'street_count': 3}, 23811896: {'y': 51.3797665, 'x': -0.2879733, 'street_count': 1}, 23815452: {'y': 51.3870079, 'x': -0.2914848, 'street_count': 3}, 23815750: {'y': 51.3892296, 'x': -0.2926228, 'street_count': 3}, 23816152: {'y': 51.3908788, 'x': -0.3074966, 'street_count': 3}, 23816191: {'y': 51.3897859, 'x': -0.305433, 'street_count': 1}, 23816315: {'y': 51.3907374, 'x': -0.3039328, 'street_count': 3}, 23816684: {'y': 51.3906299, 'x': -0.3037573, 'street_count': 3}, 23816723: {'y': 51.3895381, 'x': -0.3017135, 'street_count': 3}, 25992136: {'y': 51.3775992, 'x': -0.298984, 'street_count': 3}, 25992137: {'y': 51.3776921, 'x': -0.2992752, 'street_count': 3}, 25992157: {'y': 51.379844, 'x': -0.3018749, 'street_count': 3}, 27354750: {'y': 51.3806174, 'x': -0.3064487, 'street_count': 3}, 27354753: {'y': 51.3816586, 'x': -0.3038272, 'street_count': 3}, 36756601: {'y': 51.3913911, 'x': -0.2868774, 'street_count': 3}, 125793170: {'y': 51.37907, 'x': -0.2975822, 'street_count': 3}, 125793171: {'y': 51.3786302, 'x': -0.2964585, 'street_count': 3}, 125793172: {'y': 51.3784392, 'x': -0.2952753, 'street_count': 3}, 134899016: {'y': 51.3827721, 'x': -0.3008689, 'street_count': 3}, 134899504: {'y': 51.3840802, 'x': -0.3045089, 'street_count': 3}, 134899505: {'y': 51.382947, 'x': -0.3007622, 'street_count': 3}, 134900725: {'y': 51.3828635, 'x': -0.2914759, 'street_count': 4}, 134901445: {'y': 51.3830481, 'x': -0.2924282, 'street_count': 1}, 134901446: {'y': 51.3827192, 'x': -0.2905854, 'street_count': 1}, 134902961: {'y': 51.3834437, 'x': -0.291186, 'street_count': 3}, 134903475: {'y': 51.3832923, 'x': -0.2906271, 'street_count': 1}, 134904720: {'y': 51.3843425, 'x': -0.2954844, 'street_count': 3}, 134908202: {'y': 51.3805723, 'x': -0.2902243, 'street_count': 3}, 134908944: {'y': 51.380675, 'x': -0.2910069, 'street_count': 3}, 134909147: {'y': 51.3816493, 'x': -0.2906786, 'street_count': 1}, 134911607: {'y': 51.3815094, 'x': -0.2968787, 'street_count': 3}, 134912281: {'y': 51.3799006, 'x': -0.2947642, 'street_count': 4}, 134912282: {'y': 51.3791745, 'x': -0.2950307, 'street_count': 3}, 134912932: {'y': 51.3801606, 'x': -0.2959238, 'street_count': 4}, 134916745: {'y': 51.3832326, 'x': -0.2885688, 'street_count': 3}, 134922998: {'y': 51.3793965, 'x': -0.2908734, 'street_count': 3}, 134923481: {'y': 51.3804445, 'x': -0.2971785, 'street_count': 3}, 134924420: {'y': 51.3786871, 'x': -0.2913855, 'street_count': 3}, 136786885: {'y': 51.3860617, 'x': -0.2918978, 'street_count': 3}, 136787199: {'y': 51.3851906, 'x': -0.2925019, 'street_count': 1}, 136787471: {'y': 51.385662, 'x': -0.2916146, 'street_count': 1}, 136902427: {'y': 51.3857877, 'x': -0.2962676, 'street_count': 1}, 139679713: {'y': 51.3854769, 'x': -0.3026805, 'street_count': 3}, 139684089: {'y': 51.3847417, 'x': -0.3036382, 'street_count': 3}, 139690030: {'y': 51.3833304, 'x': -0.3058301, 'street_count': 3}, 139711956: {'y': 51.3827361, 'x': -0.3006486, 'street_count': 3}, 139717253: {'y': 51.385393, 'x': -0.2954317, 'street_count': 3}, 139717254: {'y': 51.3851589, 'x': -0.2950063, 'street_count': 3}, 139717548: {'y': 51.3850247, 'x': -0.294629, 'street_count': 3}, 139718292: {'y': 51.3855847, 'x': -0.2957432, 'street_count': 3}, 166235408: {'y': 51.3848669, 'x': -0.2953001, 'street_count': 3}, 206879979: {'y': 51.3752339, 'x': -0.3036897, 'street_count': 3}, 206880731: {'y': 51.3775526, 'x': -0.3028268, 'street_count': 3}, 206880781: {'y': 51.376849, 'x': -0.3022509, 'street_count': 1}, 206881149: {'y': 51.3782743, 'x': -0.3025267, 'street_count': 3}, 206881517: {'y': 51.3772694, 'x': -0.2957291, 'street_count': 3}, 206881966: {'y': 51.3772945, 'x': -0.2952752, 'street_count': 3}, 206881975: {'y': 51.3789758, 'x': -0.2973466, 'street_count': 3}, 206882156: {'y': 51.375646, 'x': -0.2964561, 'street_count': 3}, 206882728: {'y': 51.3761909, 'x': -0.2978834, 'street_count': 3}, 206882729: {'y': 51.3761424, 'x': -0.298015, 'street_count': 3}, 206882736: {'y': 51.3746252, 'x': -0.2971397, 'street_count': 3}, 206883643: {'y': 51.3768037, 'x': -0.3063243, 'street_count': 1}, 206883645: {'y': 51.3763319, 'x': -0.3033345, 'street_count': 3}, 206883752: {'y': 51.3762597, 'x': -0.3066068, 'street_count': 1}, 206883753: {'y': 51.3757906, 'x': -0.3038548, 'street_count': 2}, 206883968: {'y': 51.376681, 'x': -0.30554, 'street_count': 4}, 206883969: {'y': 51.3761348, 'x': -0.3057954, 'street_count': 3}, 206884555: {'y': 51.3770267, 'x': -0.3030531, 'street_count': 3}, 206891041: {'y': 51.3746935, 'x': -0.3063069, 'street_count': 3}, 206891254: {'y': 51.3745997, 'x': -0.3041941, 'street_count': 3}, 206891798: {'y': 51.3743521, 'x': -0.3027517, 'highway': 'turning_circle', 'street_count': 1}, 206891799: {'y': 51.3739772, 'x': -0.3028996, 'street_count': 3}, 206899994: {'y': 51.3741501, 'x': -0.2992739, 'street_count': 3}, 224770451: {'y': 51.3773708, 'x': -0.2844419, 'street_count': 3}, 224770491: {'y': 51.3749385, 'x': -0.2881384, 'street_count': 3}, 224770496: {'y': 51.3756461, 'x': -0.2892365, 'street_count': 3}, 224770513: {'y': 51.3777812, 'x': -0.2927645, 'street_count': 3}, 224770517: {'y': 51.3774253, 'x': -0.2934117, 'street_count': 3}, 224770557: {'y': 51.3753794, 'x': -0.2870657, 'street_count': 3}, 224770566: {'y': 51.3768164, 'x': -0.2892717, 'street_count': 3}, 224770572: {'y': 51.3782489, 'x': -0.291925, 'street_count': 3}, 224770612: {'y': 51.3821491, 'x': -0.3067383, 'highway': 'turning_circle', 'street_count': 1}, 224770642: {'y': 51.3821408, 'x': -0.305632, 'street_count': 3}, 224770647: {'y': 51.3824793, 'x': -0.3047018, 'street_count': 3}, 224770668: {'y': 51.3817192, 'x': -0.3066359, 'street_count': 1}, 224770672: {'y': 51.3882336, 'x': -0.2973504, 'street_count': 3}, 224770675: {'y': 51.3886386, 'x': -0.2949214, 'street_count': 3}, 224770723: {'y': 51.3895861, 'x': -0.2973506, 'street_count': 1}, 224770733: {'y': 51.3894861, 'x': -0.2967916, 'street_count': 3}, 224770735: {'y': 51.3883966, 'x': -0.2963364, 'street_count': 3}, 224770751: {'y': 51.3897573, 'x': -0.2929206, 'street_count': 3}, 224770757: {'y': 51.3893971, 'x': -0.2952584, 'street_count': 3}, 224770767: {'y': 51.3888706, 'x': -0.2935714, 'street_count': 3}, 224770781: {'y': 51.3883925, 'x': -0.2921194, 'street_count': 3}, 224770786: {'y': 51.3882315, 'x': -0.2942739, 'street_count': 1}, 224770791: {'y': 51.3887108, 'x': -0.2944825, 'street_count': 3}, 224770794: {'y': 51.3906963, 'x': -0.2934783, 'street_count': 3}, 224770805: {'y': 51.3906916, 'x': -0.2952559, 'street_count': 1}, 224770816: {'y': 51.3905981, 'x': -0.2939525, 'street_count': 3}, 224770845: {'y': 51.3890792, 'x': -0.3004884, 'street_count': 1}, 224770859: {'y': 51.3896175, 'x': -0.2995716, 'street_count': 4}, 224770877: {'y': 51.3903306, 'x': -0.301448, 'street_count': 3}, 224770883: {'y': 51.3895002, 'x': -0.2991705, 'street_count': 1}, 224831565: {'y': 51.3762118, 'x': -0.2833888, 'street_count': 3}, 224831696: {'y': 51.3757376, 'x': -0.2843302, 'highway': 'motorway_junction', 'street_count': 3}, 224831711: {'y': 51.3779852, 'x': -0.2814145, 'street_count': 3}, 224831718: {'y': 51.3778491, 'x': -0.2813696, 'street_count': 3}, 224831873: {'y': 51.3788983, 'x': -0.279614, 'street_count': 3}, 224831879: {'y': 51.3789535, 'x': -0.2799866, 'street_count': 3}, 224831905: {'y': 51.3779899, 'x': -0.279171, 'street_count': 1}, 224831954: {'y': 51.379977, 'x': -0.2799282, 'street_count': 3}, 241495281: {'y': 51.3820268, 'x': -0.2840911, 'street_count': 4}, 242768242: {'y': 51.3882382, 'x': -0.3032961, 'street_count': 3}, 242768503: {'y': 51.3885132, 'x': -0.3029022, 'street_count': 3}, 242769828: {'y': 51.3790667, 'x': -0.3021926, 'street_count': 3}, 242769831: {'y': 51.378803, 'x': -0.3005775, 'street_count': 1}, 242770543: {'y': 51.3757393, 'x': -0.3035922, 'street_count': 3}, 242774090: {'y': 51.3741983, 'x': -0.3042128, 'street_count': 3}, 242774388: {'y': 51.3748819, 'x': -0.3038514, 'street_count': 3}, 242917162: {'y': 51.3782597, 'x': -0.2953349, 'street_count': 1}, 243979208: {'y': 51.381239, 'x': -0.2900109, 'street_count': 3}, 243979210: {'y': 51.3807693, 'x': -0.2901634, 'street_count': 3}, 243979222: {'y': 51.3809833, 'x': -0.2884069, 'street_count': 3}, 244003140: {'y': 51.3885223, 'x': -0.2990898, 'street_count': 3}, 244003141: {'y': 51.3879209, 'x': -0.2995322, 'street_count': 3}, 244003200: {'y': 51.3821868, 'x': -0.2839644, 'street_count': 3}, 248437619: {'y': 51.3785008, 'x': -0.2970804, 'street_count': 1}, 248437625: {'y': 51.3778592, 'x': -0.2954742, 'street_count': 4}, 248438040: {'y': 51.3778002, 'x': -0.2941886, 'street_count': 1}, 248438188: {'y': 51.3770321, 'x': -0.2950579, 'street_count': 3}, 248438190: {'y': 51.376954, 'x': -0.2952038, 'street_count': 1}, 248438204: {'y': 51.3770909, 'x': -0.294948, 'street_count': 1}, 248446270: {'y': 51.374303, 'x': -0.2989956, 'street_count': 3}, 248539100: {'y': 51.3785564, 'x': -0.3008551, 'street_count': 1}, 248539622: {'y': 51.3756313, 'x': -0.3000682, 'street_count': 3}, 248539623: {'y': 51.3755759, 'x': -0.2997373, 'street_count': 1}, 248539628: {'y': 51.3761606, 'x': -0.2987165, 'street_count': 3}, 248547898: {'y': 51.3771225, 'x': -0.2994101, 'street_count': 3}, 269888862: {'y': 51.3896301, 'x': -0.281749, 'street_count': 3}, 285518288: {'y': 51.3917931, 'x': -0.2941292, 'street_count': 3}, 285518293: {'y': 51.391705, 'x': -0.2945741, 'street_count': 3}, 285518296: {'y': 51.3917468, 'x': -0.2947784, 'street_count': 3}, 285518301: {'y': 51.3916924, 'x': -0.2956274, 'street_count': 3}, 285518305: {'y': 51.3916372, 'x': -0.2956038, 'street_count': 1}, 285518319: {'y': 51.3914546, 'x': -0.2942411, 'street_count': 3}, 285518324: {'y': 51.3915088, 'x': -0.2942765, 'street_count': 1}, 285518326: {'y': 51.3914275, 'x': -0.294228, 'street_count': 1}, 286372986: {'y': 51.3917027, 'x': -0.297229, 'street_count': 1}, 286372988: {'y': 51.3915862, 'x': -0.2983264, 'street_count': 3}, 290203080: {'y': 51.3914818, 'x': -0.2995536, 'street_count': 1}, 290203082: {'y': 51.3915503, 'x': -0.2983176, 'street_count': 3}, 290203087: {'y': 51.3897786, 'x': -0.2954385, 'street_count': 3}, 290203089: {'y': 51.3897295, 'x': -0.2957749, 'street_count': 1}, 290203091: {'y': 51.3898881, 'x': -0.2954827, 'street_count': 3}, 290203093: {'y': 51.3899612, 'x': -0.2949872, 'street_count': 1}, 290203105: {'y': 51.3897388, 'x': -0.2950224, 'street_count': 1}, 290203107: {'y': 51.389946, 'x': -0.29511, 'street_count': 3}, 290203109: {'y': 51.3895631, 'x': -0.2941558, 'street_count': 3}, 290203111: {'y': 51.3898457, 'x': -0.2942634, 'street_count': 1}, 290203118: {'y': 51.389554, 'x': -0.2964672, 'street_count': 1}, 290203121: {'y': 51.389222, 'x': -0.2966912, 'street_count': 3}, 290203138: {'y': 51.3902335, 'x': -0.2934529, 'street_count': 1}, 291012475: {'y': 51.3911442, 'x': -0.2921472, 'street_count': 3}, 291012478: {'y': 51.391475, 'x': -0.2911836, 'street_count': 3}, 291012480: {'y': 51.3915161, 'x': -0.2910779, 'street_count': 1}, 291012482: {'y': 51.3915254, 'x': -0.2912592, 'street_count': 1}, 292381381: {'y': 51.3872988, 'x': -0.3002543, 'street_count': 3}, 292381382: {'y': 51.3874048, 'x': -0.3005246, 'street_count': 1}, 292381439: {'y': 51.3883067, 'x': -0.300381, 'street_count': 3}, 292381442: {'y': 51.3884564, 'x': -0.3002249, 'street_count': 1}, 292381444: {'y': 51.3882282, 'x': -0.3004702, 'street_count': 1}, 292381450: {'y': 51.3887276, 'x': -0.3011369, 'street_count': 1}, 292387603: {'y': 51.3907381, 'x': -0.3055467, 'street_count': 3}, 292387610: {'y': 51.3909772, 'x': -0.3053114, 'street_count': 3}, 292387614: {'y': 51.3912316, 'x': -0.3059216, 'street_count': 3}, 292387617: {'y': 51.3912782, 'x': -0.3060576, 'street_count': 1}, 292387620: {'y': 51.3912643, 'x': -0.3058903, 'street_count': 1}, 292387621: {'y': 51.3909191, 'x': -0.30515, 'street_count': 1}, 307854207: {'y': 51.3776074, 'x': -0.278943, 'street_count': 3}, 666135460: {'y': 51.3792583, 'x': -0.3060062, 'street_count': 3}, 666135501: {'y': 51.3784282, 'x': -0.3065558, 'street_count': 1}, 666135611: {'y': 51.3796116, 'x': -0.3067304, 'street_count': 3}, 666135746: {'y': 51.3846437, 'x': -0.3021814, 'highway': 'turning_circle', 'street_count': 1}, 666135777: {'y': 51.3826799, 'x': -0.3041268, 'street_count': 1}, 666135905: {'y': 51.3795407, 'x': -0.3035585, 'street_count': 1}, 666136482: {'y': 51.3799722, 'x': -0.3036863, 'street_count': 1}, 666136554: {'y': 51.3837995, 'x': -0.2830213, 'highway': 'turning_loop', 'street_count': 1}, 666136565: {'y': 51.3891375, 'x': -0.2827899, 'street_count': 1}, 666153468: {'y': 51.3814436, 'x': -0.2833689, 'street_count': 3}, 666153498: {'y': 51.3810358, 'x': -0.2841073, 'street_count': 3}, 666153512: {'y': 51.3816244, 'x': -0.2850995, 'street_count': 1}, 666153709: {'y': 51.3822312, 'x': -0.2828302, 'street_count': 3}, 666153729: {'y': 51.3817688, 'x': -0.2827928, 'street_count': 3}, 666153783: {'y': 51.3818027, 'x': -0.2823286, 'street_count': 3}, 1459929744: {'y': 51.3917746, 'x': -0.2956663, 'street_count': 1}, 1460628264: {'y': 51.3741042, 'x': -0.2985459, 'highway': 'motorway_junction', 'street_count': 3}, 1460628268: {'y': 51.3743805, 'x': -0.3004748, 'street_count': 3}, 1488974289: {'y': 51.374947, 'x': -0.3042253, 'street_count': 3}, 1489009701: {'y': 51.3795799, 'x': -0.2806762, 'street_count': 3}, 1489009750: {'y': 51.3792301, 'x': -0.2800227, 'street_count': 3}, 1517525562: {'y': 51.3791776, 'x': -0.305761, 'street_count': 3}, 1517525656: {'y': 51.3822445, 'x': -0.2822311, 'street_count': 3}, 1517525696: {'y': 51.383908, 'x': -0.2908859, 'street_count': 3}, 1517539615: {'y': 51.3810575, 'x': -0.2871914, 'street_count': 1}, 1517539618: {'y': 51.3812987, 'x': -0.2871503, 'street_count': 3}, 1517539619: {'y': 51.381316, 'x': -0.2877233, 'street_count': 3}, 1517539621: {'y': 51.3815516, 'x': -0.2872874, 'street_count': 1}, 1521991634: {'y': 51.3880309, 'x': -0.2811267, 'street_count': 3}, 1545006452: {'y': 51.3762329, 'x': -0.2992627, 'street_count': 1}, 1600782885: {'y': 51.3770437, 'x': -0.3053944, 'street_count': 1}, 1652501756: {'y': 51.3883781, 'x': -0.3076494, 'street_count': 3}, 1652501763: {'y': 51.3892964, 'x': -0.3055368, 'street_count': 3}, 1653072938: {'y': 51.3824, 'x': -0.3076352, 'street_count': 3}, 1653072969: {'y': 51.383901, 'x': -0.304772, 'street_count': 3}, 1653072976: {'y': 51.3874454, 'x': -0.3063351, 'street_count': 3}, 1653072998: {'y': 51.3852015, 'x': -0.3060055, 'street_count': 3}, 1653103356: {'y': 51.3785786, 'x': -0.2988804, 'street_count': 3}, 1653103364: {'y': 51.3793342, 'x': -0.2985812, 'street_count': 3}, 1653103369: {'y': 51.3794059, 'x': -0.2990558, 'street_count': 3}, 1653103371: {'y': 51.3796035, 'x': -0.3003111, 'street_count': 3}, 1653103376: {'y': 51.3814858, 'x': -0.2982672, 'street_count': 3}, 1653119698: {'y': 51.3830806, 'x': -0.3005078, 'street_count': 3}, 1678870124: {'y': 51.3768702, 'x': -0.2830603, 'street_count': 3}, 1679375992: {'y': 51.3785637, 'x': -0.2805558, 'street_count': 3}, 1685721459: {'y': 51.3891381, 'x': -0.3050408, 'street_count': 3}, 1736768190: {'y': 51.3856049, 'x': -0.2957648, 'street_count': 3}, 1736768192: {'y': 51.3874869, 'x': -0.3033763, 'street_count': 1}, 1736768193: {'y': 51.3878431, 'x': -0.3026677, 'street_count': 3}, 1736768194: {'y': 51.3854084, 'x': -0.2959625, 'street_count': 3}, 1736768196: {'y': 51.3872565, 'x': -0.302683, 'street_count': 1}, 1736768197: {'y': 51.3874187, 'x': -0.3031057, 'street_count': 3}, 1736769212: {'y': 51.3827113, 'x': -0.2990709, 'street_count': 3}, 1736769214: {'y': 51.38322, 'x': -0.2997744, 'street_count': 3}, 1736769318: {'y': 51.3821277, 'x': -0.2994819, 'highway': 'turning_circle', 'street_count': 1}, 1736769319: {'y': 51.3816776, 'x': -0.2994785, 'street_count': 3}, 1736771157: {'y': 51.3790418, 'x': -0.3012837, 'street_count': 1}, 1736771159: {'y': 51.3787374, 'x': -0.2999047, 'street_count': 3}, 1736771161: {'y': 51.3787175, 'x': -0.300408, 'street_count': 1}, 1736772747: {'y': 51.3901428, 'x': -0.3069801, 'street_count': 3}, 1797196117: {'y': 51.3822872, 'x': -0.2819234, 'street_count': 3}, 1797196224: {'y': 51.3823524, 'x': -0.2818547, 'street_count': 3}, 1841112590: {'y': 51.3789868, 'x': -0.306548, 'street_count': 1}, 1942782222: {'y': 51.3779272, 'x': -0.2830638, 'street_count': 1}, 1942782227: {'y': 51.3785886, 'x': -0.2830365, 'street_count': 3}, 1962249565: {'y': 51.3810848, 'x': -0.2890334, 'street_count': 3}, 1962249568: {'y': 51.3813196, 'x': -0.28895, 'street_count': 1}, 1971929472: {'y': 51.3905204, 'x': -0.2943319, 'street_count': 3}, 1971929478: {'y': 51.3906221, 'x': -0.2943903, 'street_count': 1}, 2063260413: {'y': 51.3823057, 'x': -0.2817589, 'street_count': 3}, 2063260432: {'y': 51.3822487, 'x': -0.2818529, 'street_count': 3}, 2161042316: {'y': 51.3902644, 'x': -0.2796111, 'street_count': 1}, 2161919121: {'y': 51.3746059, 'x': -0.3043102, 'street_count': 3}, 2575051493: {'y': 51.377212, 'x': -0.3043751, 'street_count': 1}, 2578590166: {'y': 51.3826454, 'x': -0.2990883, 'street_count': 1}, 2578590171: {'y': 51.3827855, 'x': -0.2990513, 'street_count': 1}, 2578590287: {'y': 51.3844335, 'x': -0.2926397, 'street_count': 3}, 2578590298: {'y': 51.3853832, 'x': -0.2967778, 'street_count': 3}, 2578590308: {'y': 51.3855876, 'x': -0.2966153, 'street_count': 4}, 2578590373: {'y': 51.3867659, 'x': -0.3008119, 'street_count': 3}, 2580897029: {'y': 51.3902976, 'x': -0.2966565, 'street_count': 1}, 2631729379: {'y': 51.388534, 'x': -0.3026311, 'street_count': 1}, 2631729490: {'y': 51.3889194, 'x': -0.3026971, 'street_count': 1}, 3218722082: {'y': 51.3893361, 'x': -0.2960144, 'street_count': 1}, 5005760309: {'y': 51.382519, 'x': -0.2857314, 'street_count': 4}, 5005760315: {'y': 51.3825379, 'x': -0.2858021, 'street_count': 4}, 6160227039: {'y': 51.385692, 'x': -0.282517, 'street_count': 1}, 6160322703: {'y': 51.3876927, 'x': -0.2847451, 'street_count': 1}, 6196348901: {'y': 51.3754486, 'x': -0.291878, 'street_count': 3}, 6196348902: {'y': 51.3755324, 'x': -0.2920216, 'street_count': 1}, 6196348904: {'y': 51.3752653, 'x': -0.290942, 'street_count': 1}, 6196348905: {'y': 51.3750979, 'x': -0.2912493, 'street_count': 3}, 6196348906: {'y': 51.3745152, 'x': -0.2920739, 'street_count': 1}, 6318233734: {'y': 51.3776024, 'x': -0.280682, 'street_count': 3}, 6484459828: {'y': 51.3867265, 'x': -0.3010243, 'street_count': 3}, 6484459830: {'y': 51.3868202, 'x': -0.3008637, 'street_count': 3}, 6484459839: {'y': 51.3868167, 'x': -0.3009942, 'street_count': 3}, 6484524718: {'y': 51.3908174, 'x': -0.3012855, 'street_count': 1}, 6484524721: {'y': 51.3848898, 'x': -0.295242, 'street_count': 3}, 6631052845: {'y': 51.382121, 'x': -0.2860574, 'street_count': 3}, 6631052848: {'y': 51.3823617, 'x': -0.2873445, 'street_count': 1}, 7591587868: {'y': 51.3749162, 'x': -0.2971117, 'street_count': 3}, 7843478503: {'y': 51.3864555, 'x': -0.2911169, 'street_count': 1}, 7843478504: {'y': 51.3864118, 'x': -0.2910563, 'street_count': 1}, 7911157355: {'y': 51.3841303, 'x': -0.3044466, 'street_count': 3}, 7911157359: {'y': 51.384241, 'x': -0.3048153, 'street_count': 3}, 7912974303: {'y': 51.3855504, 'x': -0.296483, 'street_count': 3}, 7913188271: {'y': 51.3840336, 'x': -0.3003249, 'street_count': 3}, 7930557779: {'y': 51.3896043, 'x': -0.3016913, 'street_count': 3}, 8444865939: {'y': 51.3746042, 'x': -0.291947, 'street_count': 3}, 8444865940: {'y': 51.3749236, 'x': -0.2925033, 'street_count': 3}, 8525510614: {'y': 51.3821048, 'x': -0.2842304, 'street_count': 4}, 8930795037: {'y': 51.3826398, 'x': -0.2799834, 'street_count': 3}, 9315499480: {'y': 51.3763003, 'x': -0.2957235, 'street_count': 1}, 9709023287: {'y': 51.3829036, 'x': -0.2874567, 'street_count': 3}, 11633439968: {'y': 51.3850696, 'x': -0.2949916, 'street_count': 4}, 11633569969: {'y': 51.3851435, 'x': -0.2949526, 'street_count': 3}, 11633611965: {'y': 51.3853596, 'x': -0.2955522, 'street_count': 3}, 11675955112: {'y': 51.3819598, 'x': -0.2841819, 'street_count': 3}, 11675955113: {'y': 51.3820443, 'x': -0.2843374, 'street_count': 3}, 11675955119: {'y': 51.3824641, 'x': -0.2858519, 'street_count': 4}, 11676166316: {'y': 51.3824453, 'x': -0.2857763, 'street_count': 4}, 11676166325: {'y': 51.3822624, 'x': -0.2859496, 'street_count': 3}, 11676166326: {'y': 51.3827054, 'x': -0.2856489, 'street_count': 3}, 12046803953: {'y': 51.3776903, 'x': -0.2792753, 'street_count': 3}, 12046803954: {'y': 51.3775553, 'x': -0.2794995, 'street_count': 2}, 12128175941: {'y': 51.3771391, 'x': -0.2821346, 'street_count': 3}, 12128175942: {'y': 51.3765852, 'x': -0.2814556, 'street_count': 1}, 12709976885: {'y': 51.377979, 'x': -0.2795954, 'street_count': 3}, 'test_centre': {'x': -0.29299, 'y': 51.38413}, 'test_centre_road': {'x': -0.2928, 'y': 51.38409}})"
      ]
     },
     "execution_count": 3,
     "metadata": {},
     "output_type": "execute_result"
    }
   ],
   "source": [
    "G.nodes(data=True)#['test_centre_road'], G.nodes[304064]"
   ]
  },
  {
   "cell_type": "code",
   "execution_count": 3,
   "id": "005470e7",
   "metadata": {},
   "outputs": [
    {
     "data": {
      "text/plain": [
       "([(12879656677, {'y': 51.4157366, 'x': -0.2845178, 'street_count': 2}),\n",
       "  ('test_centre', {'x': -0.29299, 'y': 51.38413})],\n",
       " [Marker(children=Tooltip('ID: 12879656677, x: -0.2845178, y: 51.4157366'), position=(51.4157366, -0.2845178)),\n",
       "  Marker(children=Tooltip('ID: test_centre, x: -0.29299, y: 51.38413'), position=(51.38413, -0.29299))])"
      ]
     },
     "execution_count": 3,
     "metadata": {},
     "output_type": "execute_result"
    }
   ],
   "source": [
    "centre_lat = 51.3829463\n",
    "centre_lon = -0.2933327\n",
    "\n",
    "# Get nearby nodes\n",
    "nearby_nodes = [\n",
    "    (nid, data) for nid, data in G.nodes(data=True)\n",
    "    #if ox.distance.great_circle(centre_lat, centre_lon, data['y'], data['x']) <= 1000\n",
    "]\n",
    "\n",
    "markers = [\n",
    "    dl.Marker(position=(data['y'], data['x']), children=dl.Tooltip(f'ID: {nid}, x: {data['x']}, y: {data['y']}'))\n",
    "    for nid, data in nearby_nodes\n",
    "]\n",
    "\n",
    "#dx = -2:-1\n",
    "nearby_nodes[-3:-1], markers[-3:-1]\n"
   ]
  },
  {
   "cell_type": "code",
   "execution_count": null,
   "id": "d7ff1b37",
   "metadata": {},
   "outputs": [],
   "source": [
    "for nid, data in G.nodes(data=True):\n",
    "    print(nid, data)"
   ]
  },
  {
   "cell_type": "code",
   "execution_count": 4,
   "id": "a302ea91",
   "metadata": {},
   "outputs": [
    {
     "name": "stderr",
     "output_type": "stream",
     "text": [
      "/home/dave/anaconda3/envs/mapping_py12/lib/python3.12/site-packages/dash/dash.py:587: UserWarning:\n",
      "\n",
      "JupyterDash is deprecated, use Dash instead.\n",
      "See https://dash.plotly.com/dash-in-jupyter for more details.\n",
      "\n"
     ]
    },
    {
     "data": {
      "text/html": [
       "\n",
       "        <iframe\n",
       "            width=\"100%\"\n",
       "            height=\"650\"\n",
       "            src=\"http://127.0.0.1:8050/\"\n",
       "            frameborder=\"0\"\n",
       "            allowfullscreen\n",
       "            \n",
       "        ></iframe>\n",
       "        "
      ],
      "text/plain": [
       "<IPython.lib.display.IFrame at 0x7fd1353d5130>"
      ]
     },
     "metadata": {},
     "output_type": "display_data"
    }
   ],
   "source": [
    "app = JupyterDash(__name__)\n",
    "app.layout = html.Div([\n",
    "    dl.Map(center=(centre_lat, centre_lon), zoom=18, children=[\n",
    "        dl.TileLayer(),\n",
    "        dl.LayerGroup(markers)\n",
    "    ], style={'width': '100%', 'height': '4200px'})\n",
    "])\n",
    "\n",
    "app.run(mode='inline')"
   ]
  },
  {
   "cell_type": "code",
   "execution_count": 21,
   "id": "a2d182af",
   "metadata": {},
   "outputs": [
    {
     "data": {
      "text/plain": [
       "({'y': 51.3843892,\n",
       "  'x': -0.319595,\n",
       "  'highway': 'mini_roundabout',\n",
       "  'street_count': 3},\n",
       " {0: {'osmid': 122698546,\n",
       "   'highway': 'tertiary',\n",
       "   'name': 'Fleece Road',\n",
       "   'oneway': False,\n",
       "   'reversed': True,\n",
       "   'length': np.float64(13.050001099634002),\n",
       "   'geometry': <LINESTRING (-0.319 51.384, -0.32 51.384, -0.32 51.384)>}})"
      ]
     },
     "execution_count": 21,
     "metadata": {},
     "output_type": "execute_result"
    }
   ],
   "source": [
    "G.nodes[1370329122], G.get_edge_data(745985600, 1370329122)"
   ]
  },
  {
   "cell_type": "code",
   "execution_count": 7,
   "id": "71fb1dd0",
   "metadata": {},
   "outputs": [],
   "source": [
    "# Example node IDs\n",
    "# u = 134929439  # source node\n",
    "# v = 9883509218  # target node\n",
    "\n",
    "# # Get list of edges between u and v (could be multiple if multigraph)\n",
    "# edges = G.get_edge_data(u, v)  # returns dict of edge keys -> edge data\n",
    "\n",
    "# # Example: print info\n",
    "# for key, edge_data in edges.items():\n",
    "#     print(f\"Edge key: {key}\")\n",
    "#     print(f\"Length: {edge_data['length']} meters\")\n"
   ]
  },
  {
   "cell_type": "code",
   "execution_count": 8,
   "id": "1d15d3e7",
   "metadata": {},
   "outputs": [
    {
     "ename": "KeyError",
     "evalue": "9883509218",
     "output_type": "error",
     "traceback": [
      "\u001b[31m---------------------------------------------------------------------------\u001b[39m",
      "\u001b[31mKeyError\u001b[39m                                  Traceback (most recent call last)",
      "\u001b[36mCell\u001b[39m\u001b[36m \u001b[39m\u001b[32mIn[8]\u001b[39m\u001b[32m, line 1\u001b[39m\n\u001b[32m----> \u001b[39m\u001b[32m1\u001b[39m node_data = \u001b[43mG\u001b[49m\u001b[43m.\u001b[49m\u001b[43mnodes\u001b[49m\u001b[43m[\u001b[49m\u001b[32;43m9883509218\u001b[39;49m\u001b[43m]\u001b[49m\n\u001b[32m      2\u001b[39m \u001b[38;5;28mprint\u001b[39m(node_data)\n",
      "\u001b[36mFile \u001b[39m\u001b[32m~/anaconda3/envs/mapping_py12/lib/python3.12/site-packages/networkx/classes/reportviews.py:196\u001b[39m, in \u001b[36mNodeView.__getitem__\u001b[39m\u001b[34m(self, n)\u001b[39m\n\u001b[32m    191\u001b[39m \u001b[38;5;28;01mif\u001b[39;00m \u001b[38;5;28misinstance\u001b[39m(n, \u001b[38;5;28mslice\u001b[39m):\n\u001b[32m    192\u001b[39m     \u001b[38;5;28;01mraise\u001b[39;00m nx.NetworkXError(\n\u001b[32m    193\u001b[39m         \u001b[33mf\u001b[39m\u001b[33m\"\u001b[39m\u001b[38;5;132;01m{\u001b[39;00m\u001b[38;5;28mtype\u001b[39m(\u001b[38;5;28mself\u001b[39m).\u001b[34m__name__\u001b[39m\u001b[38;5;132;01m}\u001b[39;00m\u001b[33m does not support slicing, \u001b[39m\u001b[33m\"\u001b[39m\n\u001b[32m    194\u001b[39m         \u001b[33mf\u001b[39m\u001b[33m\"\u001b[39m\u001b[33mtry list(G.nodes)[\u001b[39m\u001b[38;5;132;01m{\u001b[39;00mn.start\u001b[38;5;132;01m}\u001b[39;00m\u001b[33m:\u001b[39m\u001b[38;5;132;01m{\u001b[39;00mn.stop\u001b[38;5;132;01m}\u001b[39;00m\u001b[33m:\u001b[39m\u001b[38;5;132;01m{\u001b[39;00mn.step\u001b[38;5;132;01m}\u001b[39;00m\u001b[33m]\u001b[39m\u001b[33m\"\u001b[39m\n\u001b[32m    195\u001b[39m     )\n\u001b[32m--> \u001b[39m\u001b[32m196\u001b[39m \u001b[38;5;28;01mreturn\u001b[39;00m \u001b[38;5;28;43mself\u001b[39;49m\u001b[43m.\u001b[49m\u001b[43m_nodes\u001b[49m\u001b[43m[\u001b[49m\u001b[43mn\u001b[49m\u001b[43m]\u001b[49m\n",
      "\u001b[31mKeyError\u001b[39m: 9883509218"
     ]
    }
   ],
   "source": [
    "node_data = G.nodes[9883509218]\n",
    "print(node_data)"
   ]
  },
  {
   "cell_type": "code",
   "execution_count": null,
   "id": "84c9e575",
   "metadata": {},
   "outputs": [
    {
     "ename": "AttributeError",
     "evalue": "'NoneType' object has no attribute 'items'",
     "output_type": "error",
     "traceback": [
      "\u001b[31m---------------------------------------------------------------------------\u001b[39m",
      "\u001b[31mAttributeError\u001b[39m                            Traceback (most recent call last)",
      "\u001b[36mCell\u001b[39m\u001b[36m \u001b[39m\u001b[32mIn[15]\u001b[39m\u001b[32m, line 14\u001b[39m\n\u001b[32m      8\u001b[39m         \u001b[38;5;28;01mreturn\u001b[39;00m [\n\u001b[32m      9\u001b[39m             (G.nodes[u][\u001b[33m'\u001b[39m\u001b[33my\u001b[39m\u001b[33m'\u001b[39m], G.nodes[u][\u001b[33m'\u001b[39m\u001b[33mx\u001b[39m\u001b[33m'\u001b[39m]),\n\u001b[32m     10\u001b[39m             (G.nodes[v][\u001b[33m'\u001b[39m\u001b[33my\u001b[39m\u001b[33m'\u001b[39m], G.nodes[v][\u001b[33m'\u001b[39m\u001b[33mx\u001b[39m\u001b[33m'\u001b[39m])\n\u001b[32m     11\u001b[39m         ]\n\u001b[32m     13\u001b[39m \u001b[38;5;66;03m# Collect polylines\u001b[39;00m\n\u001b[32m---> \u001b[39m\u001b[32m14\u001b[39m edge_lines = [edge_to_coords(data, u, v) \u001b[38;5;28;01mfor\u001b[39;00m key, data \u001b[38;5;129;01min\u001b[39;00m \u001b[43medges\u001b[49m\u001b[43m.\u001b[49m\u001b[43mitems\u001b[49m()]\n",
      "\u001b[31mAttributeError\u001b[39m: 'NoneType' object has no attribute 'items'"
     ]
    }
   ],
   "source": [
    "from shapely.geometry import LineString\n",
    "\n",
    "def edge_to_coords(edge_data, u, v):\n",
    "    if 'geometry' in edge_data:\n",
    "        return [(point[1], point[0]) for point in edge_data['geometry'].coords]\n",
    "    else:\n",
    "        # fallback: straight line between nodes\n",
    "        return [\n",
    "            (G.nodes[u]['y'], G.nodes[u]['x']),\n",
    "            (G.nodes[v]['y'], G.nodes[v]['x'])\n",
    "        ]\n",
    "\n",
    "# Collect polylines\n",
    "edge_lines = [edge_to_coords(data, u, v) for key, data in edges.items()]"
   ]
  },
  {
   "cell_type": "code",
   "execution_count": null,
   "id": "82f96bf0",
   "metadata": {},
   "outputs": [],
   "source": [
    "def get_edge_name(edge_data):\n",
    "    name = edge_data.get(\"name\", \"Unnamed road\")\n",
    "    if isinstance(name, list):\n",
    "        return \", \".join(name)\n",
    "    return name\n",
    "\n",
    "edge_polylines = [\n",
    "    dl.Polyline(\n",
    "        positions=edge_to_coords(data, u, v),\n",
    "        color='red',\n",
    "        weight=5,\n",
    "        children=dl.Tooltip(get_edge_name(data))\n",
    "    )\n",
    "    for key, data in edges.items()\n",
    "]\n"
   ]
  },
  {
   "cell_type": "code",
   "execution_count": null,
   "id": "513d3bcf",
   "metadata": {},
   "outputs": [
    {
     "name": "stderr",
     "output_type": "stream",
     "text": [
      "/home/dave/anaconda3/envs/mapping_py12/lib/python3.12/site-packages/dash/dash.py:587: UserWarning:\n",
      "\n",
      "JupyterDash is deprecated, use Dash instead.\n",
      "See https://dash.plotly.com/dash-in-jupyter for more details.\n",
      "\n"
     ]
    },
    {
     "data": {
      "text/html": [
       "\n",
       "        <iframe\n",
       "            width=\"100%\"\n",
       "            height=\"650\"\n",
       "            src=\"http://127.0.0.1:8050/\"\n",
       "            frameborder=\"0\"\n",
       "            allowfullscreen\n",
       "            \n",
       "        ></iframe>\n",
       "        "
      ],
      "text/plain": [
       "<IPython.lib.display.IFrame at 0x7fc9f8eed1f0>"
      ]
     },
     "metadata": {},
     "output_type": "display_data"
    }
   ],
   "source": [
    "# mapp = dl.Map(center=(centre_lat, centre_lon), zoom=18, children=[\n",
    "#     dl.TileLayer(),\n",
    "#     dl.LayerGroup([\n",
    "#         *markers,  # existing markers from previous steps\n",
    "#         *edge_polylines\n",
    "#     ], style={'width': '100%', 'height': '600px'})\n",
    "# ])\n",
    "\n",
    "# app = JupyterDash(__name__)\n",
    "# app.layout = html.Div([\n",
    "#     dl.Map(center=(centre_lat, centre_lon), zoom=18, children=[\n",
    "#     dl.TileLayer(),\n",
    "#     dl.LayerGroup([\n",
    "#         markers,  # existing markers from previous steps\n",
    "#         edge_polylines\n",
    "#     ])\n",
    "# ])\n",
    "# ])\n",
    "\n",
    "# app.run(mode='inline')\n",
    "\n",
    "app = JupyterDash(__name__)\n",
    "app.layout = html.Div([\n",
    "    dl.Map(center=(centre_lat, centre_lon), zoom=18, children=[\n",
    "        dl.TileLayer(),\n",
    "        dl.LayerGroup(markers),\n",
    "        dl.LayerGroup(edge_polylines)\n",
    "    ], style={'width': '100%', 'height': '600px'})\n",
    "])\n",
    "\n",
    "app.run(mode='inline')"
   ]
  },
  {
   "cell_type": "code",
   "execution_count": null,
   "id": "458e469c",
   "metadata": {},
   "outputs": [
    {
     "data": {
      "text/plain": [
       "([9883509218,\n",
       "  1962249571,\n",
       "  23779844,\n",
       "  9883509220,\n",
       "  23780711,\n",
       "  2578590287,\n",
       "  134912281,\n",
       "  134912282,\n",
       "  134929439],\n",
       " [23787122, 23780562, 23779844, 23780702])"
      ]
     },
     "execution_count": 10,
     "metadata": {},
     "output_type": "execute_result"
    }
   ],
   "source": [
    "def get_nodes_on_street(G, street_name):\n",
    "    nodes = set()\n",
    "    for u, v, data in G.edges(data=True):\n",
    "        name = data.get(\"name\")\n",
    "        if isinstance(name, list):\n",
    "            if street_name in name:\n",
    "                nodes.update([u, v])\n",
    "        elif name == street_name:\n",
    "            nodes.update([u, v])\n",
    "    return list(nodes)\n",
    "\n",
    "# Get nodes on Douglas road\n",
    "Douglas_nodes = get_nodes_on_street(G, 'Douglas Road')\n",
    "\n",
    "# Get nodes on Dennan road\n",
    "DennanRd_nodes = get_nodes_on_street(G, 'Dennan Road')\n",
    "\n",
    "\n",
    "\n",
    "Douglas_nodes, DennanRd_nodes"
   ]
  },
  {
   "cell_type": "code",
   "execution_count": null,
   "id": "c855ae4d",
   "metadata": {},
   "outputs": [],
   "source": []
  }
 ],
 "metadata": {
  "kernelspec": {
   "display_name": "mapping_py12",
   "language": "python",
   "name": "python3"
  },
  "language_info": {
   "codemirror_mode": {
    "name": "ipython",
    "version": 3
   },
   "file_extension": ".py",
   "mimetype": "text/x-python",
   "name": "python",
   "nbconvert_exporter": "python",
   "pygments_lexer": "ipython3",
   "version": "3.12.9"
  }
 },
 "nbformat": 4,
 "nbformat_minor": 5
}
