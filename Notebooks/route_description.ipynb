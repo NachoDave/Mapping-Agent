{
 "cells": [
  {
   "cell_type": "code",
   "execution_count": 4,
   "metadata": {},
   "outputs": [],
   "source": [
    "import os\n",
    "import sys\n",
    "import osmnx as ox\n",
    "# Add the src folder to the Python path\n",
    "src_path = os.path.abspath(os.path.join(os.getcwd(), '..', 'src'))\n",
    "if src_path not in sys.path:\n",
    "    sys.path.insert(0, src_path)\n",
    "from routing import get_nodes_on_road, get_roundabout_path"
   ]
  },
  {
   "cell_type": "code",
   "execution_count": 1,
   "metadata": {},
   "outputs": [],
   "source": [
    "import ollama\n",
    "\n",
    "def explain_route_with_llm(route_edges, instructions, model=\"llama3\"):\n",
    "    \"\"\"\n",
    "    Use an LLM to explain a route based on instructions and edge metadata.\n",
    "\n",
    "    Parameters:\n",
    "        route_edges (list[dict]): A list of edge dictionaries from OSMnx.\n",
    "        instructions (list[str]): Navigation instructions step by step.\n",
    "        model (str): Ollama model name, e.g., 'llama3' or 'mistral'.\n",
    "\n",
    "    Returns:\n",
    "        str: Natural language explanation from the LLM.\n",
    "    \"\"\"\n",
    "\n",
    "    # Build prompt string\n",
    "    prompt = \"You are a helpful assistant describing a driving route in a city.\\n\\n\"\n",
    "    prompt += \"You are given a sequence of navigation instructions and corresponding OpenStreetMap edge metadata.\\n\"\n",
    "    prompt += \"Your goal is to explain the route in plain English, summarizing key features like road names, turns, roundabouts, and any notable attributes.\\n\\n\"\n",
    "\n",
    "    prompt += \"Instructions:\\n\"\n",
    "    for i, instr in enumerate(instructions, 1):\n",
    "        prompt += f\"  Step {i}: {instr}\\n\"\n",
    "\n",
    "    prompt += \"\\nRoute Edge Attributes:\\n\"\n",
    "    for i, edge in enumerate(route_edges, 1):\n",
    "        attrs = \", \".join(f\"{k}: {v}\" for k, v in edge.items() if k != \"geometry\")\n",
    "        prompt += f\"  Segment {i}: {attrs}\\n\"\n",
    "\n",
    "    prompt += \"\\nNow write a clear explanation of the full route.\\n\"\n",
    "\n",
    "    # LLM call\n",
    "    response = ollama.chat(\n",
    "        model=model,\n",
    "        messages=[\n",
    "            {\"role\": \"system\", \"content\": \"You are an expert in road navigation and OpenStreetMap data.\"},\n",
    "            {\"role\": \"user\", \"content\": prompt}\n",
    "        ]\n",
    "    )\n",
    "\n",
    "    return response['message']['content']\n"
   ]
  },
  {
   "cell_type": "code",
   "execution_count": 2,
   "metadata": {},
   "outputs": [],
   "source": [
    "import networkx as nx\n",
    "\n",
    "def extract_route_edge_features(G: nx.MultiDiGraph, node_list: list) -> list:\n",
    "    \"\"\"\n",
    "    Given a graph and a list of node IDs, extract descriptive edge features for LLM input.\n",
    "\n",
    "    Returns:\n",
    "        List[dict]: One dict per edge with key metadata fields.\n",
    "    \"\"\"\n",
    "    edge_descriptions = []\n",
    "\n",
    "    for u, v in zip(node_list[:-1], node_list[1:]):\n",
    "        if not G.has_edge(u, v):\n",
    "            raise ValueError(f\"No edge between {u} and {v}\")\n",
    "        \n",
    "        edge_data = G.get_edge_data(u, v)\n",
    "        first_key = next(iter(edge_data))\n",
    "        data = edge_data[first_key]\n",
    "\n",
    "        desc = {\n",
    "            \"from_node\": u,\n",
    "            \"to_node\": v,\n",
    "            \"name\": data.get(\"name\", \"unknown\"),\n",
    "            \"highway\": data.get(\"highway\", \"unknown\"),\n",
    "            \"length_m\": data.get(\"length\", None),\n",
    "            \"oneway\": data.get(\"oneway\", False),\n",
    "            \"maxspeed\": data.get(\"maxspeed\", None),\n",
    "            \"lanes\": data.get(\"lanes\", None),\n",
    "            \"roundabout\": data.get(\"junction\") == \"roundabout\",\n",
    "            \"bridge\": data.get(\"bridge\", False),\n",
    "            \"tunnel\": data.get(\"tunnel\", False),\n",
    "        }\n",
    "\n",
    "        edge_descriptions.append(desc)\n",
    "\n",
    "    return edge_descriptions"
   ]
  },
  {
   "cell_type": "code",
   "execution_count": 5,
   "metadata": {},
   "outputs": [],
   "source": [
    "G = ox.load_graphml(\"../data/tolworth.graphml\")"
   ]
  },
  {
   "cell_type": "code",
   "execution_count": 6,
   "metadata": {},
   "outputs": [],
   "source": [
    "x = get_roundabout_path(G, 'Kingsdowne Road', 'Upper Brighton Road', 1736768194, 3)\n",
    "edges = extract_route_edge_features(G, x)"
   ]
  },
  {
   "cell_type": "code",
   "execution_count": null,
   "metadata": {},
   "outputs": [],
   "source": [
    "instructions = {'Step 1': {'C'}, 'Step 2': }"
   ]
  },
  {
   "cell_type": "code",
   "execution_count": null,
   "metadata": {},
   "outputs": [],
   "source": [
    "explain_route_with_llm(edges, instructions, model=\"llama3.2:latest\")"
   ]
  }
 ],
 "metadata": {
  "kernelspec": {
   "display_name": "mapping",
   "language": "python",
   "name": "python3"
  },
  "language_info": {
   "codemirror_mode": {
    "name": "ipython",
    "version": 3
   },
   "file_extension": ".py",
   "mimetype": "text/x-python",
   "name": "python",
   "nbconvert_exporter": "python",
   "pygments_lexer": "ipython3",
   "version": "3.12.9"
  }
 },
 "nbformat": 4,
 "nbformat_minor": 2
}
