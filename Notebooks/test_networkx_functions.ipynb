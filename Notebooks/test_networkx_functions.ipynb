{
 "cells": [
  {
   "cell_type": "markdown",
   "id": "eaa6d1f5",
   "metadata": {},
   "source": [
    "## Network X functions"
   ]
  },
  {
   "cell_type": "code",
   "execution_count": 1,
   "id": "d061c2bc",
   "metadata": {},
   "outputs": [],
   "source": [
    "## Import libraries\n",
    "import osmnx as ox\n",
    "import networkx as nx\n",
    "import math\n",
    "import dash_leaflet as dl\n",
    "from jupyter_dash import JupyterDash\n",
    "from dash import html\n",
    "import dash\n",
    "from collections import deque"
   ]
  },
  {
   "cell_type": "markdown",
   "id": "6ab4baf2",
   "metadata": {},
   "source": [
    "Test a Tolworth 04 route"
   ]
  },
  {
   "cell_type": "code",
   "execution_count": 2,
   "id": "c4e32f08",
   "metadata": {},
   "outputs": [],
   "source": [
    "start_node = 23779844\n",
    "G_tolworth = ox.graph_from_point((51.3829463, -0.2933327), dist=5000, network_type='drive')  # Adjust lat/lon to roughly London\n",
    "node_id = 10282513496\n",
    "centre_lat = 51.3829463\n",
    "centre_lon = -0.2933327"
   ]
  },
  {
   "cell_type": "code",
   "execution_count": 3,
   "id": "c5aba26f",
   "metadata": {},
   "outputs": [
    {
     "data": {
      "text/plain": [
       "networkx.classes.multidigraph.MultiDiGraph"
      ]
     },
     "execution_count": 3,
     "metadata": {},
     "output_type": "execute_result"
    }
   ],
   "source": [
    "type(G_tolworth)"
   ]
  },
  {
   "cell_type": "code",
   "execution_count": null,
   "id": "341a7e72",
   "metadata": {},
   "outputs": [
    {
     "data": {
      "text/plain": [
       "([23780711, 23779844, 2578590287, 304437],\n",
       " [23780711, 23779844, 2578590287, 304438],\n",
       " [2578590287, 304437])"
      ]
     },
     "execution_count": 4,
     "metadata": {},
     "output_type": "execute_result"
    }
   ],
   "source": [
    "# function to get nodes on a road\n",
    "def get_nodes_on_road(G, road_name: str) -> set:\n",
    "    \"\"\"_summary_\n",
    "    Given a collection of nodes via a networkx.classes.multidigraph.MultiDiGraph find\n",
    "    all of the nodes on a given road\n",
    "\n",
    "    Args:\n",
    "        G (OSMNX digraph): Collection of nodes to investigate\n",
    "        road_name (str): Road name \n",
    "\n",
    "    Returns:\n",
    "        set: set of all osmnx nodes on a road\n",
    "    \"\"\"\n",
    "    nodes = set()\n",
    "    for u, v, data in G.edges(data=True): # u is the start node, v is the edge node, data is edge data\n",
    "        if data.get('name') == road_name:\n",
    "            nodes.add(u)\n",
    "            nodes.add(v)\n",
    "    return nodes\n",
    "\n",
    "# Function to get the angle of turn nodes\n",
    "def turn_angle(current_node: dict, shared_node: dict, neighbour_node: dict):\n",
    "    \"\"\"_summary_\n",
    "\n",
    "    Args:\n",
    "        current_node (dict): _description_\n",
    "        shared_node (dict): _description_\n",
    "        neighbour_node (dict): _description_\n",
    "\n",
    "    Returns:\n",
    "        _type_: _description_\n",
    "    \"\"\"\n",
    "    x1 =  shared_node['x'] - current_node['x']\n",
    "    y1 =  shared_node['y'] - current_node['y']\n",
    "    x2 =  neighbour_node['x'] - shared_node['x']\n",
    "    y2 =  neighbour_node['y'] - shared_node['y']\n",
    "    \n",
    "    # print(f'x1: {x1}, y1: {y1}' )\n",
    "    # print(f'x2: {x2}, y2: {y2}' )\n",
    "\n",
    "    angle1 = math.atan2(y1, x1)\n",
    "    angle2 = math.atan2(y2, x2)\n",
    "    \n",
    "    # Signed angle difference\n",
    "    angle_deg = math.degrees(angle1 - angle2)\n",
    "\n",
    "    return angle_deg + 180\n",
    "\n",
    "# Turn direction \n",
    "def get_turn_node(G, current_road_name: str, next_road_name: str, current_node: str, direction: str):\n",
    "    \"\"\"_summary_\n",
    "\n",
    "    Args:\n",
    "        G (_type_): _description_\n",
    "        current_road_name (str): _description_\n",
    "        next_road_name (str): _description_\n",
    "        current_node (str): _description_\n",
    "        direction (str): _description\n",
    "    \"\"\"\n",
    "    # 1) Get the nodes on the current road\n",
    "    curr_road_nodes = get_nodes_on_road(G, current_road_name)\n",
    "    # 2) Get the nodes on the next road\n",
    "    next_road_nodes = get_nodes_on_road(G, next_road_name)\n",
    "    # 3) Find the nodes common to both to get junction nodes \n",
    "    junc_node = list(curr_road_nodes.intersection(next_road_nodes)) # get nodes in both roads\n",
    "    if len(junc_node) == 1:\n",
    "        junc_node = list(curr_road_nodes.intersection(next_road_nodes))[0]\n",
    "    elif len(junc_node) > 1:\n",
    "        # Check if the nodes have neighbours which are not shared\n",
    "        next_node_not_shared = next_road_nodes.difference(set(junc_node)) # check for nodes on next road not in current\n",
    "        junc_node = {node for node in junc_node \n",
    "         if len({n for n in G.neighbors(node)}.intersection(next_node_not_shared))}\n",
    "            \n",
    "        # Check if there is one node left, otherwise use networkx to get shortest distance\n",
    "        if len(junc_node) == 1:\n",
    "            junc_node = list(junc_node)[0]\n",
    "        else:\n",
    "            junc_node = min(\n",
    "            junc_node,\n",
    "            key=lambda node: nx.shortest_path_length(G, current_node, node, weight=\"length\")\n",
    ")\n",
    "\n",
    "        \n",
    "    else:\n",
    "        raise ValueError(\"No shared nodes between the two roads!\")\n",
    "    # 4) Get neighbours of common node\n",
    "    junc_node_neighbours = [neighbour for neighbour in G.neighbors(junc_node) \n",
    "                            if (neighbour in next_road_nodes \n",
    "                            and neighbour not in curr_road_nodes)]\n",
    "    # 5) Get angles of the turns\n",
    "    neigbour_angles = [turn_angle(G.nodes[current_node], G.nodes[junc_node], G.nodes[x]) for x in junc_node_neighbours]\n",
    "    # 7) Select Neighbour node dependent on turn direction\n",
    "    if direction == 'left':\n",
    "        final_node = junc_node_neighbours[neigbour_angles.index(min(neigbour_angles))]\n",
    "    elif direction == \"right\":\n",
    "        final_node = junc_node_neighbours[neigbour_angles.index(max(neigbour_angles))]\n",
    "    elif direction == \"straight\":\n",
    "        junc_node_neighbours[min(enumerate([abs(180 - (n)) for n in neigbour_angles]), key=lambda x: x[1])[0]]\n",
    "    else:\n",
    "        pass # may need to add this??\n",
    "    # 7) Get the route from current node to final node\n",
    "    current_node_to_junction_pth = nx.shortest_path(G, source=current_node, target=junc_node)\n",
    "    junction_to_turn_pth = nx.shortest_path(G, junc_node, final_node)\n",
    "    \n",
    "    return current_node_to_junction_pth[:-1] + junction_to_turn_pth\n",
    "\n",
    "## Roundabout functions ======================================================================= ##\n",
    "\n",
    "## Get the potential roundabout nodes\n",
    "def get_roundabout_path(G, current_road_name: str, next_road_name: str, current_node: str, exit: int):\n",
    "    \"\"\"_summary_\n",
    "\n",
    "    Args:\n",
    "        G (_type_): _description_\n",
    "        current_road_name (str): _description_\n",
    "        next_road_name (str): _description_\n",
    "        current_node (str): _description_\n",
    "    \"\"\"\n",
    "    current_road_nodes = get_nodes_on_road(G, current_road_name) # get the nodes on the current road\n",
    "    potential_roundabout_current_road_nodes = set()\n",
    "    \n",
    "    for node in current_road_nodes: # loop through current road nodes\n",
    "        for neighbour in G.successors(node): # get the neighbours of the current road nodes\n",
    "            for _, edge_data in G.get_edge_data(node, neighbour).items(): # get the edges of the current road nodes\n",
    "                if edge_data.get('junction') == 'roundabout': # check if any of the edges are roundabouts\n",
    "                    potential_roundabout_current_road_nodes.add(node) # append these edges to a list\n",
    "                    \n",
    "    roundabout_nodes_dict = dict()\n",
    "                    \n",
    "    ## Look at the connected nodes to find the roundabout nodes\n",
    "    for node in potential_roundabout_current_road_nodes:\n",
    "        queue = [node] # intiate a queue\n",
    "        visited = set([node])\n",
    "        roundabout_nodes = [node]\n",
    "        \n",
    "        \n",
    "        while queue:\n",
    "            current_ra_node = queue.pop(0)\n",
    "            for nd_ra in G.successors(current_ra_node):\n",
    "                if nd_ra not in visited:\n",
    "                    edge_ra_datas = G.get_edge_data(current_ra_node, nd_ra)\n",
    "                    if edge_ra_datas:\n",
    "                        for _, edge_ra_data in edge_ra_datas.items():\n",
    "                            if edge_ra_data.get('junction') == 'roundabout':\n",
    "                                queue.append(nd_ra)\n",
    "                                visited.add(nd_ra)\n",
    "                                roundabout_nodes.append(nd_ra)\n",
    "                                \n",
    "        roundabout_nodes_dict[node] = roundabout_nodes\n",
    "                                \n",
    "    ## Check for duplicated roundabouts\n",
    "    unique_roundabouts = {}\n",
    "    seen = set()\n",
    "    for entry_node, nodes in roundabout_nodes_dict.items():\n",
    "        frozen = frozenset(nodes)\n",
    "        if frozen not in seen:\n",
    "            seen.add(frozen)\n",
    "            unique_roundabouts[entry_node] = nodes\n",
    "            \n",
    "    ## Get the road names for each exit node\n",
    "    roundabout_exit_roads_dict = dict()\n",
    "    for ra_key in unique_roundabouts:\n",
    "        roundabout_exit_roads = dict()\n",
    "        ra = unique_roundabouts[ra_key]\n",
    "        for rb_nd in ra:\n",
    "            #print(ra)\n",
    "            for rb_nd_neighbour in G.successors(rb_nd):\n",
    "                if rb_nd_neighbour not in ra:\n",
    "                    rd_nb_edges = G.get_edge_data(rb_nd, rb_nd_neighbour)\n",
    "                    for _, data in rd_nb_edges.items():\n",
    "                        roundabout_exit_roads[rb_nd] = data.get('name')\n",
    "                    \n",
    "            roundabout_exit_roads_dict[ra_key] = roundabout_exit_roads\n",
    "        \n",
    "    ## Remove roundabouts that do not have any exits onto the road\n",
    "    roundabout_exit_roads_dict = {\n",
    "        k: v for k, v in roundabout_exit_roads_dict.items()\n",
    "        if next_road_name in v.values()\n",
    "    }\n",
    "    \n",
    "    ## check that there is only one roundabout still left after filtering\n",
    "    if len(roundabout_exit_roads_dict) > 1:\n",
    "        raise ValueError(\"Multiple roundabouts after filtering\")    \n",
    " \n",
    "    if len(roundabout_exit_roads_dict) == 0:\n",
    "        raise ValueError(\"No roundabouts found\")  \n",
    "    \n",
    "    ## Get the most likely entrance node using shortest distance (this will be the path to the roundabout)\n",
    "    roundabout_entrance_curr_node_nodes = {k : ox.shortest_path(G, current_node, k,  weight='length') \n",
    "                                  for k, v in next(iter(roundabout_exit_roads_dict.values())).items() \n",
    "                                  if v in current_road_name}\n",
    "    \n",
    "    roundabout_entrance_node, roundabout_entrance_path = min(roundabout_entrance_curr_node_nodes.items(), key=lambda item: len(item[1]))\n",
    "    \n",
    "    ## Get the exit node from the exit number\n",
    "    roundabout_nodes = list(next(iter(roundabout_exit_roads_dict.values())).keys())\n",
    "    \n",
    "    # Use deque to rotate the list so that entrance_node is first\n",
    "    dq = deque(roundabout_nodes)\n",
    "    \n",
    "    while dq[0] != roundabout_entrance_node:\n",
    "        dq.rotate(-1)  # Move elements left until entrance_node is at front\n",
    "        \n",
    "    roundabout_exit_node = dq[exit]\n",
    "    \n",
    "    # Get route between roundabout entrance and exit nodes\n",
    "    roundabout_entrance_exit_path = ox.shortest_path(G, roundabout_entrance_node, roundabout_exit_node,  weight='length')\n",
    "    \n",
    "    # Get the final node on the road\n",
    "    final_node = [nd for nd in G.successors(roundabout_exit_node) if nd not in roundabout_nodes]\n",
    "    \n",
    "    ## check if there aren't multiple routes off the exit node\n",
    "    if len(final_node) != 1:\n",
    "        raise ValueError(f\"Multiple nodes off exit node found from node: {roundabout_exit_node}\")\n",
    "\n",
    "    final_path = roundabout_entrance_path[:-1] + roundabout_entrance_exit_path + final_node\n",
    "    \n",
    "    ## check if there are any nodes on the current road on roundabouts\n",
    "    if not potential_roundabout_current_road_nodes:\n",
    "        raise ValueError(f\"Could not find any nodes connected to roundabouts on the current road: {current_road_name}\")\n",
    "                    \n",
    "    return final_path\n",
    "        \n",
    "\n",
    "# test functions section of cell ======================================================= ##\n",
    "#get_turn_candiates(G_tolworth, 'Douglas Road')\n",
    "\n",
    "# turn_angle(G_tolworth.nodes[start_node], G_tolworth.nodes[2578590287], G_tolworth.nodes[304437]), turn_angle(G_tolworth.nodes[start_node], G_tolworth.nodes[2578590287], G_tolworth.nodes[304438])\n",
    "# turn_angle(G_tolworth.nodes[23780711], G_tolworth.nodes[start_node], G_tolworth.nodes[2578590287])\n",
    "get_turn_node(G_tolworth, 'Douglas Road', 'Ewell Road', 23780711, 'left'), get_turn_node(G_tolworth, 'Douglas Road', 'Ewell Road', 23780711, 'right'),get_turn_node(G_tolworth, 'Douglas Road', 'Ewell Road', 2578590287, 'left')\n",
    "#get_turn_node(G_tolworth, 'Ewell Road', 'Kingsdowne Road', 304437, 'straight')\n",
    "\n",
    "\n",
    "#get_potential_roundabout_node(G_tolworth, 'Kingsdowne Road', 'Upper Brighton Road', 1736768194)\n",
    "#get_potential_roundabout_node(G_tolworth, 'Langley Road','Upper Brighton Road',   304081)\n",
    "#get_potential_roundabout_node(G_tolworth, 'Kingsdowne Road', 'Upper Brighton Road', 1736768194, exit = 3)"
   ]
  },
  {
   "cell_type": "code",
   "execution_count": 21,
   "id": "1dbf2f36",
   "metadata": {},
   "outputs": [
    {
     "data": {
      "text/plain": [
       "[1736768193, 242768242, 1685721459, 1652501763, 1736772747, 304097, 304098]"
      ]
     },
     "execution_count": 21,
     "metadata": {},
     "output_type": "execute_result"
    }
   ],
   "source": [
    "def get_continuing_road_path(G, current_road_name: str, next_road_name: str, current_node: str):\n",
    "    \"\"\"Find a simple continuation path from current road to next road with a name change but no junction.\"\"\"\n",
    "    visited = set()\n",
    "    path = [current_node]\n",
    "    \n",
    "    while True:\n",
    "        node = path[-1]\n",
    "        visited.add(node)\n",
    "        \n",
    "        successors = [n for n in G.successors(node) if n not in visited]\n",
    "        if not successors:\n",
    "            raise ValueError(\"No further successors from current node\")\n",
    "        \n",
    "        next_node = None\n",
    "        for succ in successors:\n",
    "            edge_data = G.get_edge_data(node, succ)\n",
    "            for _, data in edge_data.items():\n",
    "                road_name = data.get('name')\n",
    "                if road_name == current_road_name or road_name == next_road_name:\n",
    "                    next_node = succ\n",
    "                    break\n",
    "            if next_node:\n",
    "                break\n",
    "        \n",
    "        if not next_node:\n",
    "            raise ValueError(f\"Couldn't find continuation from {current_road_name} to {next_road_name}\")\n",
    "        \n",
    "        path.append(next_node)\n",
    "        \n",
    "        # Check if we've arrived on the next road\n",
    "        edge_data = G.get_edge_data(node, next_node)\n",
    "        for _, data in edge_data.items():\n",
    "            if data.get('name') == next_road_name:\n",
    "                return path\n",
    "\n",
    "get_continuing_road_path(G_tolworth, 'Upper Brighton Road', 'Brighton Road', 1736768193)"
   ]
  },
  {
   "cell_type": "code",
   "execution_count": 5,
   "id": "a91f6832",
   "metadata": {},
   "outputs": [
    {
     "data": {
      "text/plain": [
       "('a', [1, 2, 3])"
      ]
     },
     "execution_count": 5,
     "metadata": {},
     "output_type": "execute_result"
    }
   ],
   "source": [
    "#G_tolworth.nodes[start_node]['x'] - G_tolworth.nodes[2578590287]['x']\n",
    "# [x for x in G_tolworth.neighbors(2578590287)]\n",
    "# G_tolworth.nodes[start_node], G_tolworth.nodes[2578590287], G_tolworth.nodes[304437]\n",
    "\n",
    "# [x for x in G_tolworth.successors(2578590373)]\n",
    "# d = {'x': 10, 'y': 12}\n",
    "\n",
    "# [x for x in d.items()], [x for x in d.keys()]\n",
    "\n",
    "# xx1 = get_potential_roundabout_node(G_tolworth, 'Kingsdowne Road', 'Kingsdowne Road', 1736768194)\n",
    "# xx2 = get_potential_roundabout_node(G_tolworth, 'Kingsdowne Road', 'Upper Brighton Road', 1736768194)\n",
    "# xx = get_potential_roundabout_node(G_tolworth, 'Upper Brighton Road', 'Kingsdowne Road',  8)\n",
    "# xx1, xx2, \n",
    "# {k : ox.shortest_path(G_tolworth, 1736768193, k,  weight='length') for k, v in next(iter(xx.values())).items() if v in 'Upper Brighton Road'}#, xx\n",
    "\n",
    "# Example dict of lists\n",
    "my_dict = {\n",
    "    \"a\": [1, 2, 3]\n",
    "    #\"b\": [4, 5, 5],\n",
    "    #\"c\": [6, 7, 8, 9]\n",
    "}\n",
    "\n",
    "# Get the key and list with the shortest list\n",
    "shortest_key, shortest_list = min(my_dict.items(), key=lambda item: len(item[1]))\n",
    "\n",
    "shortest_key, shortest_list\n"
   ]
  },
  {
   "cell_type": "code",
   "execution_count": 6,
   "id": "f5cb13ea",
   "metadata": {},
   "outputs": [
    {
     "name": "stdout",
     "output_type": "stream",
     "text": [
      "['highway', 'street_count', 'x', 'y']\n",
      "{'y': 51.381894, 'x': -0.2938243, 'street_count': 3}\n"
     ]
    },
    {
     "data": {
      "text/plain": [
       "([23780702, 23780711, 2578590287], [23780702, 23780711, 2578590287])"
      ]
     },
     "execution_count": 6,
     "metadata": {},
     "output_type": "execute_result"
    }
   ],
   "source": [
    "# Look at some nodes\n",
    "[dx for dx in G_tolworth.neighbors(23780711)], \n",
    "\n",
    "\n",
    "all_keys = set()\n",
    "for _, attrs in G_tolworth.nodes(data=True):\n",
    "    all_keys.update(attrs.keys())\n",
    "\n",
    "print(sorted(all_keys))\n",
    "\n",
    "print(G_tolworth.nodes[start_node])\n",
    "\n",
    "[dx for dx in G_tolworth.successors(start_node)], [dx for dx in G_tolworth.predecessors(start_node)]"
   ]
  },
  {
   "cell_type": "code",
   "execution_count": 7,
   "id": "a873d7d9",
   "metadata": {},
   "outputs": [
    {
     "name": "stdout",
     "output_type": "stream",
     "text": [
      "{0: {'osmid': 251673770, 'highway': 'residential', 'maxspeed': '20 mph', 'name': 'Douglas Road', 'oneway': False, 'reversed': True, 'length': np.float64(294.1048198309258), 'geometry': <LINESTRING (-0.294 51.382, -0.294 51.382, -0.294 51.382, -0.294 51.382, -0....>}}\n",
      "{0: {'osmid': 251673770, 'highway': 'residential', 'maxspeed': '20 mph', 'name': 'Douglas Road', 'oneway': False, 'reversed': False, 'length': np.float64(294.1048198309258), 'geometry': <LINESTRING (-0.293 51.384, -0.293 51.384, -0.293 51.384, -0.293 51.383, -0....>}}\n"
     ]
    }
   ],
   "source": [
    "## Explore edges\n",
    "edge1 = G_tolworth.get_edge_data(23779844, 2578590287)#\n",
    "print(edge1)\n",
    "edge2 = G_tolworth.get_edge_data(2578590287, 23779844)#\n",
    "print(edge2)"
   ]
  },
  {
   "cell_type": "code",
   "execution_count": null,
   "id": "f7bde3dd",
   "metadata": {},
   "outputs": [],
   "source": []
  },
  {
   "cell_type": "code",
   "execution_count": 8,
   "id": "f31e5ebf",
   "metadata": {},
   "outputs": [
    {
     "data": {
      "text/plain": [
       "([Marker(children=Tooltip('ID: 23780711, x: -0.2944253, y: 51.3806375'), position=(51.3806375, -0.2944253)),\n",
       "  Marker(children=Tooltip('ID: 23779844, x: -0.2938243, y: 51.381894'), position=(51.381894, -0.2938243)),\n",
       "  Marker(children=Tooltip('ID: 2578590287, x: -0.2926397, y: 51.3844335'), position=(51.3844335, -0.2926397)),\n",
       "  Marker(children=Tooltip('ID: 304437, x: -0.2926802, y: 51.3844458'), position=(51.3844458, -0.2926802))],\n",
       " [Polyline(color='blue', positions=[(51.3806375, -0.2944253), (51.3809071, -0.2942964), (51.3815349, -0.2939961), (51.381894, -0.2938243)], weight=2),\n",
       "  Polyline(color='blue', positions=[(51.381894, -0.2938243), (51.3819982, -0.2937758), (51.3820815, -0.293737), (51.3821779, -0.2936921), (51.3826096, -0.2934912), (51.3829463, -0.2933327), (51.383964, -0.2928535), (51.3843965, -0.2926565), (51.3844335, -0.2926397)], weight=2),\n",
       "  Polyline(color='blue', positions=[(51.3844335, -0.2926397), (51.3844458, -0.2926802)], weight=2)])"
      ]
     },
     "execution_count": 8,
     "metadata": {},
     "output_type": "execute_result"
    }
   ],
   "source": [
    "## Node 1 to node 2\n",
    "node1_to_node2 = get_turn_node(G_tolworth, 'Douglas Road', 'Ewell Road', 23780711, 'left')\n",
    "\n",
    "\n",
    "def get_markers_and_polylines(G, nodes, node_color = 'red', edge_color = 'blue'):\n",
    "    ## Get markers\n",
    "    node_dict = {node: G_tolworth.nodes[node] for node in nodes}\n",
    "    markers = [\n",
    "    dl.Marker(position=(node_dict[dx]['y'], node_dict[dx]['x']), \n",
    "              children=dl.Tooltip(f'ID: {dx}, x: {node_dict[dx]['x']}, y: {node_dict[dx]['y']}'))\n",
    "    for dx in node_dict.keys()\n",
    "    ]\n",
    "    \n",
    "    ## Get polylines\n",
    "    edges = [G_tolworth.get_edge_data(nodes[u], nodes[u + 1])[0] for u in range(len(nodes) - 1)]\n",
    "\n",
    "    edge_lines = []\n",
    "\n",
    "    for idx, data in  zip(range(len(edges)), edges):\n",
    "        # Some edges have multiple geometries (from OSM), handle those first\n",
    "        if 'geometry' in data:\n",
    "            # If geometry is a LineString, extract lat/lon pairs\n",
    "            coords = [(point[1], point[0]) for point in data['geometry'].coords]\n",
    "        else:\n",
    "            #Otherwise use straight line between nodes\n",
    "            coords = [\n",
    "                markers[idx].position, \n",
    "                markers[idx + 1].position\n",
    "            ]\n",
    "        \n",
    "        edge_lines.append(dl.Polyline(positions=coords, color=edge_color, weight=2))\n",
    "\n",
    "    return markers, edge_lines\n",
    "\n",
    "get_markers_and_polylines(G_tolworth, node1_to_node2)"
   ]
  },
  {
   "cell_type": "code",
   "execution_count": 9,
   "id": "be985a66",
   "metadata": {},
   "outputs": [
    {
     "name": "stdout",
     "output_type": "stream",
     "text": [
      "arrg\n"
     ]
    },
    {
     "data": {
      "text/plain": [
       "[Polyline(color='blue', positions=[(51.3806375, -0.2944253), (51.3809071, -0.2942964), (51.3815349, -0.2939961), (51.381894, -0.2938243)], weight=2),\n",
       " Polyline(color='blue', positions=[(51.381894, -0.2938243), (51.3819982, -0.2937758), (51.3820815, -0.293737), (51.3821779, -0.2936921), (51.3826096, -0.2934912), (51.3829463, -0.2933327), (51.383964, -0.2928535), (51.3843965, -0.2926565), (51.3844335, -0.2926397)], weight=2),\n",
       " Polyline(color='blue', positions=[(51.3844335, -0.2926397), (51.3844458, -0.2926802)], weight=2)]"
      ]
     },
     "execution_count": 9,
     "metadata": {},
     "output_type": "execute_result"
    }
   ],
   "source": [
    "\n",
    "node1_to_node2_nodes = {node: G_tolworth.nodes[node] for node in node1_to_node2}\n",
    "\n",
    "node1_to_node2_markers = [\n",
    "    dl.Marker(position=(node1_to_node2_nodes[dx]['y'], node1_to_node2_nodes[dx]['x']), \n",
    "              children=dl.Tooltip(f'ID: {dx}, x: {node1_to_node2_nodes[dx]['x']}, y: {node1_to_node2_nodes[dx]['y']}'))\n",
    "    for dx in node1_to_node2_nodes.keys()\n",
    "    ]\n",
    "\n",
    "\n",
    "\n",
    "## Get the edges\n",
    "node1_to_node2_edges = [G_tolworth.get_edge_data(node1_to_node2[u], node1_to_node2[u + 1])[0] for u in range(len(node1_to_node2) - 1)]\n",
    "\n",
    "node1_to_node2_edge_lines = []\n",
    "\n",
    "for idx, data in  zip(range(len(node1_to_node2_edges)), node1_to_node2_edges):\n",
    "    # Some edges have multiple geometries (from OSM), handle those first\n",
    "    if 'geometry' in data:\n",
    "        # If geometry is a LineString, extract lat/lon pairs\n",
    "        coords = [(point[1], point[0]) for point in data['geometry'].coords]\n",
    "    else:\n",
    "        print('arrg')\n",
    "        #Otherwise use straight line between nodes\n",
    "        coords = [\n",
    "            node1_to_node2_markers[idx].position, \n",
    "            node1_to_node2_markers[idx + 1].position\n",
    "        ]\n",
    "    \n",
    "    node1_to_node2_edge_lines.append(dl.Polyline(positions=coords, color='blue', weight=2))\n",
    "    \n",
    "node1_to_node2_edge_lines"
   ]
  },
  {
   "cell_type": "code",
   "execution_count": 10,
   "id": "fa94c799",
   "metadata": {},
   "outputs": [
    {
     "data": {
      "text/plain": [
       "[Polyline(color='black', positions=[(51.3854084, -0.2959625), (51.3854184, -0.2960024), (51.3855504, -0.296483)], weight=2),\n",
       " Polyline(color='black', positions=[(51.3855504, -0.296483), (51.3855876, -0.2966153)], weight=2),\n",
       " Polyline(color='black', positions=[(51.3855876, -0.2966153), (51.3856261, -0.2967495), (51.386197, -0.298791), (51.386346, -0.2993174), (51.3863653, -0.2993864), (51.3863885, -0.2994688), (51.386673, -0.3004315), (51.3867114, -0.3005719), (51.3867659, -0.3008119)], weight=2),\n",
       " Polyline(color='black', positions=[(51.3867659, -0.3008119), (51.3867422, -0.3008155), (51.3867181, -0.3008344), (51.3867009, -0.3008643), (51.3866926, -0.3008888)], weight=2),\n",
       " Polyline(color='black', positions=[(51.3866926, -0.3008888), (51.3866909, -0.3009438), (51.3866969, -0.3009741), (51.386711, -0.3010057), (51.3867265, -0.3010243)], weight=2),\n",
       " Polyline(color='black', positions=[(51.3867265, -0.3010243), (51.3867462, -0.301036), (51.3867722, -0.3010369), (51.3867961, -0.3010232), (51.3868167, -0.3009942)], weight=2),\n",
       " Polyline(color='black', positions=[(51.3868167, -0.3009942), (51.3868746, -0.3010725), (51.3869497, -0.3011807), (51.3870476, -0.3013049), (51.3870709, -0.3013363), (51.3871036, -0.301385), (51.3871322, -0.3014325), (51.3878431, -0.3026677)], weight=2)]"
      ]
     },
     "execution_count": 10,
     "metadata": {},
     "output_type": "execute_result"
    }
   ],
   "source": [
    "## Node 2 to Node 3\n",
    "node2_to_node3 = get_turn_node(G_tolworth, 'Ewell Road', 'Kingsdowne Road', 304437, 'left')\n",
    "\n",
    "node2_3_mks, node2_3_edges = get_markers_and_polylines(G_tolworth, node2_to_node3, edge_color='orange')\n",
    "\n",
    "## Node 3 to 4\n",
    "node3_to_node4 = get_potential_roundabout_node(G_tolworth, 'Kingsdowne Road', 'Upper Brighton Road', 1736768194, exit = 3)\n",
    "node3_4_mks, node3_4_edges = get_markers_and_polylines(G_tolworth, node3_to_node4, edge_color='black')\n",
    "\n",
    "node3_4_edges"
   ]
  },
  {
   "cell_type": "code",
   "execution_count": 11,
   "id": "4898c7b9",
   "metadata": {},
   "outputs": [
    {
     "name": "stderr",
     "output_type": "stream",
     "text": [
      "/home/dave/anaconda3/envs/mapping_py12/lib/python3.12/site-packages/dash/dash.py:587: UserWarning:\n",
      "\n",
      "JupyterDash is deprecated, use Dash instead.\n",
      "See https://dash.plotly.com/dash-in-jupyter for more details.\n",
      "\n"
     ]
    },
    {
     "data": {
      "text/html": [
       "\n",
       "        <iframe\n",
       "            width=\"100%\"\n",
       "            height=\"650\"\n",
       "            src=\"http://127.0.0.1:8051/\"\n",
       "            frameborder=\"0\"\n",
       "            allowfullscreen\n",
       "            \n",
       "        ></iframe>\n",
       "        "
      ],
      "text/plain": [
       "<IPython.lib.display.IFrame at 0x7fc808057a70>"
      ]
     },
     "metadata": {},
     "output_type": "display_data"
    }
   ],
   "source": [
    "## Plot some stuffffffffffffffffffffff\n",
    "app = JupyterDash(__name__)\n",
    "app.layout = html.Div([\n",
    "    dl.Map(center=(centre_lat, centre_lon), zoom=18, children=[\n",
    "        dl.TileLayer(),\n",
    "        dl.LayerGroup(node1_to_node2_markers + \n",
    "                      node1_to_node2_edge_lines + \n",
    "                        node2_3_mks + node2_3_edges + \n",
    "                        node3_4_mks +  node3_4_edges)\n",
    "    ], style={'width': '100%', 'height': '4200px'})\n",
    "])\n",
    "\n",
    "app.run(mode='inline', port=8051)\n"
   ]
  },
  {
   "cell_type": "code",
   "execution_count": 20,
   "id": "b291edc6",
   "metadata": {},
   "outputs": [
    {
     "data": {
      "text/plain": [
       "('Upper Brighton Road', 'Upper Brighton Road', 'Brighton Road')"
      ]
     },
     "execution_count": 20,
     "metadata": {},
     "output_type": "execute_result"
    }
   ],
   "source": [
    "G_tolworth.get_edge_data(1652501763, 1736772747)[0]['name'], G_tolworth.get_edge_data(1736772747, 304097)[0]['name'], G_tolworth.get_edge_data(304097, 304098)[0]['name']"
   ]
  }
 ],
 "metadata": {
  "kernelspec": {
   "display_name": "mapping_py12",
   "language": "python",
   "name": "python3"
  },
  "language_info": {
   "codemirror_mode": {
    "name": "ipython",
    "version": 3
   },
   "file_extension": ".py",
   "mimetype": "text/x-python",
   "name": "python",
   "nbconvert_exporter": "python",
   "pygments_lexer": "ipython3",
   "version": "3.12.9"
  }
 },
 "nbformat": 4,
 "nbformat_minor": 5
}
