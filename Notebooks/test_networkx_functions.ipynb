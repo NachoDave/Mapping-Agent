{
 "cells": [
  {
   "cell_type": "markdown",
   "id": "eaa6d1f5",
   "metadata": {},
   "source": [
    "## Network X functions"
   ]
  },
  {
   "cell_type": "code",
   "execution_count": 112,
   "id": "d061c2bc",
   "metadata": {},
   "outputs": [],
   "source": [
    "## Import libraries\n",
    "import osmnx as ox\n",
    "import networkx as nx\n",
    "import math\n",
    "import dash_leaflet as dl\n",
    "from jupyter_dash import JupyterDash\n",
    "from dash import html\n",
    "import dash"
   ]
  },
  {
   "cell_type": "markdown",
   "id": "6ab4baf2",
   "metadata": {},
   "source": [
    "Test a Tolworth 04 route"
   ]
  },
  {
   "cell_type": "code",
   "execution_count": 84,
   "id": "c4e32f08",
   "metadata": {},
   "outputs": [],
   "source": [
    "start_node = 23779844\n",
    "G_tolworth = ox.graph_from_point((51.3829463, -0.2933327), dist=1000, network_type='drive')  # Adjust lat/lon to roughly London\n",
    "node_id = 10282513496\n",
    "centre_lat = 51.3829463\n",
    "centre_lon = -0.2933327"
   ]
  },
  {
   "cell_type": "code",
   "execution_count": 3,
   "id": "c5aba26f",
   "metadata": {},
   "outputs": [
    {
     "data": {
      "text/plain": [
       "networkx.classes.multidigraph.MultiDiGraph"
      ]
     },
     "execution_count": 3,
     "metadata": {},
     "output_type": "execute_result"
    }
   ],
   "source": [
    "type(G_tolworth)"
   ]
  },
  {
   "cell_type": "code",
   "execution_count": 90,
   "id": "341a7e72",
   "metadata": {},
   "outputs": [
    {
     "data": {
      "text/plain": [
       "([23780711, 23779844, 2578590287, 304437],\n",
       " [23780711, 23779844, 2578590287, 304438],\n",
       " [2578590287, 304437])"
      ]
     },
     "execution_count": 90,
     "metadata": {},
     "output_type": "execute_result"
    }
   ],
   "source": [
    "# function to get nodes on a road\n",
    "def get_nodes_on_road(G, road_name: str) -> set:\n",
    "    \"\"\"_summary_\n",
    "    Given a collection of nodes via a networkx.classes.multidigraph.MultiDiGraph find\n",
    "    all of the nodes on a given road\n",
    "\n",
    "    Args:\n",
    "        G (OSMNX digraph): Collection of nodes to investigate\n",
    "        road_name (str): Road name \n",
    "\n",
    "    Returns:\n",
    "        set: set of all osmnx nodes on a road\n",
    "    \"\"\"\n",
    "    nodes = set()\n",
    "    for u, v, data in G.edges(data=True): # u is the start node, v is the edge node, data is edge data\n",
    "        if data.get('name') == road_name:\n",
    "            nodes.add(u)\n",
    "            nodes.add(v)\n",
    "    return nodes\n",
    "\n",
    "# Function to get the angle of turn nodes\n",
    "def turn_angle(current_node: dict, shared_node: dict, neighbour_node: dict):\n",
    "    \"\"\"_summary_\n",
    "\n",
    "    Args:\n",
    "        current_node (dict): _description_\n",
    "        shared_node (dict): _description_\n",
    "        neighbour_node (dict): _description_\n",
    "\n",
    "    Returns:\n",
    "        _type_: _description_\n",
    "    \"\"\"\n",
    "    x1 =  shared_node['x'] - current_node['x']\n",
    "    y1 =  shared_node['y'] - current_node['y']\n",
    "    x2 =  neighbour_node['x'] - shared_node['x']\n",
    "    y2 =  neighbour_node['y'] - shared_node['y']\n",
    "    \n",
    "    # print(f'x1: {x1}, y1: {y1}' )\n",
    "    # print(f'x2: {x2}, y2: {y2}' )\n",
    "\n",
    "    angle1 = math.atan2(y1, x1)\n",
    "    angle2 = math.atan2(y2, x2)\n",
    "    \n",
    "    # Signed angle difference\n",
    "    angle_deg = math.degrees(angle1 - angle2)\n",
    "\n",
    "    return angle_deg + 180\n",
    "\n",
    "# Turn direction \n",
    "def get_turn_node(G, current_road_name: str, next_road_name: str, current_node: str, direction: str):\n",
    "    \"\"\"_summary_\n",
    "\n",
    "    Args:\n",
    "        G (_type_): _description_\n",
    "        current_road_name (str): _description_\n",
    "        next_road_name (str): _description_\n",
    "        current_node (str): _description_\n",
    "        direction (str): _description\n",
    "    \"\"\"\n",
    "    # 1) Get the nodes on the current road\n",
    "    curr_road_nodes = get_nodes_on_road(G, current_road_name)\n",
    "    # 2) Get the nodes on the next road\n",
    "    next_road_nodes = get_nodes_on_road(G, next_road_name)\n",
    "    # 3) Find the nodes common to both to get junction nodes \n",
    "    junc_node = list(curr_road_nodes.intersection(next_road_nodes))[0] # will need to deal with multiple nodes\n",
    "    # 4) Get neighbours of common node\n",
    "    junc_node_neighbours = [neighbour for neighbour in G.neighbors(junc_node) if neighbour in next_road_nodes]\n",
    "    # 5) Get angles of the turns\n",
    "    neigbour_angles = [turn_angle(G.nodes[current_node], G.nodes[junc_node], G.nodes[x]) for x in junc_node_neighbours]\n",
    "    # 7) Select Neighbour node dependent on turn direction\n",
    "    if direction == 'left':\n",
    "        final_node = junc_node_neighbours[neigbour_angles.index(min(neigbour_angles))]\n",
    "    elif direction == \"right\":\n",
    "        final_node = junc_node_neighbours[neigbour_angles.index(max(neigbour_angles))]\n",
    "    else:\n",
    "        pass # may need to add this??\n",
    "    # 7) Get the route from current node to final node\n",
    "    current_node_to_junction_pth = nx.shortest_path(G, source=current_node, target=junc_node)\n",
    "    junction_to_turn_pth = nx.shortest_path(G, junc_node, final_node)\n",
    "    \n",
    "    return current_node_to_junction_pth[:-1] + junction_to_turn_pth\n",
    "      \n",
    "# test functions section of cell ======================================================= ##\n",
    "#get_turn_candiates(G_tolworth, 'Douglas Road')\n",
    "\n",
    "# turn_angle(G_tolworth.nodes[start_node], G_tolworth.nodes[2578590287], G_tolworth.nodes[304437]), turn_angle(G_tolworth.nodes[start_node], G_tolworth.nodes[2578590287], G_tolworth.nodes[304438])\n",
    "# turn_angle(G_tolworth.nodes[23780711], G_tolworth.nodes[start_node], G_tolworth.nodes[2578590287])\n",
    "get_turn_node(G_tolworth, 'Douglas Road', 'Ewell Road', 23780711, 'left'), get_turn_node(G_tolworth, 'Douglas Road', 'Ewell Road', 23780711, 'right'),get_turn_node(G_tolworth, 'Douglas Road', 'Ewell Road', 2578590287, 'left')"
   ]
  },
  {
   "cell_type": "code",
   "execution_count": 57,
   "id": "a91f6832",
   "metadata": {},
   "outputs": [
    {
     "data": {
      "text/plain": [
       "({'y': 51.381894, 'x': -0.2938243, 'street_count': 3},\n",
       " {'y': 51.3844335, 'x': -0.2926397, 'street_count': 3},\n",
       " {'y': 51.3844458, 'x': -0.2926802, 'street_count': 3})"
      ]
     },
     "execution_count": 57,
     "metadata": {},
     "output_type": "execute_result"
    }
   ],
   "source": [
    "#G_tolworth.nodes[start_node]['x'] - G_tolworth.nodes[2578590287]['x']\n",
    "[x for x in G_tolworth.neighbors(2578590287)]\n",
    "G_tolworth.nodes[start_node], G_tolworth.nodes[2578590287], G_tolworth.nodes[304437]"
   ]
  },
  {
   "cell_type": "code",
   "execution_count": 34,
   "id": "f5cb13ea",
   "metadata": {},
   "outputs": [
    {
     "name": "stdout",
     "output_type": "stream",
     "text": [
      "['highway', 'street_count', 'x', 'y']\n",
      "{'y': 51.381894, 'x': -0.2938243, 'street_count': 3}\n"
     ]
    },
    {
     "data": {
      "text/plain": [
       "([23780702, 23780711, 2578590287], [23780702, 23780711, 2578590287])"
      ]
     },
     "execution_count": 34,
     "metadata": {},
     "output_type": "execute_result"
    }
   ],
   "source": [
    "# Look at some nodes\n",
    "[dx for dx in G_tolworth.neighbors(23780711)], \n",
    "\n",
    "\n",
    "all_keys = set()\n",
    "for _, attrs in G_tolworth.nodes(data=True):\n",
    "    all_keys.update(attrs.keys())\n",
    "\n",
    "print(sorted(all_keys))\n",
    "\n",
    "print(G_tolworth.nodes[start_node])\n",
    "\n",
    "[dx for dx in G_tolworth.successors(start_node)], [dx for dx in G_tolworth.predecessors(start_node)]"
   ]
  },
  {
   "cell_type": "code",
   "execution_count": 29,
   "id": "a873d7d9",
   "metadata": {},
   "outputs": [
    {
     "name": "stdout",
     "output_type": "stream",
     "text": [
      "{0: {'osmid': 251673770, 'highway': 'residential', 'maxspeed': '20 mph', 'name': 'Douglas Road', 'oneway': False, 'reversed': True, 'length': np.float64(294.1048198309258), 'geometry': <LINESTRING (-0.294 51.382, -0.294 51.382, -0.294 51.382, -0.294 51.382, -0....>}}\n",
      "{0: {'osmid': 251673770, 'highway': 'residential', 'maxspeed': '20 mph', 'name': 'Douglas Road', 'oneway': False, 'reversed': False, 'length': np.float64(294.1048198309258), 'geometry': <LINESTRING (-0.293 51.384, -0.293 51.384, -0.293 51.384, -0.293 51.383, -0....>}}\n"
     ]
    }
   ],
   "source": [
    "## Explore edges\n",
    "edge1 = G_tolworth.get_edge_data(23779844, 2578590287)#\n",
    "print(edge1)\n",
    "edge2 = G_tolworth.get_edge_data(2578590287, 23779844)#\n",
    "print(edge2)"
   ]
  },
  {
   "cell_type": "code",
   "execution_count": 150,
   "id": "f31e5ebf",
   "metadata": {},
   "outputs": [
    {
     "data": {
      "text/plain": [
       "Polyline(color='red', positions=[(51.3806375, -0.2944253), (51.3809071, -0.2942964), (51.3815349, -0.2939961), (51.381894, -0.2938243)], weight=2)"
      ]
     },
     "execution_count": 150,
     "metadata": {},
     "output_type": "execute_result"
    }
   ],
   "source": [
    "## Node 1 to node 2\n",
    "node1_to_node2 = get_turn_node(G_tolworth, 'Douglas Road', 'Ewell Road', 23780711, 'left')\n",
    "\n",
    "node1_to_node2_nodes = {node: G_tolworth.nodes[node] for node in node1_to_node2}\n",
    "\n",
    "node1_to_node2_markers = [\n",
    "    dl.Marker(position=(node1_to_node2_nodes[dx]['y'], node1_to_node2_nodes[dx]['x']), \n",
    "              children=dl.Tooltip(f'ID: {dx}, x: {node1_to_node2_nodes[dx]['x']}, y: {node1_to_node2_nodes[dx]['y']}'))\n",
    "    for dx in node1_to_node2_nodes.keys()\n",
    "    ]\n",
    "\n",
    "node1_to_node2_edges = []\n",
    "\n",
    "## Get the edges\n",
    "node1_to_node2_edges = [G_tolworth.get_edge_data(node1_to_node2[u], node1_to_node2[u + 1])[0] for u in range(len(node1_to_node2) - 1)]\n",
    "\n",
    "# for dx in node1_to_node2_edges:\n",
    "#     if 'geometry' in dx:\n",
    "#         coords = \n",
    "\n",
    "# for u, v, data in G_tolworth.edges(data=True):\n",
    "#     # Some edges have multiple geometries (from OSM), handle those first\n",
    "#     if 'geometry' in data:\n",
    "#         # If geometry is a LineString, extract lat/lon pairs\n",
    "#         coords = [(point.y, point.x) for point in data['geometry'].coords]\n",
    "#     else:\n",
    "#         # Otherwise use straight line between nodes\n",
    "#         coords = [\n",
    "#             (G_tolworth.nodes[u]['y'], G_tolworth.nodes[u]['x']),\n",
    "#             (G_tolworth.nodes[v]['y'], G_tolworth.nodes[v]['x'])\n",
    "#         ]\n",
    "    \n",
    "#     node1_to_node2_edge_lines.append(dl.Polyline(positions=coords, color='blue', weight=2))\n",
    "\n",
    "node1_to_node2_nodes\n",
    "pp = dl.Polyline(positions = [(point[1], point[0]) for point in node1_to_node2_edges[0]['geometry'].coords], color='red', weight=2)\n",
    "pp"
   ]
  },
  {
   "cell_type": "code",
   "execution_count": 151,
   "id": "4898c7b9",
   "metadata": {},
   "outputs": [
    {
     "name": "stderr",
     "output_type": "stream",
     "text": [
      "/home/dave/anaconda3/envs/mapping_py12/lib/python3.12/site-packages/dash/dash.py:587: UserWarning:\n",
      "\n",
      "JupyterDash is deprecated, use Dash instead.\n",
      "See https://dash.plotly.com/dash-in-jupyter for more details.\n",
      "\n"
     ]
    },
    {
     "data": {
      "text/html": [
       "\n",
       "        <iframe\n",
       "            width=\"100%\"\n",
       "            height=\"650\"\n",
       "            src=\"http://127.0.0.1:8051/\"\n",
       "            frameborder=\"0\"\n",
       "            allowfullscreen\n",
       "            \n",
       "        ></iframe>\n",
       "        "
      ],
      "text/plain": [
       "<IPython.lib.display.IFrame at 0x7f8dcc4645c0>"
      ]
     },
     "metadata": {},
     "output_type": "display_data"
    }
   ],
   "source": [
    "## Plot some stuffffffffffffffffffffff\n",
    "app = JupyterDash(__name__)\n",
    "app.layout = html.Div([\n",
    "    dl.Map(center=(centre_lat, centre_lon), zoom=18, children=[\n",
    "        dl.TileLayer(),\n",
    "        dl.LayerGroup(node1_to_node2_markers + [pp])\n",
    "    ], style={'width': '100%', 'height': '4200px'})\n",
    "])\n",
    "\n",
    "app.run(mode='inline', port=8051)\n"
   ]
  }
 ],
 "metadata": {
  "kernelspec": {
   "display_name": "mapping_py12",
   "language": "python",
   "name": "python3"
  },
  "language_info": {
   "codemirror_mode": {
    "name": "ipython",
    "version": 3
   },
   "file_extension": ".py",
   "mimetype": "text/x-python",
   "name": "python",
   "nbconvert_exporter": "python",
   "pygments_lexer": "ipython3",
   "version": "3.12.9"
  }
 },
 "nbformat": 4,
 "nbformat_minor": 5
}
